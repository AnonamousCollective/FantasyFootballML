{
 "cells": [
  {
   "cell_type": "code",
   "execution_count": 1,
   "metadata": {},
   "outputs": [],
   "source": [
    "# to handle datasets\n",
    "import pandas as pd\n",
    "from pandas import DataFrame\n",
    "import numpy as np\n",
    "\n",
    "# handle simple warnings\n",
    "# import warnings\n",
    "# warnings.simplefilter(action='ignore')\n",
    "# I want t see warnings\n",
    "\n",
    "\n",
    "# for plotting\n",
    "import matplotlib.pyplot as plt\n",
    "import seaborn as sns\n",
    "\n",
    "# to see all dataframe columns\n",
    "pd.pandas.set_option('display.max_columns', None)"
   ]
  },
  {
   "cell_type": "code",
   "execution_count": 2,
   "metadata": {},
   "outputs": [],
   "source": [
    "# load dataset\n",
    "ffmlDf = pd.read_csv('ffmlDf_20-21')"
   ]
  },
  {
   "cell_type": "code",
   "execution_count": 3,
   "metadata": {},
   "outputs": [
    {
     "data": {
      "text/html": [
       "<div>\n",
       "<style scoped>\n",
       "    .dataframe tbody tr th:only-of-type {\n",
       "        vertical-align: middle;\n",
       "    }\n",
       "\n",
       "    .dataframe tbody tr th {\n",
       "        vertical-align: top;\n",
       "    }\n",
       "\n",
       "    .dataframe thead th {\n",
       "        text-align: right;\n",
       "    }\n",
       "</style>\n",
       "<table border=\"1\" class=\"dataframe\">\n",
       "  <thead>\n",
       "    <tr style=\"text-align: right;\">\n",
       "      <th></th>\n",
       "      <th>Unnamed: 0</th>\n",
       "      <th>points</th>\n",
       "      <th>minsPlayed</th>\n",
       "      <th>goalsScored</th>\n",
       "      <th>assists</th>\n",
       "      <th>cleanSheets</th>\n",
       "      <th>goalsConceded</th>\n",
       "      <th>ownGoals</th>\n",
       "      <th>penSaved</th>\n",
       "      <th>penMissed</th>\n",
       "      <th>yelCards</th>\n",
       "      <th>redCards</th>\n",
       "      <th>saves</th>\n",
       "      <th>bonus</th>\n",
       "      <th>bonusPointSystem</th>\n",
       "      <th>influence</th>\n",
       "      <th>creativity</th>\n",
       "      <th>threat</th>\n",
       "      <th>ictIndex</th>\n",
       "      <th>netTransfers</th>\n",
       "      <th>selectedBy</th>\n",
       "      <th>costGBP</th>\n",
       "      <th>gameDate</th>\n",
       "      <th>playerName</th>\n",
       "      <th>oppositionTeam</th>\n",
       "    </tr>\n",
       "  </thead>\n",
       "  <tbody>\n",
       "    <tr>\n",
       "      <th>0</th>\n",
       "      <td>0</td>\n",
       "      <td>0</td>\n",
       "      <td>0</td>\n",
       "      <td>0</td>\n",
       "      <td>0</td>\n",
       "      <td>0</td>\n",
       "      <td>0</td>\n",
       "      <td>0</td>\n",
       "      <td>0</td>\n",
       "      <td>0</td>\n",
       "      <td>0</td>\n",
       "      <td>0</td>\n",
       "      <td>0</td>\n",
       "      <td>0</td>\n",
       "      <td>0</td>\n",
       "      <td>0.0</td>\n",
       "      <td>0.0</td>\n",
       "      <td>0.0</td>\n",
       "      <td>0.0</td>\n",
       "      <td>0</td>\n",
       "      <td>76656</td>\n",
       "      <td>7.0</td>\n",
       "      <td>2020-09-12</td>\n",
       "      <td>('Mesut', 'Özil')</td>\n",
       "      <td>Fulham</td>\n",
       "    </tr>\n",
       "    <tr>\n",
       "      <th>1</th>\n",
       "      <td>6378</td>\n",
       "      <td>6</td>\n",
       "      <td>90</td>\n",
       "      <td>0</td>\n",
       "      <td>0</td>\n",
       "      <td>1</td>\n",
       "      <td>0</td>\n",
       "      <td>0</td>\n",
       "      <td>0</td>\n",
       "      <td>0</td>\n",
       "      <td>0</td>\n",
       "      <td>0</td>\n",
       "      <td>0</td>\n",
       "      <td>0</td>\n",
       "      <td>27</td>\n",
       "      <td>26.0</td>\n",
       "      <td>0.1</td>\n",
       "      <td>2.0</td>\n",
       "      <td>2.8</td>\n",
       "      <td>0</td>\n",
       "      <td>88657</td>\n",
       "      <td>5.0</td>\n",
       "      <td>2020-09-12</td>\n",
       "      <td>('Federico', 'Fernández')</td>\n",
       "      <td>West Ham United</td>\n",
       "    </tr>\n",
       "    <tr>\n",
       "      <th>2</th>\n",
       "      <td>6394</td>\n",
       "      <td>0</td>\n",
       "      <td>0</td>\n",
       "      <td>0</td>\n",
       "      <td>0</td>\n",
       "      <td>0</td>\n",
       "      <td>0</td>\n",
       "      <td>0</td>\n",
       "      <td>0</td>\n",
       "      <td>0</td>\n",
       "      <td>0</td>\n",
       "      <td>0</td>\n",
       "      <td>0</td>\n",
       "      <td>0</td>\n",
       "      <td>0</td>\n",
       "      <td>0.0</td>\n",
       "      <td>0.0</td>\n",
       "      <td>0.0</td>\n",
       "      <td>0.0</td>\n",
       "      <td>0</td>\n",
       "      <td>3326</td>\n",
       "      <td>4.5</td>\n",
       "      <td>2020-09-12</td>\n",
       "      <td>('Ciaran', 'Clark')</td>\n",
       "      <td>West Ham United</td>\n",
       "    </tr>\n",
       "    <tr>\n",
       "      <th>3</th>\n",
       "      <td>6410</td>\n",
       "      <td>7</td>\n",
       "      <td>90</td>\n",
       "      <td>0</td>\n",
       "      <td>0</td>\n",
       "      <td>1</td>\n",
       "      <td>0</td>\n",
       "      <td>0</td>\n",
       "      <td>0</td>\n",
       "      <td>0</td>\n",
       "      <td>0</td>\n",
       "      <td>0</td>\n",
       "      <td>3</td>\n",
       "      <td>0</td>\n",
       "      <td>26</td>\n",
       "      <td>27.0</td>\n",
       "      <td>0.0</td>\n",
       "      <td>0.0</td>\n",
       "      <td>2.7</td>\n",
       "      <td>0</td>\n",
       "      <td>13715</td>\n",
       "      <td>5.0</td>\n",
       "      <td>2020-09-12</td>\n",
       "      <td>('Karl', 'Darlow')</td>\n",
       "      <td>West Ham United</td>\n",
       "    </tr>\n",
       "    <tr>\n",
       "      <th>4</th>\n",
       "      <td>6426</td>\n",
       "      <td>0</td>\n",
       "      <td>0</td>\n",
       "      <td>0</td>\n",
       "      <td>0</td>\n",
       "      <td>0</td>\n",
       "      <td>0</td>\n",
       "      <td>0</td>\n",
       "      <td>0</td>\n",
       "      <td>0</td>\n",
       "      <td>0</td>\n",
       "      <td>0</td>\n",
       "      <td>0</td>\n",
       "      <td>0</td>\n",
       "      <td>0</td>\n",
       "      <td>0.0</td>\n",
       "      <td>0.0</td>\n",
       "      <td>0.0</td>\n",
       "      <td>0.0</td>\n",
       "      <td>0</td>\n",
       "      <td>27245</td>\n",
       "      <td>5.0</td>\n",
       "      <td>2020-09-12</td>\n",
       "      <td>('Martin', 'Dubravka')</td>\n",
       "      <td>West Ham United</td>\n",
       "    </tr>\n",
       "  </tbody>\n",
       "</table>\n",
       "</div>"
      ],
      "text/plain": [
       "   Unnamed: 0  points  minsPlayed  goalsScored  assists  cleanSheets  \\\n",
       "0           0       0           0            0        0            0   \n",
       "1        6378       6          90            0        0            1   \n",
       "2        6394       0           0            0        0            0   \n",
       "3        6410       7          90            0        0            1   \n",
       "4        6426       0           0            0        0            0   \n",
       "\n",
       "   goalsConceded  ownGoals  penSaved  penMissed  yelCards  redCards  saves  \\\n",
       "0              0         0         0          0         0         0      0   \n",
       "1              0         0         0          0         0         0      0   \n",
       "2              0         0         0          0         0         0      0   \n",
       "3              0         0         0          0         0         0      3   \n",
       "4              0         0         0          0         0         0      0   \n",
       "\n",
       "   bonus  bonusPointSystem  influence  creativity  threat  ictIndex  \\\n",
       "0      0                 0        0.0         0.0     0.0       0.0   \n",
       "1      0                27       26.0         0.1     2.0       2.8   \n",
       "2      0                 0        0.0         0.0     0.0       0.0   \n",
       "3      0                26       27.0         0.0     0.0       2.7   \n",
       "4      0                 0        0.0         0.0     0.0       0.0   \n",
       "\n",
       "   netTransfers  selectedBy  costGBP    gameDate                 playerName  \\\n",
       "0             0       76656      7.0  2020-09-12          ('Mesut', 'Özil')   \n",
       "1             0       88657      5.0  2020-09-12  ('Federico', 'Fernández')   \n",
       "2             0        3326      4.5  2020-09-12        ('Ciaran', 'Clark')   \n",
       "3             0       13715      5.0  2020-09-12         ('Karl', 'Darlow')   \n",
       "4             0       27245      5.0  2020-09-12     ('Martin', 'Dubravka')   \n",
       "\n",
       "    oppositionTeam  \n",
       "0           Fulham  \n",
       "1  West Ham United  \n",
       "2  West Ham United  \n",
       "3  West Ham United  \n",
       "4  West Ham United  "
      ]
     },
     "execution_count": 3,
     "metadata": {},
     "output_type": "execute_result"
    }
   ],
   "source": [
    "ffmlDf.head()\n",
    "# use this to see if there are any columns that don't provide value\n",
    "# index's do not provide value"
   ]
  },
  {
   "cell_type": "code",
   "execution_count": 4,
   "metadata": {},
   "outputs": [],
   "source": [
    "# drop 'unnamed: 0' as it is an index\n",
    "ffmlDf = ffmlDf.drop(columns=['Unnamed: 0'])"
   ]
  },
  {
   "cell_type": "code",
   "execution_count": 5,
   "metadata": {},
   "outputs": [
    {
     "data": {
      "text/plain": [
       "(9685, 24)"
      ]
     },
     "execution_count": 5,
     "metadata": {},
     "output_type": "execute_result"
    }
   ],
   "source": [
    "ffmlDf.shape"
   ]
  },
  {
   "cell_type": "code",
   "execution_count": 6,
   "metadata": {},
   "outputs": [
    {
     "data": {
      "text/plain": [
       "Series([], dtype: float64)"
      ]
     },
     "execution_count": 6,
     "metadata": {},
     "output_type": "execute_result"
    }
   ],
   "source": [
    "# missing values\n",
    "# if a column has one or more missing values within it\n",
    "vars_with_na = [var for var in ffmlDf.columns if ffmlDf[var].isnull().sum() > 0]\n",
    "\n",
    "ffmlDf[vars_with_na].isnull().mean()\n",
    "# there are no null values\n",
    "\n",
    "# to verify run:\n",
    "# print(len(vars_with_na))"
   ]
  },
  {
   "cell_type": "code",
   "execution_count": 7,
   "metadata": {},
   "outputs": [],
   "source": [
    "# what happens if I remove all data where mins played == 0"
   ]
  },
  {
   "cell_type": "code",
   "execution_count": 8,
   "metadata": {},
   "outputs": [
    {
     "data": {
      "text/html": [
       "<div>\n",
       "<style scoped>\n",
       "    .dataframe tbody tr th:only-of-type {\n",
       "        vertical-align: middle;\n",
       "    }\n",
       "\n",
       "    .dataframe tbody tr th {\n",
       "        vertical-align: top;\n",
       "    }\n",
       "\n",
       "    .dataframe thead th {\n",
       "        text-align: right;\n",
       "    }\n",
       "</style>\n",
       "<table border=\"1\" class=\"dataframe\">\n",
       "  <thead>\n",
       "    <tr style=\"text-align: right;\">\n",
       "      <th></th>\n",
       "      <th>points</th>\n",
       "      <th>minsPlayed</th>\n",
       "      <th>goalsScored</th>\n",
       "      <th>assists</th>\n",
       "      <th>cleanSheets</th>\n",
       "      <th>goalsConceded</th>\n",
       "      <th>ownGoals</th>\n",
       "      <th>penSaved</th>\n",
       "      <th>penMissed</th>\n",
       "      <th>yelCards</th>\n",
       "      <th>redCards</th>\n",
       "      <th>saves</th>\n",
       "      <th>bonus</th>\n",
       "      <th>bonusPointSystem</th>\n",
       "      <th>influence</th>\n",
       "      <th>creativity</th>\n",
       "      <th>threat</th>\n",
       "      <th>ictIndex</th>\n",
       "      <th>netTransfers</th>\n",
       "      <th>selectedBy</th>\n",
       "      <th>costGBP</th>\n",
       "      <th>gameDate</th>\n",
       "      <th>playerName</th>\n",
       "      <th>oppositionTeam</th>\n",
       "    </tr>\n",
       "  </thead>\n",
       "  <tbody>\n",
       "    <tr>\n",
       "      <th>1</th>\n",
       "      <td>6.0</td>\n",
       "      <td>90.0</td>\n",
       "      <td>0.0</td>\n",
       "      <td>0.0</td>\n",
       "      <td>1.0</td>\n",
       "      <td>0.0</td>\n",
       "      <td>0.0</td>\n",
       "      <td>0.0</td>\n",
       "      <td>0.0</td>\n",
       "      <td>0.0</td>\n",
       "      <td>0.0</td>\n",
       "      <td>0.0</td>\n",
       "      <td>0.0</td>\n",
       "      <td>27.0</td>\n",
       "      <td>26.0</td>\n",
       "      <td>0.1</td>\n",
       "      <td>2.0</td>\n",
       "      <td>2.8</td>\n",
       "      <td>0.0</td>\n",
       "      <td>88657.0</td>\n",
       "      <td>5.0</td>\n",
       "      <td>2020-09-12</td>\n",
       "      <td>('Federico', 'Fernández')</td>\n",
       "      <td>West Ham United</td>\n",
       "    </tr>\n",
       "    <tr>\n",
       "      <th>3</th>\n",
       "      <td>7.0</td>\n",
       "      <td>90.0</td>\n",
       "      <td>0.0</td>\n",
       "      <td>0.0</td>\n",
       "      <td>1.0</td>\n",
       "      <td>0.0</td>\n",
       "      <td>0.0</td>\n",
       "      <td>0.0</td>\n",
       "      <td>0.0</td>\n",
       "      <td>0.0</td>\n",
       "      <td>0.0</td>\n",
       "      <td>3.0</td>\n",
       "      <td>0.0</td>\n",
       "      <td>26.0</td>\n",
       "      <td>27.0</td>\n",
       "      <td>0.0</td>\n",
       "      <td>0.0</td>\n",
       "      <td>2.7</td>\n",
       "      <td>0.0</td>\n",
       "      <td>13715.0</td>\n",
       "      <td>5.0</td>\n",
       "      <td>2020-09-12</td>\n",
       "      <td>('Karl', 'Darlow')</td>\n",
       "      <td>West Ham United</td>\n",
       "    </tr>\n",
       "    <tr>\n",
       "      <th>7</th>\n",
       "      <td>6.0</td>\n",
       "      <td>90.0</td>\n",
       "      <td>0.0</td>\n",
       "      <td>0.0</td>\n",
       "      <td>1.0</td>\n",
       "      <td>0.0</td>\n",
       "      <td>0.0</td>\n",
       "      <td>0.0</td>\n",
       "      <td>0.0</td>\n",
       "      <td>0.0</td>\n",
       "      <td>0.0</td>\n",
       "      <td>0.0</td>\n",
       "      <td>0.0</td>\n",
       "      <td>21.0</td>\n",
       "      <td>21.8</td>\n",
       "      <td>0.3</td>\n",
       "      <td>0.0</td>\n",
       "      <td>2.2</td>\n",
       "      <td>0.0</td>\n",
       "      <td>219489.0</td>\n",
       "      <td>4.5</td>\n",
       "      <td>2020-09-12</td>\n",
       "      <td>('Jamaal', 'Lascelles')</td>\n",
       "      <td>West Ham United</td>\n",
       "    </tr>\n",
       "    <tr>\n",
       "      <th>11</th>\n",
       "      <td>5.0</td>\n",
       "      <td>90.0</td>\n",
       "      <td>0.0</td>\n",
       "      <td>0.0</td>\n",
       "      <td>1.0</td>\n",
       "      <td>0.0</td>\n",
       "      <td>0.0</td>\n",
       "      <td>0.0</td>\n",
       "      <td>0.0</td>\n",
       "      <td>1.0</td>\n",
       "      <td>0.0</td>\n",
       "      <td>0.0</td>\n",
       "      <td>0.0</td>\n",
       "      <td>27.0</td>\n",
       "      <td>22.4</td>\n",
       "      <td>19.7</td>\n",
       "      <td>2.0</td>\n",
       "      <td>4.4</td>\n",
       "      <td>0.0</td>\n",
       "      <td>21964.0</td>\n",
       "      <td>4.5</td>\n",
       "      <td>2020-09-12</td>\n",
       "      <td>('Javier', 'Manquillo')</td>\n",
       "      <td>West Ham United</td>\n",
       "    </tr>\n",
       "    <tr>\n",
       "      <th>16</th>\n",
       "      <td>2.0</td>\n",
       "      <td>90.0</td>\n",
       "      <td>0.0</td>\n",
       "      <td>0.0</td>\n",
       "      <td>1.0</td>\n",
       "      <td>0.0</td>\n",
       "      <td>0.0</td>\n",
       "      <td>0.0</td>\n",
       "      <td>0.0</td>\n",
       "      <td>1.0</td>\n",
       "      <td>0.0</td>\n",
       "      <td>0.0</td>\n",
       "      <td>0.0</td>\n",
       "      <td>12.0</td>\n",
       "      <td>12.8</td>\n",
       "      <td>2.0</td>\n",
       "      <td>0.0</td>\n",
       "      <td>1.5</td>\n",
       "      <td>0.0</td>\n",
       "      <td>5941.0</td>\n",
       "      <td>5.0</td>\n",
       "      <td>2020-09-12</td>\n",
       "      <td>('Isaac', 'Hayden')</td>\n",
       "      <td>West Ham United</td>\n",
       "    </tr>\n",
       "    <tr>\n",
       "      <th>...</th>\n",
       "      <td>...</td>\n",
       "      <td>...</td>\n",
       "      <td>...</td>\n",
       "      <td>...</td>\n",
       "      <td>...</td>\n",
       "      <td>...</td>\n",
       "      <td>...</td>\n",
       "      <td>...</td>\n",
       "      <td>...</td>\n",
       "      <td>...</td>\n",
       "      <td>...</td>\n",
       "      <td>...</td>\n",
       "      <td>...</td>\n",
       "      <td>...</td>\n",
       "      <td>...</td>\n",
       "      <td>...</td>\n",
       "      <td>...</td>\n",
       "      <td>...</td>\n",
       "      <td>...</td>\n",
       "      <td>...</td>\n",
       "      <td>...</td>\n",
       "      <td>...</td>\n",
       "      <td>...</td>\n",
       "      <td>...</td>\n",
       "    </tr>\n",
       "    <tr>\n",
       "      <th>9675</th>\n",
       "      <td>1.0</td>\n",
       "      <td>56.0</td>\n",
       "      <td>0.0</td>\n",
       "      <td>0.0</td>\n",
       "      <td>0.0</td>\n",
       "      <td>1.0</td>\n",
       "      <td>0.0</td>\n",
       "      <td>0.0</td>\n",
       "      <td>0.0</td>\n",
       "      <td>0.0</td>\n",
       "      <td>0.0</td>\n",
       "      <td>0.0</td>\n",
       "      <td>0.0</td>\n",
       "      <td>0.0</td>\n",
       "      <td>0.0</td>\n",
       "      <td>0.0</td>\n",
       "      <td>0.0</td>\n",
       "      <td>0.0</td>\n",
       "      <td>0.0</td>\n",
       "      <td>3207.0</td>\n",
       "      <td>6.5</td>\n",
       "      <td>2021-01-04</td>\n",
       "      <td>('Alex', 'Oxlade-Chamberlain')</td>\n",
       "      <td>Southampton</td>\n",
       "    </tr>\n",
       "    <tr>\n",
       "      <th>9676</th>\n",
       "      <td>0.0</td>\n",
       "      <td>33.0</td>\n",
       "      <td>0.0</td>\n",
       "      <td>0.0</td>\n",
       "      <td>0.0</td>\n",
       "      <td>0.0</td>\n",
       "      <td>0.0</td>\n",
       "      <td>0.0</td>\n",
       "      <td>0.0</td>\n",
       "      <td>1.0</td>\n",
       "      <td>0.0</td>\n",
       "      <td>0.0</td>\n",
       "      <td>0.0</td>\n",
       "      <td>0.0</td>\n",
       "      <td>0.0</td>\n",
       "      <td>0.0</td>\n",
       "      <td>0.0</td>\n",
       "      <td>0.0</td>\n",
       "      <td>0.0</td>\n",
       "      <td>4288.0</td>\n",
       "      <td>6.5</td>\n",
       "      <td>2021-01-04</td>\n",
       "      <td>('Xherdan', 'Shaqiri')</td>\n",
       "      <td>Southampton</td>\n",
       "    </tr>\n",
       "    <tr>\n",
       "      <th>9679</th>\n",
       "      <td>2.0</td>\n",
       "      <td>90.0</td>\n",
       "      <td>0.0</td>\n",
       "      <td>0.0</td>\n",
       "      <td>0.0</td>\n",
       "      <td>1.0</td>\n",
       "      <td>0.0</td>\n",
       "      <td>0.0</td>\n",
       "      <td>0.0</td>\n",
       "      <td>0.0</td>\n",
       "      <td>0.0</td>\n",
       "      <td>0.0</td>\n",
       "      <td>0.0</td>\n",
       "      <td>19.0</td>\n",
       "      <td>14.0</td>\n",
       "      <td>2.0</td>\n",
       "      <td>7.0</td>\n",
       "      <td>2.3</td>\n",
       "      <td>0.0</td>\n",
       "      <td>180668.0</td>\n",
       "      <td>5.5</td>\n",
       "      <td>2021-01-04</td>\n",
       "      <td>('Jordan', 'Henderson')</td>\n",
       "      <td>Southampton</td>\n",
       "    </tr>\n",
       "    <tr>\n",
       "      <th>9680</th>\n",
       "      <td>2.0</td>\n",
       "      <td>90.0</td>\n",
       "      <td>0.0</td>\n",
       "      <td>0.0</td>\n",
       "      <td>0.0</td>\n",
       "      <td>1.0</td>\n",
       "      <td>0.0</td>\n",
       "      <td>0.0</td>\n",
       "      <td>0.0</td>\n",
       "      <td>0.0</td>\n",
       "      <td>0.0</td>\n",
       "      <td>0.0</td>\n",
       "      <td>0.0</td>\n",
       "      <td>9.0</td>\n",
       "      <td>15.8</td>\n",
       "      <td>23.0</td>\n",
       "      <td>35.0</td>\n",
       "      <td>7.4</td>\n",
       "      <td>0.0</td>\n",
       "      <td>120632.0</td>\n",
       "      <td>5.5</td>\n",
       "      <td>2021-01-04</td>\n",
       "      <td>('Georginio', 'Wijnaldum')</td>\n",
       "      <td>Southampton</td>\n",
       "    </tr>\n",
       "    <tr>\n",
       "      <th>9682</th>\n",
       "      <td>1.0</td>\n",
       "      <td>13.0</td>\n",
       "      <td>0.0</td>\n",
       "      <td>0.0</td>\n",
       "      <td>0.0</td>\n",
       "      <td>0.0</td>\n",
       "      <td>0.0</td>\n",
       "      <td>0.0</td>\n",
       "      <td>0.0</td>\n",
       "      <td>0.0</td>\n",
       "      <td>0.0</td>\n",
       "      <td>0.0</td>\n",
       "      <td>0.0</td>\n",
       "      <td>0.0</td>\n",
       "      <td>0.0</td>\n",
       "      <td>0.0</td>\n",
       "      <td>0.0</td>\n",
       "      <td>0.0</td>\n",
       "      <td>0.0</td>\n",
       "      <td>12449.0</td>\n",
       "      <td>5.5</td>\n",
       "      <td>2021-01-04</td>\n",
       "      <td>('James', 'Milner')</td>\n",
       "      <td>Southampton</td>\n",
       "    </tr>\n",
       "  </tbody>\n",
       "</table>\n",
       "<p>4480 rows × 24 columns</p>\n",
       "</div>"
      ],
      "text/plain": [
       "      points  minsPlayed  goalsScored  assists  cleanSheets  goalsConceded  \\\n",
       "1        6.0        90.0          0.0      0.0          1.0            0.0   \n",
       "3        7.0        90.0          0.0      0.0          1.0            0.0   \n",
       "7        6.0        90.0          0.0      0.0          1.0            0.0   \n",
       "11       5.0        90.0          0.0      0.0          1.0            0.0   \n",
       "16       2.0        90.0          0.0      0.0          1.0            0.0   \n",
       "...      ...         ...          ...      ...          ...            ...   \n",
       "9675     1.0        56.0          0.0      0.0          0.0            1.0   \n",
       "9676     0.0        33.0          0.0      0.0          0.0            0.0   \n",
       "9679     2.0        90.0          0.0      0.0          0.0            1.0   \n",
       "9680     2.0        90.0          0.0      0.0          0.0            1.0   \n",
       "9682     1.0        13.0          0.0      0.0          0.0            0.0   \n",
       "\n",
       "      ownGoals  penSaved  penMissed  yelCards  redCards  saves  bonus  \\\n",
       "1          0.0       0.0        0.0       0.0       0.0    0.0    0.0   \n",
       "3          0.0       0.0        0.0       0.0       0.0    3.0    0.0   \n",
       "7          0.0       0.0        0.0       0.0       0.0    0.0    0.0   \n",
       "11         0.0       0.0        0.0       1.0       0.0    0.0    0.0   \n",
       "16         0.0       0.0        0.0       1.0       0.0    0.0    0.0   \n",
       "...        ...       ...        ...       ...       ...    ...    ...   \n",
       "9675       0.0       0.0        0.0       0.0       0.0    0.0    0.0   \n",
       "9676       0.0       0.0        0.0       1.0       0.0    0.0    0.0   \n",
       "9679       0.0       0.0        0.0       0.0       0.0    0.0    0.0   \n",
       "9680       0.0       0.0        0.0       0.0       0.0    0.0    0.0   \n",
       "9682       0.0       0.0        0.0       0.0       0.0    0.0    0.0   \n",
       "\n",
       "      bonusPointSystem  influence  creativity  threat  ictIndex  netTransfers  \\\n",
       "1                 27.0       26.0         0.1     2.0       2.8           0.0   \n",
       "3                 26.0       27.0         0.0     0.0       2.7           0.0   \n",
       "7                 21.0       21.8         0.3     0.0       2.2           0.0   \n",
       "11                27.0       22.4        19.7     2.0       4.4           0.0   \n",
       "16                12.0       12.8         2.0     0.0       1.5           0.0   \n",
       "...                ...        ...         ...     ...       ...           ...   \n",
       "9675               0.0        0.0         0.0     0.0       0.0           0.0   \n",
       "9676               0.0        0.0         0.0     0.0       0.0           0.0   \n",
       "9679              19.0       14.0         2.0     7.0       2.3           0.0   \n",
       "9680               9.0       15.8        23.0    35.0       7.4           0.0   \n",
       "9682               0.0        0.0         0.0     0.0       0.0           0.0   \n",
       "\n",
       "      selectedBy  costGBP    gameDate                      playerName  \\\n",
       "1        88657.0      5.0  2020-09-12       ('Federico', 'Fernández')   \n",
       "3        13715.0      5.0  2020-09-12              ('Karl', 'Darlow')   \n",
       "7       219489.0      4.5  2020-09-12         ('Jamaal', 'Lascelles')   \n",
       "11       21964.0      4.5  2020-09-12         ('Javier', 'Manquillo')   \n",
       "16        5941.0      5.0  2020-09-12             ('Isaac', 'Hayden')   \n",
       "...          ...      ...         ...                             ...   \n",
       "9675      3207.0      6.5  2021-01-04  ('Alex', 'Oxlade-Chamberlain')   \n",
       "9676      4288.0      6.5  2021-01-04          ('Xherdan', 'Shaqiri')   \n",
       "9679    180668.0      5.5  2021-01-04         ('Jordan', 'Henderson')   \n",
       "9680    120632.0      5.5  2021-01-04      ('Georginio', 'Wijnaldum')   \n",
       "9682     12449.0      5.5  2021-01-04             ('James', 'Milner')   \n",
       "\n",
       "       oppositionTeam  \n",
       "1     West Ham United  \n",
       "3     West Ham United  \n",
       "7     West Ham United  \n",
       "11    West Ham United  \n",
       "16    West Ham United  \n",
       "...               ...  \n",
       "9675      Southampton  \n",
       "9676      Southampton  \n",
       "9679      Southampton  \n",
       "9680      Southampton  \n",
       "9682      Southampton  \n",
       "\n",
       "[4480 rows x 24 columns]"
      ]
     },
     "execution_count": 8,
     "metadata": {},
     "output_type": "execute_result"
    }
   ],
   "source": [
    "# remove zerominsplayed\n",
    "\n",
    "def RemoveZeroMinsPlayed(df):\n",
    "    df = df.copy().where(df['minsPlayed'] != 0)\n",
    "    df.dropna(axis=0, inplace=True)\n",
    "    return df\n",
    "\n",
    "zero_mins_played = RemoveZeroMinsPlayed(ffmlDf)\n",
    "zero_mins_played\n",
    "# now repeat the actions to view the cont and disc distibutions"
   ]
  },
  {
   "cell_type": "code",
   "execution_count": 9,
   "metadata": {},
   "outputs": [],
   "source": [
    "# move forward with zero mins played as the main df\n",
    "# players who do not play a match offer no useful information\n",
    "# for the model\n",
    "ffmlDf = zero_mins_played"
   ]
  },
  {
   "cell_type": "code",
   "execution_count": null,
   "metadata": {},
   "outputs": [],
   "source": []
  },
  {
   "cell_type": "code",
   "execution_count": 10,
   "metadata": {},
   "outputs": [
    {
     "name": "stdout",
     "output_type": "stream",
     "text": [
      "21 out of 24 are numerical variables\n"
     ]
    },
    {
     "data": {
      "text/plain": [
       "['points',\n",
       " 'minsPlayed',\n",
       " 'goalsScored',\n",
       " 'assists',\n",
       " 'cleanSheets',\n",
       " 'goalsConceded',\n",
       " 'ownGoals',\n",
       " 'penSaved',\n",
       " 'penMissed',\n",
       " 'yelCards',\n",
       " 'redCards',\n",
       " 'saves',\n",
       " 'bonus',\n",
       " 'bonusPointSystem',\n",
       " 'influence',\n",
       " 'creativity',\n",
       " 'threat',\n",
       " 'ictIndex',\n",
       " 'netTransfers',\n",
       " 'selectedBy',\n",
       " 'costGBP']"
      ]
     },
     "execution_count": 10,
     "metadata": {},
     "output_type": "execute_result"
    }
   ],
   "source": [
    "# group numerical variables\n",
    "\n",
    "num_vars = [var for var in ffmlDf.columns if ffmlDf[var].dtypes != 'O']\n",
    "\n",
    "print(len(num_vars),'out of',len(ffmlDf.columns),'are numerical variables')\n",
    "num_vars"
   ]
  },
  {
   "cell_type": "code",
   "execution_count": 11,
   "metadata": {},
   "outputs": [
    {
     "name": "stdout",
     "output_type": "stream",
     "text": [
      "points : 27\n",
      "minsPlayed : 88\n",
      "goalsScored : 5\n",
      "assists : 5\n",
      "cleanSheets : 2\n",
      "goalsConceded : 8\n",
      "ownGoals : 2\n",
      "penSaved : 2\n",
      "penMissed : 2\n",
      "yelCards : 2\n",
      "redCards : 2\n",
      "saves : 11\n",
      "bonus : 4\n",
      "bonusPointSystem : 48\n",
      "influence : 149\n",
      "creativity : 149\n",
      "threat : 53\n",
      "ictIndex : 94\n",
      "netTransfers : 110\n",
      "selectedBy : 436\n",
      "costGBP : 16\n"
     ]
    }
   ],
   "source": [
    "# separate discrete and continuous numerical variables for further analysis\n",
    "# dicrete and continuous normally separated by unique values\n",
    "for var in num_vars:\n",
    "    print(var,':',ffmlDf[var].nunique())\n",
    "    \n",
    "# discrete_vars: variables that are counted\n",
    "# continuous_vars: variables that are measured"
   ]
  },
  {
   "cell_type": "code",
   "execution_count": 12,
   "metadata": {},
   "outputs": [
    {
     "data": {
      "text/plain": [
       "['minsPlayed',\n",
       " 'goalsScored',\n",
       " 'assists',\n",
       " 'cleanSheets',\n",
       " 'goalsConceded',\n",
       " 'ownGoals',\n",
       " 'penSaved',\n",
       " 'penMissed',\n",
       " 'yelCards',\n",
       " 'redCards',\n",
       " 'saves',\n",
       " 'bonus']"
      ]
     },
     "execution_count": 12,
     "metadata": {},
     "output_type": "execute_result"
    }
   ],
   "source": [
    "# get discrete vars\n",
    "\n",
    "discrete_vars = [\n",
    "    var for var in num_vars\n",
    "    if ffmlDf[var].nunique() < 15 or var == 'minsPlayed'\n",
    "]\n",
    "discrete_vars"
   ]
  },
  {
   "cell_type": "code",
   "execution_count": 13,
   "metadata": {},
   "outputs": [
    {
     "data": {
      "image/png": "[encoded data removed]",
      "text/plain": [
       "<Figure size 432x288 with 1 Axes>"
      ]
     },
     "metadata": {
      "needs_background": "light"
     },
     "output_type": "display_data"
    },
    {
     "data": {
      "image/png": "[encoded data removed]",
      "text/plain": [
       "<Figure size 432x288 with 1 Axes>"
      ]
     },
     "metadata": {
      "needs_background": "light"
     },
     "output_type": "display_data"
    },
    {
     "data": {
      "image/png": "[encoded data removed]",
      "text/plain": [
       "<Figure size 432x288 with 1 Axes>"
      ]
     },
     "metadata": {
      "needs_background": "light"
     },
     "output_type": "display_data"
    },
    {
     "data": {
      "image/png": "[encoded data removed]",
      "text/plain": [
       "<Figure size 432x288 with 1 Axes>"
      ]
     },
     "metadata": {
      "needs_background": "light"
     },
     "output_type": "display_data"
    },
    {
     "data": {
      "image/png": "[encoded data removed]",
      "text/plain": [
       "<Figure size 432x288 with 1 Axes>"
      ]
     },
     "metadata": {
      "needs_background": "light"
     },
     "output_type": "display_data"
    },
    {
     "data": {
      "image/png": "[encoded data removed]",
      "text/plain": [
       "<Figure size 432x288 with 1 Axes>"
      ]
     },
     "metadata": {
      "needs_background": "light"
     },
     "output_type": "display_data"
    },
    {
     "data": {
      "image/png": "[encoded data removed]",
      "text/plain": [
       "<Figure size 432x288 with 1 Axes>"
      ]
     },
     "metadata": {
      "needs_background": "light"
     },
     "output_type": "display_data"
    },
    {
     "data": {
      "image/png": "[encoded data removed]",
      "text/plain": [
       "<Figure size 432x288 with 1 Axes>"
      ]
     },
     "metadata": {
      "needs_background": "light"
     },
     "output_type": "display_data"
    },
    {
     "data": {
      "image/png": "[encoded data removed]",
      "text/plain": [
       "<Figure size 432x288 with 1 Axes>"
      ]
     },
     "metadata": {
      "needs_background": "light"
     },
     "output_type": "display_data"
    },
    {
     "data": {
      "image/png": "[encoded data removed]",
      "text/plain": [
       "<Figure size 432x288 with 1 Axes>"
      ]
     },
     "metadata": {
      "needs_background": "light"
     },
     "output_type": "display_data"
    },
    {
     "data": {
      "image/png": "[encoded data removed]",
      "text/plain": [
       "<Figure size 432x288 with 1 Axes>"
      ]
     },
     "metadata": {
      "needs_background": "light"
     },
     "output_type": "display_data"
    },
    {
     "data": {
      "image/png": "[encoded data removed]",
      "text/plain": [
       "<Figure size 432x288 with 1 Axes>"
      ]
     },
     "metadata": {
      "needs_background": "light"
     },
     "output_type": "display_data"
    }
   ],
   "source": [
    "# plot num_vars as a bar (good for discrete)\n",
    "\n",
    "def BarPlotNumVars(var, df):\n",
    "    df = df.copy()\n",
    "    df.groupby(var)['points'].median().plot.bar()\n",
    "    plt.title(var)\n",
    "    plt.ylabel('median points')\n",
    "    plt.show()\n",
    "\n",
    "for var in discrete_vars:\n",
    "    BarPlotNumVars(var, ffmlDf)\n"
   ]
  },
  {
   "cell_type": "code",
   "execution_count": 14,
   "metadata": {},
   "outputs": [
    {
     "data": {
      "text/plain": [
       "['points',\n",
       " 'bonusPointSystem',\n",
       " 'influence',\n",
       " 'creativity',\n",
       " 'threat',\n",
       " 'ictIndex',\n",
       " 'netTransfers',\n",
       " 'selectedBy',\n",
       " 'costGBP']"
      ]
     },
     "execution_count": 14,
     "metadata": {},
     "output_type": "execute_result"
    }
   ],
   "source": [
    "# get continuous vars\n",
    "\n",
    "continuous_vars = [\n",
    "    var for var in num_vars\n",
    "    if var not in discrete_vars\n",
    "]\n",
    "continuous_vars"
   ]
  },
  {
   "cell_type": "code",
   "execution_count": 15,
   "metadata": {},
   "outputs": [
    {
     "data": {
      "image/png": "[encoded data removed]",
      "text/plain": [
       "<Figure size 432x288 with 1 Axes>"
      ]
     },
     "metadata": {
      "needs_background": "light"
     },
     "output_type": "display_data"
    },
    {
     "data": {
      "image/png": "[encoded data removed]",
      "text/plain": [
       "<Figure size 432x288 with 1 Axes>"
      ]
     },
     "metadata": {
      "needs_background": "light"
     },
     "output_type": "display_data"
    },
    {
     "data": {
      "image/png": "[encoded data removed]",
      "text/plain": [
       "<Figure size 432x288 with 1 Axes>"
      ]
     },
     "metadata": {
      "needs_background": "light"
     },
     "output_type": "display_data"
    },
    {
     "data": {
      "image/png": "[encoded data removed]",
      "text/plain": [
       "<Figure size 432x288 with 1 Axes>"
      ]
     },
     "metadata": {
      "needs_background": "light"
     },
     "output_type": "display_data"
    },
    {
     "data": {
      "image/png": "[encoded data removed]",
      "text/plain": [
       "<Figure size 432x288 with 1 Axes>"
      ]
     },
     "metadata": {
      "needs_background": "light"
     },
     "output_type": "display_data"
    },
    {
     "data": {
      "image/png": "[encoded data removed]",
      "text/plain": [
       "<Figure size 432x288 with 1 Axes>"
      ]
     },
     "metadata": {
      "needs_background": "light"
     },
     "output_type": "display_data"
    },
    {
     "data": {
      "image/png": "[encoded data removed]",
      "text/plain": [
       "<Figure size 432x288 with 1 Axes>"
      ]
     },
     "metadata": {
      "needs_background": "light"
     },
     "output_type": "display_data"
    },
    {
     "data": {
      "image/png": "[encoded data removed]",
      "text/plain": [
       "<Figure size 432x288 with 1 Axes>"
      ]
     },
     "metadata": {
      "needs_background": "light"
     },
     "output_type": "display_data"
    },
    {
     "data": {
      "image/png": "[encoded data removed]",
      "text/plain": [
       "<Figure size 432x288 with 1 Axes>"
      ]
     },
     "metadata": {
      "needs_background": "light"
     },
     "output_type": "display_data"
    }
   ],
   "source": [
    "# plot num_vars as hist (good for continuous)\n",
    "\n",
    "def HistPlotNumVars(var, df):\n",
    "    df = df.copy()\n",
    "    df[var].hist(bins=30)\n",
    "    plt.title(var)\n",
    "    plt.xlabel(var)\n",
    "    plt.ylabel('Number of Players')\n",
    "    plt.show()\n",
    "\n",
    "for var in continuous_vars:\n",
    "    HistPlotNumVars(var, ffmlDf)\n"
   ]
  },
  {
   "cell_type": "code",
   "execution_count": 16,
   "metadata": {},
   "outputs": [
    {
     "data": {
      "image/png": "[encoded data removed]",
      "text/plain": [
       "<Figure size 432x288 with 1 Axes>"
      ]
     },
     "metadata": {
      "needs_background": "light"
     },
     "output_type": "display_data"
    }
   ],
   "source": [
    "# if we transform the df do we get a more normal distribution\n",
    "# for our histograms\n",
    "\n",
    "def LogTranformContinuous(var, df):\n",
    "    df = df.copy()\n",
    "    \n",
    "    # values <= 0 - cant be transformed\n",
    "    if any(ffmlDf[var] <= 0):\n",
    "        pass\n",
    "    else:\n",
    "        # log transform the var\n",
    "        df[var] = np.log(df[var])\n",
    "        df[var].hist(bins=10)\n",
    "        plt.title(var)\n",
    "        plt.xlabel(var)\n",
    "        plt.ylabel('Number of Players')\n",
    "        plt.show()\n",
    "\n",
    "for var in continuous_vars:\n",
    "    LogTranformContinuous(var, ffmlDf)\n"
   ]
  },
  {
   "cell_type": "code",
   "execution_count": 17,
   "metadata": {},
   "outputs": [],
   "source": [
    "# didn't work out as I had hoped so let us not move forward\n",
    "# with the transformed variables"
   ]
  },
  {
   "cell_type": "code",
   "execution_count": 18,
   "metadata": {},
   "outputs": [
    {
     "data": {
      "image/png": "[encoded data removed]",
      "text/plain": [
       "<Figure size 432x288 with 1 Axes>"
      ]
     },
     "metadata": {
      "needs_background": "light"
     },
     "output_type": "display_data"
    },
    {
     "data": {
      "image/png": "[encoded data removed]",
      "text/plain": [
       "<Figure size 432x288 with 1 Axes>"
      ]
     },
     "metadata": {
      "needs_background": "light"
     },
     "output_type": "display_data"
    },
    {
     "data": {
      "image/png": "[encoded data removed]",
      "text/plain": [
       "<Figure size 432x288 with 1 Axes>"
      ]
     },
     "metadata": {
      "needs_background": "light"
     },
     "output_type": "display_data"
    },
    {
     "data": {
      "image/png": "[encoded data removed]",
      "text/plain": [
       "<Figure size 432x288 with 1 Axes>"
      ]
     },
     "metadata": {
      "needs_background": "light"
     },
     "output_type": "display_data"
    },
    {
     "data": {
      "image/png": "[encoded data removed]",
      "text/plain": [
       "<Figure size 432x288 with 1 Axes>"
      ]
     },
     "metadata": {
      "needs_background": "light"
     },
     "output_type": "display_data"
    },
    {
     "data": {
      "image/png": "[encoded data removed]",
      "text/plain": [
       "<Figure size 432x288 with 1 Axes>"
      ]
     },
     "metadata": {
      "needs_background": "light"
     },
     "output_type": "display_data"
    },
    {
     "data": {
      "image/png": "[encoded data removed]",
      "text/plain": [
       "<Figure size 432x288 with 1 Axes>"
      ]
     },
     "metadata": {
      "needs_background": "light"
     },
     "output_type": "display_data"
    },
    {
     "data": {
      "image/png": "[encoded data removed]",
      "text/plain": [
       "<Figure size 432x288 with 1 Axes>"
      ]
     },
     "metadata": {
      "needs_background": "light"
     },
     "output_type": "display_data"
    },
    {
     "data": {
      "image/png": "[encoded data removed]",
      "text/plain": [
       "<Figure size 432x288 with 1 Axes>"
      ]
     },
     "metadata": {
      "needs_background": "light"
     },
     "output_type": "display_data"
    }
   ],
   "source": [
    "# outliers extreme values can affect the performance of linear models\n",
    "# Boxplots let us spot outliers more easily\n",
    "\n",
    "def BoxPlotContinuousVar(var, df):\n",
    "    df = df.copy()\n",
    "    df.boxplot(column=var)\n",
    "    plt.title(var)\n",
    "    plt.show()\n",
    "    \n",
    "for var in continuous_vars:\n",
    "    BoxPlotContinuousVar(var, ffmlDf)\n"
   ]
  },
  {
   "cell_type": "code",
   "execution_count": 19,
   "metadata": {},
   "outputs": [],
   "source": [
    "# it appears that players:\n",
    "#     - performing well\n",
    "#     - that are too expensive\n",
    "# are outliers"
   ]
  },
  {
   "cell_type": "code",
   "execution_count": 20,
   "metadata": {
    "scrolled": true
   },
   "outputs": [
    {
     "data": {
      "text/html": [
       "<div>\n",
       "<style scoped>\n",
       "    .dataframe tbody tr th:only-of-type {\n",
       "        vertical-align: middle;\n",
       "    }\n",
       "\n",
       "    .dataframe tbody tr th {\n",
       "        vertical-align: top;\n",
       "    }\n",
       "\n",
       "    .dataframe thead th {\n",
       "        text-align: right;\n",
       "    }\n",
       "</style>\n",
       "<table border=\"1\" class=\"dataframe\">\n",
       "  <thead>\n",
       "    <tr style=\"text-align: right;\">\n",
       "      <th></th>\n",
       "      <th>points</th>\n",
       "      <th>minsPlayed</th>\n",
       "      <th>goalsScored</th>\n",
       "      <th>assists</th>\n",
       "      <th>cleanSheets</th>\n",
       "      <th>goalsConceded</th>\n",
       "      <th>ownGoals</th>\n",
       "      <th>penSaved</th>\n",
       "      <th>penMissed</th>\n",
       "      <th>yelCards</th>\n",
       "      <th>redCards</th>\n",
       "      <th>saves</th>\n",
       "      <th>bonus</th>\n",
       "      <th>bonusPointSystem</th>\n",
       "      <th>influence</th>\n",
       "      <th>creativity</th>\n",
       "      <th>threat</th>\n",
       "      <th>ictIndex</th>\n",
       "      <th>netTransfers</th>\n",
       "      <th>selectedBy</th>\n",
       "      <th>costGBP</th>\n",
       "      <th>gameDate</th>\n",
       "      <th>playerName</th>\n",
       "      <th>oppositionTeam</th>\n",
       "    </tr>\n",
       "  </thead>\n",
       "  <tbody>\n",
       "    <tr>\n",
       "      <th>1</th>\n",
       "      <td>6.0</td>\n",
       "      <td>90.0</td>\n",
       "      <td>0.0</td>\n",
       "      <td>0.0</td>\n",
       "      <td>1.0</td>\n",
       "      <td>0.0</td>\n",
       "      <td>0.0</td>\n",
       "      <td>0.0</td>\n",
       "      <td>0.0</td>\n",
       "      <td>0.0</td>\n",
       "      <td>0.0</td>\n",
       "      <td>0.0</td>\n",
       "      <td>0.0</td>\n",
       "      <td>27.0</td>\n",
       "      <td>26.0</td>\n",
       "      <td>0.1</td>\n",
       "      <td>2.0</td>\n",
       "      <td>2.8</td>\n",
       "      <td>0.0</td>\n",
       "      <td>88657.0</td>\n",
       "      <td>5.0</td>\n",
       "      <td>2020-09-12</td>\n",
       "      <td>('Federico', 'Fernández')</td>\n",
       "      <td>West Ham United</td>\n",
       "    </tr>\n",
       "    <tr>\n",
       "      <th>3</th>\n",
       "      <td>7.0</td>\n",
       "      <td>90.0</td>\n",
       "      <td>0.0</td>\n",
       "      <td>0.0</td>\n",
       "      <td>1.0</td>\n",
       "      <td>0.0</td>\n",
       "      <td>0.0</td>\n",
       "      <td>0.0</td>\n",
       "      <td>0.0</td>\n",
       "      <td>0.0</td>\n",
       "      <td>0.0</td>\n",
       "      <td>3.0</td>\n",
       "      <td>0.0</td>\n",
       "      <td>26.0</td>\n",
       "      <td>27.0</td>\n",
       "      <td>0.0</td>\n",
       "      <td>0.0</td>\n",
       "      <td>2.7</td>\n",
       "      <td>0.0</td>\n",
       "      <td>13715.0</td>\n",
       "      <td>5.0</td>\n",
       "      <td>2020-09-12</td>\n",
       "      <td>('Karl', 'Darlow')</td>\n",
       "      <td>West Ham United</td>\n",
       "    </tr>\n",
       "    <tr>\n",
       "      <th>7</th>\n",
       "      <td>6.0</td>\n",
       "      <td>90.0</td>\n",
       "      <td>0.0</td>\n",
       "      <td>0.0</td>\n",
       "      <td>1.0</td>\n",
       "      <td>0.0</td>\n",
       "      <td>0.0</td>\n",
       "      <td>0.0</td>\n",
       "      <td>0.0</td>\n",
       "      <td>0.0</td>\n",
       "      <td>0.0</td>\n",
       "      <td>0.0</td>\n",
       "      <td>0.0</td>\n",
       "      <td>21.0</td>\n",
       "      <td>21.8</td>\n",
       "      <td>0.3</td>\n",
       "      <td>0.0</td>\n",
       "      <td>2.2</td>\n",
       "      <td>0.0</td>\n",
       "      <td>219489.0</td>\n",
       "      <td>4.5</td>\n",
       "      <td>2020-09-12</td>\n",
       "      <td>('Jamaal', 'Lascelles')</td>\n",
       "      <td>West Ham United</td>\n",
       "    </tr>\n",
       "    <tr>\n",
       "      <th>11</th>\n",
       "      <td>5.0</td>\n",
       "      <td>90.0</td>\n",
       "      <td>0.0</td>\n",
       "      <td>0.0</td>\n",
       "      <td>1.0</td>\n",
       "      <td>0.0</td>\n",
       "      <td>0.0</td>\n",
       "      <td>0.0</td>\n",
       "      <td>0.0</td>\n",
       "      <td>1.0</td>\n",
       "      <td>0.0</td>\n",
       "      <td>0.0</td>\n",
       "      <td>0.0</td>\n",
       "      <td>27.0</td>\n",
       "      <td>22.4</td>\n",
       "      <td>19.7</td>\n",
       "      <td>2.0</td>\n",
       "      <td>4.4</td>\n",
       "      <td>0.0</td>\n",
       "      <td>21964.0</td>\n",
       "      <td>4.5</td>\n",
       "      <td>2020-09-12</td>\n",
       "      <td>('Javier', 'Manquillo')</td>\n",
       "      <td>West Ham United</td>\n",
       "    </tr>\n",
       "    <tr>\n",
       "      <th>16</th>\n",
       "      <td>2.0</td>\n",
       "      <td>90.0</td>\n",
       "      <td>0.0</td>\n",
       "      <td>0.0</td>\n",
       "      <td>1.0</td>\n",
       "      <td>0.0</td>\n",
       "      <td>0.0</td>\n",
       "      <td>0.0</td>\n",
       "      <td>0.0</td>\n",
       "      <td>1.0</td>\n",
       "      <td>0.0</td>\n",
       "      <td>0.0</td>\n",
       "      <td>0.0</td>\n",
       "      <td>12.0</td>\n",
       "      <td>12.8</td>\n",
       "      <td>2.0</td>\n",
       "      <td>0.0</td>\n",
       "      <td>1.5</td>\n",
       "      <td>0.0</td>\n",
       "      <td>5941.0</td>\n",
       "      <td>5.0</td>\n",
       "      <td>2020-09-12</td>\n",
       "      <td>('Isaac', 'Hayden')</td>\n",
       "      <td>West Ham United</td>\n",
       "    </tr>\n",
       "  </tbody>\n",
       "</table>\n",
       "</div>"
      ],
      "text/plain": [
       "    points  minsPlayed  goalsScored  assists  cleanSheets  goalsConceded  \\\n",
       "1      6.0        90.0          0.0      0.0          1.0            0.0   \n",
       "3      7.0        90.0          0.0      0.0          1.0            0.0   \n",
       "7      6.0        90.0          0.0      0.0          1.0            0.0   \n",
       "11     5.0        90.0          0.0      0.0          1.0            0.0   \n",
       "16     2.0        90.0          0.0      0.0          1.0            0.0   \n",
       "\n",
       "    ownGoals  penSaved  penMissed  yelCards  redCards  saves  bonus  \\\n",
       "1        0.0       0.0        0.0       0.0       0.0    0.0    0.0   \n",
       "3        0.0       0.0        0.0       0.0       0.0    3.0    0.0   \n",
       "7        0.0       0.0        0.0       0.0       0.0    0.0    0.0   \n",
       "11       0.0       0.0        0.0       1.0       0.0    0.0    0.0   \n",
       "16       0.0       0.0        0.0       1.0       0.0    0.0    0.0   \n",
       "\n",
       "    bonusPointSystem  influence  creativity  threat  ictIndex  netTransfers  \\\n",
       "1               27.0       26.0         0.1     2.0       2.8           0.0   \n",
       "3               26.0       27.0         0.0     0.0       2.7           0.0   \n",
       "7               21.0       21.8         0.3     0.0       2.2           0.0   \n",
       "11              27.0       22.4        19.7     2.0       4.4           0.0   \n",
       "16              12.0       12.8         2.0     0.0       1.5           0.0   \n",
       "\n",
       "    selectedBy  costGBP    gameDate                 playerName  \\\n",
       "1      88657.0      5.0  2020-09-12  ('Federico', 'Fernández')   \n",
       "3      13715.0      5.0  2020-09-12         ('Karl', 'Darlow')   \n",
       "7     219489.0      4.5  2020-09-12    ('Jamaal', 'Lascelles')   \n",
       "11     21964.0      4.5  2020-09-12    ('Javier', 'Manquillo')   \n",
       "16      5941.0      5.0  2020-09-12        ('Isaac', 'Hayden')   \n",
       "\n",
       "     oppositionTeam  \n",
       "1   West Ham United  \n",
       "3   West Ham United  \n",
       "7   West Ham United  \n",
       "11  West Ham United  \n",
       "16  West Ham United  "
      ]
     },
     "execution_count": 20,
     "metadata": {},
     "output_type": "execute_result"
    }
   ],
   "source": [
    "ffmlDf.head()"
   ]
  },
  {
   "cell_type": "code",
   "execution_count": 22,
   "metadata": {
    "scrolled": false
   },
   "outputs": [],
   "source": [
    "# plot the spread of points each player has gotten so far\n",
    "\n",
    "def PlotPlayer(df, player):\n",
    "    df = df.copy()\n",
    "    df.groupby('playerName').plot.line(x='gameDate', y='points')\n",
    "    plt.title(player)\n",
    "    plt.show()\n",
    "\n",
    "\n",
    "# couldnt seem to get the graphs to load in a scrollable format\n",
    "# couldn't set the title to show for each graph\n",
    "# best not to run this as i greatly increases the length and size\n",
    "# of the jupyter notebook\n",
    "for player in ffmlDf['playerName'].unique():\n",
    "    #PlotPlayer(ffmlDf, player)\n",
    "    break\n"
   ]
  },
  {
   "cell_type": "code",
   "execution_count": 23,
   "metadata": {},
   "outputs": [
    {
     "name": "stdout",
     "output_type": "stream",
     "text": [
      "3 out of 24 are categorical variables\n"
     ]
    },
    {
     "data": {
      "text/plain": [
       "['gameDate', 'playerName', 'oppositionTeam']"
      ]
     },
     "execution_count": 23,
     "metadata": {},
     "output_type": "execute_result"
    }
   ],
   "source": [
    "# group the categorical variable\n",
    "cat_vars = [\n",
    "    var for var in ffmlDf.columns\n",
    "    if ffmlDf[var].dtypes == 'O'\n",
    "    ]\n",
    "\n",
    "print(len(cat_vars),'out of',len(ffmlDf.columns),'are categorical variables')\n",
    "cat_vars"
   ]
  },
  {
   "cell_type": "code",
   "execution_count": 25,
   "metadata": {},
   "outputs": [
    {
     "name": "stdout",
     "output_type": "stream",
     "text": [
      "gameDate: has 53 unique values\n",
      "playerName: has 460 unique values\n",
      "oppositionTeam: has 20 unique values\n"
     ]
    }
   ],
   "source": [
    "for var in cat_vars:\n",
    "    print( var+': has', ffmlDf[var].nunique(), 'unique values')"
   ]
  },
  {
   "cell_type": "code",
   "execution_count": 26,
   "metadata": {},
   "outputs": [],
   "source": [
    "# the gameDate does not appear to offer any real value here\n",
    "# so i will look to drop it\n",
    "# oppositionTeam could help with predictions... maybe"
   ]
  },
  {
   "cell_type": "code",
   "execution_count": 30,
   "metadata": {},
   "outputs": [
    {
     "data": {
      "image/png": "[encoded data removed]",
      "text/plain": [
       "<Figure size 432x288 with 1 Axes>"
      ]
     },
     "metadata": {
      "needs_background": "light"
     },
     "output_type": "display_data"
    }
   ],
   "source": [
    "def OppTeamBarPlot(df):\n",
    "    df = df.copy()\n",
    "    df.groupby('oppositionTeam')['points'].mean().plot.bar()\n",
    "    plt.show()\n",
    "\n",
    "OppTeamBarPlot(ffmlDf)"
   ]
  },
  {
   "cell_type": "code",
   "execution_count": null,
   "metadata": {},
   "outputs": [],
   "source": [
    "# the two worst teams in the prem have now been identified\n",
    "# the next stage will be the feature engineering where we create\n",
    "# the Test and Train datasets"
   ]
  }
 ],
 "metadata": {
  "kernelspec": {
   "display_name": "Python 3",
   "language": "python",
   "name": "python3"
  },
  "language_info": {
   "codemirror_mode": {
    "name": "ipython",
    "version": 3
   },
   "file_extension": ".py",
   "mimetype": "text/x-python",
   "name": "python",
   "nbconvert_exporter": "python",
   "pygments_lexer": "ipython3",
   "version": "3.8.5"
  }
 },
 "nbformat": 4,
 "nbformat_minor": 4
}
