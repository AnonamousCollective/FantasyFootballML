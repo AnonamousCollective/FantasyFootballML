{
 "cells": [
  {
   "cell_type": "code",
   "execution_count": 1,
   "metadata": {},
   "outputs": [],
   "source": [
    "# to handle datasets\n",
    "import pandas as pd\n",
    "from pandas import DataFrame\n",
    "import numpy as np\n",
    "\n",
    "# handle simple warnings\n",
    "# import warnings\n",
    "# warnings.simplefilter(action='ignore')\n",
    "# I want t see warnings\n",
    "\n",
    "\n",
    "# for plotting\n",
    "import matplotlib.pyplot as plt\n",
    "import seaborn as sns\n",
    "\n",
    "# to see all dataframe columns\n",
    "pd.pandas.set_option('display.max_columns', None)"
   ]
  },
  {
   "cell_type": "code",
   "execution_count": 2,
   "metadata": {},
   "outputs": [],
   "source": [
    "# load dataset\n",
    "ffmlDf = pd.read_csv('ffmlDf_20-21')"
   ]
  },
  {
   "cell_type": "code",
   "execution_count": 3,
   "metadata": {},
   "outputs": [
    {
     "data": {
      "text/html": [
       "<div>\n",
       "<style scoped>\n",
       "    .dataframe tbody tr th:only-of-type {\n",
       "        vertical-align: middle;\n",
       "    }\n",
       "\n",
       "    .dataframe tbody tr th {\n",
       "        vertical-align: top;\n",
       "    }\n",
       "\n",
       "    .dataframe thead th {\n",
       "        text-align: right;\n",
       "    }\n",
       "</style>\n",
       "<table border=\"1\" class=\"dataframe\">\n",
       "  <thead>\n",
       "    <tr style=\"text-align: right;\">\n",
       "      <th></th>\n",
       "      <th>Unnamed: 0</th>\n",
       "      <th>Unnamed: 0.1</th>\n",
       "      <th>points</th>\n",
       "      <th>minsPlayed</th>\n",
       "      <th>goalsScored</th>\n",
       "      <th>assists</th>\n",
       "      <th>cleanSheets</th>\n",
       "      <th>goalsConceded</th>\n",
       "      <th>ownGoals</th>\n",
       "      <th>penSaved</th>\n",
       "      <th>penMissed</th>\n",
       "      <th>yelCards</th>\n",
       "      <th>redCards</th>\n",
       "      <th>saves</th>\n",
       "      <th>bonus</th>\n",
       "      <th>bonusPointSystem</th>\n",
       "      <th>influence</th>\n",
       "      <th>creativity</th>\n",
       "      <th>threat</th>\n",
       "      <th>ictIndex</th>\n",
       "      <th>netTransfers</th>\n",
       "      <th>selectedBy</th>\n",
       "      <th>costGBP</th>\n",
       "      <th>gameDate</th>\n",
       "      <th>playerName</th>\n",
       "      <th>oppositionTeam</th>\n",
       "    </tr>\n",
       "  </thead>\n",
       "  <tbody>\n",
       "    <tr>\n",
       "      <th>0</th>\n",
       "      <td>0</td>\n",
       "      <td>0</td>\n",
       "      <td>0</td>\n",
       "      <td>0</td>\n",
       "      <td>0</td>\n",
       "      <td>0</td>\n",
       "      <td>0</td>\n",
       "      <td>0</td>\n",
       "      <td>0</td>\n",
       "      <td>0</td>\n",
       "      <td>0</td>\n",
       "      <td>0</td>\n",
       "      <td>0</td>\n",
       "      <td>0</td>\n",
       "      <td>0</td>\n",
       "      <td>0</td>\n",
       "      <td>0.0</td>\n",
       "      <td>0.0</td>\n",
       "      <td>0.0</td>\n",
       "      <td>0.0</td>\n",
       "      <td>0</td>\n",
       "      <td>76656</td>\n",
       "      <td>7.0</td>\n",
       "      <td>2020-09-12</td>\n",
       "      <td>('Mesut', 'Özil')</td>\n",
       "      <td>Fulham</td>\n",
       "    </tr>\n",
       "    <tr>\n",
       "      <th>1</th>\n",
       "      <td>1</td>\n",
       "      <td>8170</td>\n",
       "      <td>0</td>\n",
       "      <td>0</td>\n",
       "      <td>0</td>\n",
       "      <td>0</td>\n",
       "      <td>0</td>\n",
       "      <td>0</td>\n",
       "      <td>0</td>\n",
       "      <td>0</td>\n",
       "      <td>0</td>\n",
       "      <td>0</td>\n",
       "      <td>0</td>\n",
       "      <td>0</td>\n",
       "      <td>0</td>\n",
       "      <td>0</td>\n",
       "      <td>0.0</td>\n",
       "      <td>0.0</td>\n",
       "      <td>0.0</td>\n",
       "      <td>0.0</td>\n",
       "      <td>0</td>\n",
       "      <td>5313</td>\n",
       "      <td>4.5</td>\n",
       "      <td>2020-09-12</td>\n",
       "      <td>('Mark', 'Gillespie')</td>\n",
       "      <td>West Ham United</td>\n",
       "    </tr>\n",
       "    <tr>\n",
       "      <th>2</th>\n",
       "      <td>2</td>\n",
       "      <td>8190</td>\n",
       "      <td>0</td>\n",
       "      <td>0</td>\n",
       "      <td>0</td>\n",
       "      <td>0</td>\n",
       "      <td>0</td>\n",
       "      <td>0</td>\n",
       "      <td>0</td>\n",
       "      <td>0</td>\n",
       "      <td>0</td>\n",
       "      <td>0</td>\n",
       "      <td>0</td>\n",
       "      <td>0</td>\n",
       "      <td>0</td>\n",
       "      <td>0</td>\n",
       "      <td>0.0</td>\n",
       "      <td>0.0</td>\n",
       "      <td>0.0</td>\n",
       "      <td>0.0</td>\n",
       "      <td>0</td>\n",
       "      <td>2064</td>\n",
       "      <td>5.0</td>\n",
       "      <td>2020-09-12</td>\n",
       "      <td>('Jacob', 'Murphy')</td>\n",
       "      <td>West Ham United</td>\n",
       "    </tr>\n",
       "    <tr>\n",
       "      <th>3</th>\n",
       "      <td>3</td>\n",
       "      <td>8210</td>\n",
       "      <td>8</td>\n",
       "      <td>84</td>\n",
       "      <td>1</td>\n",
       "      <td>0</td>\n",
       "      <td>1</td>\n",
       "      <td>0</td>\n",
       "      <td>0</td>\n",
       "      <td>0</td>\n",
       "      <td>0</td>\n",
       "      <td>0</td>\n",
       "      <td>0</td>\n",
       "      <td>0</td>\n",
       "      <td>2</td>\n",
       "      <td>32</td>\n",
       "      <td>32.0</td>\n",
       "      <td>23.3</td>\n",
       "      <td>50.0</td>\n",
       "      <td>10.5</td>\n",
       "      <td>0</td>\n",
       "      <td>538610</td>\n",
       "      <td>6.5</td>\n",
       "      <td>2020-09-12</td>\n",
       "      <td>('Callum', 'Wilson')</td>\n",
       "      <td>West Ham United</td>\n",
       "    </tr>\n",
       "    <tr>\n",
       "      <th>4</th>\n",
       "      <td>4</td>\n",
       "      <td>8230</td>\n",
       "      <td>0</td>\n",
       "      <td>0</td>\n",
       "      <td>0</td>\n",
       "      <td>0</td>\n",
       "      <td>0</td>\n",
       "      <td>0</td>\n",
       "      <td>0</td>\n",
       "      <td>0</td>\n",
       "      <td>0</td>\n",
       "      <td>0</td>\n",
       "      <td>0</td>\n",
       "      <td>0</td>\n",
       "      <td>0</td>\n",
       "      <td>0</td>\n",
       "      <td>0.0</td>\n",
       "      <td>0.0</td>\n",
       "      <td>0.0</td>\n",
       "      <td>0.0</td>\n",
       "      <td>0</td>\n",
       "      <td>65008</td>\n",
       "      <td>6.0</td>\n",
       "      <td>2020-09-12</td>\n",
       "      <td>('Ryan', 'Fraser')</td>\n",
       "      <td>West Ham United</td>\n",
       "    </tr>\n",
       "  </tbody>\n",
       "</table>\n",
       "</div>"
      ],
      "text/plain": [
       "   Unnamed: 0  Unnamed: 0.1  points  minsPlayed  goalsScored  assists  \\\n",
       "0           0             0       0           0            0        0   \n",
       "1           1          8170       0           0            0        0   \n",
       "2           2          8190       0           0            0        0   \n",
       "3           3          8210       8          84            1        0   \n",
       "4           4          8230       0           0            0        0   \n",
       "\n",
       "   cleanSheets  goalsConceded  ownGoals  penSaved  penMissed  yelCards  \\\n",
       "0            0              0         0         0          0         0   \n",
       "1            0              0         0         0          0         0   \n",
       "2            0              0         0         0          0         0   \n",
       "3            1              0         0         0          0         0   \n",
       "4            0              0         0         0          0         0   \n",
       "\n",
       "   redCards  saves  bonus  bonusPointSystem  influence  creativity  threat  \\\n",
       "0         0      0      0                 0        0.0         0.0     0.0   \n",
       "1         0      0      0                 0        0.0         0.0     0.0   \n",
       "2         0      0      0                 0        0.0         0.0     0.0   \n",
       "3         0      0      2                32       32.0        23.3    50.0   \n",
       "4         0      0      0                 0        0.0         0.0     0.0   \n",
       "\n",
       "   ictIndex  netTransfers  selectedBy  costGBP    gameDate  \\\n",
       "0       0.0             0       76656      7.0  2020-09-12   \n",
       "1       0.0             0        5313      4.5  2020-09-12   \n",
       "2       0.0             0        2064      5.0  2020-09-12   \n",
       "3      10.5             0      538610      6.5  2020-09-12   \n",
       "4       0.0             0       65008      6.0  2020-09-12   \n",
       "\n",
       "              playerName   oppositionTeam  \n",
       "0      ('Mesut', 'Özil')           Fulham  \n",
       "1  ('Mark', 'Gillespie')  West Ham United  \n",
       "2    ('Jacob', 'Murphy')  West Ham United  \n",
       "3   ('Callum', 'Wilson')  West Ham United  \n",
       "4     ('Ryan', 'Fraser')  West Ham United  "
      ]
     },
     "execution_count": 3,
     "metadata": {},
     "output_type": "execute_result"
    }
   ],
   "source": [
    "ffmlDf.head()\n",
    "# use this to see if there are any columns that don't provide value\n",
    "# index's do not provide value"
   ]
  },
  {
   "cell_type": "code",
   "execution_count": 4,
   "metadata": {},
   "outputs": [
    {
     "name": "stdout",
     "output_type": "stream",
     "text": [
      "(11679, 26)\n"
     ]
    }
   ],
   "source": [
    "print(ffmlDf.shape)\n",
    "# drop 'unnamed: 0' as it is an index\n",
    "ffmlDf = ffmlDf.drop(columns=['Unnamed: 0'])\n",
    "ffmlDf = ffmlDf.drop(columns=['Unnamed: 0.1'])"
   ]
  },
  {
   "cell_type": "code",
   "execution_count": 5,
   "metadata": {},
   "outputs": [
    {
     "data": {
      "text/plain": [
       "(11679, 24)"
      ]
     },
     "execution_count": 5,
     "metadata": {},
     "output_type": "execute_result"
    }
   ],
   "source": [
    "ffmlDf.shape"
   ]
  },
  {
   "cell_type": "code",
   "execution_count": 6,
   "metadata": {},
   "outputs": [
    {
     "data": {
      "text/plain": [
       "Series([], dtype: float64)"
      ]
     },
     "execution_count": 6,
     "metadata": {},
     "output_type": "execute_result"
    }
   ],
   "source": [
    "# missing values\n",
    "# if a column has one or more missing values within it\n",
    "vars_with_na = [var for var in ffmlDf.columns if ffmlDf[var].isnull().sum() > 0]\n",
    "\n",
    "ffmlDf[vars_with_na].isnull().mean()\n",
    "# there are no null values\n",
    "\n",
    "# to verify run:\n",
    "# print(len(vars_with_na))"
   ]
  },
  {
   "cell_type": "code",
   "execution_count": 7,
   "metadata": {},
   "outputs": [],
   "source": [
    "# what happens if I remove all data where mins played == 0"
   ]
  },
  {
   "cell_type": "code",
   "execution_count": 8,
   "metadata": {},
   "outputs": [
    {
     "data": {
      "text/html": [
       "<div>\n",
       "<style scoped>\n",
       "    .dataframe tbody tr th:only-of-type {\n",
       "        vertical-align: middle;\n",
       "    }\n",
       "\n",
       "    .dataframe tbody tr th {\n",
       "        vertical-align: top;\n",
       "    }\n",
       "\n",
       "    .dataframe thead th {\n",
       "        text-align: right;\n",
       "    }\n",
       "</style>\n",
       "<table border=\"1\" class=\"dataframe\">\n",
       "  <thead>\n",
       "    <tr style=\"text-align: right;\">\n",
       "      <th></th>\n",
       "      <th>points</th>\n",
       "      <th>minsPlayed</th>\n",
       "      <th>goalsScored</th>\n",
       "      <th>assists</th>\n",
       "      <th>cleanSheets</th>\n",
       "      <th>goalsConceded</th>\n",
       "      <th>ownGoals</th>\n",
       "      <th>penSaved</th>\n",
       "      <th>penMissed</th>\n",
       "      <th>yelCards</th>\n",
       "      <th>redCards</th>\n",
       "      <th>saves</th>\n",
       "      <th>bonus</th>\n",
       "      <th>bonusPointSystem</th>\n",
       "      <th>influence</th>\n",
       "      <th>creativity</th>\n",
       "      <th>threat</th>\n",
       "      <th>ictIndex</th>\n",
       "      <th>netTransfers</th>\n",
       "      <th>selectedBy</th>\n",
       "      <th>costGBP</th>\n",
       "      <th>gameDate</th>\n",
       "      <th>playerName</th>\n",
       "      <th>oppositionTeam</th>\n",
       "    </tr>\n",
       "  </thead>\n",
       "  <tbody>\n",
       "    <tr>\n",
       "      <th>3</th>\n",
       "      <td>8.0</td>\n",
       "      <td>84.0</td>\n",
       "      <td>1.0</td>\n",
       "      <td>0.0</td>\n",
       "      <td>1.0</td>\n",
       "      <td>0.0</td>\n",
       "      <td>0.0</td>\n",
       "      <td>0.0</td>\n",
       "      <td>0.0</td>\n",
       "      <td>0.0</td>\n",
       "      <td>0.0</td>\n",
       "      <td>0.0</td>\n",
       "      <td>2.0</td>\n",
       "      <td>32.0</td>\n",
       "      <td>32.0</td>\n",
       "      <td>23.3</td>\n",
       "      <td>50.0</td>\n",
       "      <td>10.5</td>\n",
       "      <td>0.0</td>\n",
       "      <td>538610.0</td>\n",
       "      <td>6.5</td>\n",
       "      <td>2020-09-12</td>\n",
       "      <td>('Callum', 'Wilson')</td>\n",
       "      <td>West Ham United</td>\n",
       "    </tr>\n",
       "    <tr>\n",
       "      <th>5</th>\n",
       "      <td>7.0</td>\n",
       "      <td>90.0</td>\n",
       "      <td>0.0</td>\n",
       "      <td>0.0</td>\n",
       "      <td>1.0</td>\n",
       "      <td>0.0</td>\n",
       "      <td>0.0</td>\n",
       "      <td>0.0</td>\n",
       "      <td>0.0</td>\n",
       "      <td>0.0</td>\n",
       "      <td>0.0</td>\n",
       "      <td>0.0</td>\n",
       "      <td>1.0</td>\n",
       "      <td>31.0</td>\n",
       "      <td>19.4</td>\n",
       "      <td>39.8</td>\n",
       "      <td>0.0</td>\n",
       "      <td>5.9</td>\n",
       "      <td>0.0</td>\n",
       "      <td>76806.0</td>\n",
       "      <td>4.5</td>\n",
       "      <td>2020-09-12</td>\n",
       "      <td>('Jamal', 'Lewis')</td>\n",
       "      <td>West Ham United</td>\n",
       "    </tr>\n",
       "    <tr>\n",
       "      <th>7</th>\n",
       "      <td>1.0</td>\n",
       "      <td>5.0</td>\n",
       "      <td>0.0</td>\n",
       "      <td>0.0</td>\n",
       "      <td>0.0</td>\n",
       "      <td>0.0</td>\n",
       "      <td>0.0</td>\n",
       "      <td>0.0</td>\n",
       "      <td>0.0</td>\n",
       "      <td>0.0</td>\n",
       "      <td>0.0</td>\n",
       "      <td>0.0</td>\n",
       "      <td>0.0</td>\n",
       "      <td>4.0</td>\n",
       "      <td>2.0</td>\n",
       "      <td>0.0</td>\n",
       "      <td>2.0</td>\n",
       "      <td>0.4</td>\n",
       "      <td>0.0</td>\n",
       "      <td>87664.0</td>\n",
       "      <td>5.5</td>\n",
       "      <td>2020-09-12</td>\n",
       "      <td>('Shane', 'Long')</td>\n",
       "      <td>Crystal Palace</td>\n",
       "    </tr>\n",
       "    <tr>\n",
       "      <th>8</th>\n",
       "      <td>2.0</td>\n",
       "      <td>90.0</td>\n",
       "      <td>0.0</td>\n",
       "      <td>0.0</td>\n",
       "      <td>0.0</td>\n",
       "      <td>1.0</td>\n",
       "      <td>0.0</td>\n",
       "      <td>0.0</td>\n",
       "      <td>0.0</td>\n",
       "      <td>0.0</td>\n",
       "      <td>0.0</td>\n",
       "      <td>0.0</td>\n",
       "      <td>0.0</td>\n",
       "      <td>15.0</td>\n",
       "      <td>16.8</td>\n",
       "      <td>18.5</td>\n",
       "      <td>2.0</td>\n",
       "      <td>3.7</td>\n",
       "      <td>0.0</td>\n",
       "      <td>87171.0</td>\n",
       "      <td>5.0</td>\n",
       "      <td>2020-09-12</td>\n",
       "      <td>('Ryan', 'Bertrand')</td>\n",
       "      <td>Crystal Palace</td>\n",
       "    </tr>\n",
       "    <tr>\n",
       "      <th>9</th>\n",
       "      <td>2.0</td>\n",
       "      <td>90.0</td>\n",
       "      <td>0.0</td>\n",
       "      <td>0.0</td>\n",
       "      <td>0.0</td>\n",
       "      <td>1.0</td>\n",
       "      <td>0.0</td>\n",
       "      <td>0.0</td>\n",
       "      <td>0.0</td>\n",
       "      <td>0.0</td>\n",
       "      <td>0.0</td>\n",
       "      <td>2.0</td>\n",
       "      <td>0.0</td>\n",
       "      <td>17.0</td>\n",
       "      <td>22.6</td>\n",
       "      <td>0.0</td>\n",
       "      <td>0.0</td>\n",
       "      <td>2.3</td>\n",
       "      <td>0.0</td>\n",
       "      <td>1400435.0</td>\n",
       "      <td>4.5</td>\n",
       "      <td>2020-09-12</td>\n",
       "      <td>('Alex', 'McCarthy')</td>\n",
       "      <td>Crystal Palace</td>\n",
       "    </tr>\n",
       "    <tr>\n",
       "      <th>...</th>\n",
       "      <td>...</td>\n",
       "      <td>...</td>\n",
       "      <td>...</td>\n",
       "      <td>...</td>\n",
       "      <td>...</td>\n",
       "      <td>...</td>\n",
       "      <td>...</td>\n",
       "      <td>...</td>\n",
       "      <td>...</td>\n",
       "      <td>...</td>\n",
       "      <td>...</td>\n",
       "      <td>...</td>\n",
       "      <td>...</td>\n",
       "      <td>...</td>\n",
       "      <td>...</td>\n",
       "      <td>...</td>\n",
       "      <td>...</td>\n",
       "      <td>...</td>\n",
       "      <td>...</td>\n",
       "      <td>...</td>\n",
       "      <td>...</td>\n",
       "      <td>...</td>\n",
       "      <td>...</td>\n",
       "      <td>...</td>\n",
       "    </tr>\n",
       "    <tr>\n",
       "      <th>11270</th>\n",
       "      <td>1.0</td>\n",
       "      <td>17.0</td>\n",
       "      <td>0.0</td>\n",
       "      <td>0.0</td>\n",
       "      <td>0.0</td>\n",
       "      <td>0.0</td>\n",
       "      <td>0.0</td>\n",
       "      <td>0.0</td>\n",
       "      <td>0.0</td>\n",
       "      <td>0.0</td>\n",
       "      <td>0.0</td>\n",
       "      <td>0.0</td>\n",
       "      <td>0.0</td>\n",
       "      <td>0.0</td>\n",
       "      <td>0.0</td>\n",
       "      <td>0.0</td>\n",
       "      <td>0.0</td>\n",
       "      <td>0.0</td>\n",
       "      <td>0.0</td>\n",
       "      <td>11161.0</td>\n",
       "      <td>4.5</td>\n",
       "      <td>2021-01-26</td>\n",
       "      <td>('Jairo', 'Riedewald')</td>\n",
       "      <td>West Ham United</td>\n",
       "    </tr>\n",
       "    <tr>\n",
       "      <th>11276</th>\n",
       "      <td>2.0</td>\n",
       "      <td>90.0</td>\n",
       "      <td>0.0</td>\n",
       "      <td>0.0</td>\n",
       "      <td>0.0</td>\n",
       "      <td>3.0</td>\n",
       "      <td>0.0</td>\n",
       "      <td>0.0</td>\n",
       "      <td>0.0</td>\n",
       "      <td>0.0</td>\n",
       "      <td>0.0</td>\n",
       "      <td>0.0</td>\n",
       "      <td>0.0</td>\n",
       "      <td>3.0</td>\n",
       "      <td>2.4</td>\n",
       "      <td>10.2</td>\n",
       "      <td>0.0</td>\n",
       "      <td>1.3</td>\n",
       "      <td>307.0</td>\n",
       "      <td>454.0</td>\n",
       "      <td>4.5</td>\n",
       "      <td>2021-01-26</td>\n",
       "      <td>('Ibrahima', 'Diallo')</td>\n",
       "      <td>Arsenal</td>\n",
       "    </tr>\n",
       "    <tr>\n",
       "      <th>11277</th>\n",
       "      <td>1.0</td>\n",
       "      <td>16.0</td>\n",
       "      <td>0.0</td>\n",
       "      <td>0.0</td>\n",
       "      <td>0.0</td>\n",
       "      <td>0.0</td>\n",
       "      <td>0.0</td>\n",
       "      <td>0.0</td>\n",
       "      <td>0.0</td>\n",
       "      <td>0.0</td>\n",
       "      <td>0.0</td>\n",
       "      <td>0.0</td>\n",
       "      <td>0.0</td>\n",
       "      <td>3.0</td>\n",
       "      <td>0.0</td>\n",
       "      <td>0.0</td>\n",
       "      <td>0.0</td>\n",
       "      <td>0.0</td>\n",
       "      <td>0.0</td>\n",
       "      <td>0.0</td>\n",
       "      <td>4.5</td>\n",
       "      <td>2021-01-26</td>\n",
       "      <td>('Daniel', \"N'Lundulu\")</td>\n",
       "      <td>Arsenal</td>\n",
       "    </tr>\n",
       "    <tr>\n",
       "      <th>11289</th>\n",
       "      <td>1.0</td>\n",
       "      <td>90.0</td>\n",
       "      <td>0.0</td>\n",
       "      <td>0.0</td>\n",
       "      <td>0.0</td>\n",
       "      <td>3.0</td>\n",
       "      <td>0.0</td>\n",
       "      <td>0.0</td>\n",
       "      <td>0.0</td>\n",
       "      <td>0.0</td>\n",
       "      <td>0.0</td>\n",
       "      <td>0.0</td>\n",
       "      <td>0.0</td>\n",
       "      <td>11.0</td>\n",
       "      <td>8.8</td>\n",
       "      <td>1.3</td>\n",
       "      <td>0.0</td>\n",
       "      <td>1.0</td>\n",
       "      <td>0.0</td>\n",
       "      <td>196908.0</td>\n",
       "      <td>4.5</td>\n",
       "      <td>2021-01-26</td>\n",
       "      <td>('Jan', 'Bednarek')</td>\n",
       "      <td>Arsenal</td>\n",
       "    </tr>\n",
       "    <tr>\n",
       "      <th>11294</th>\n",
       "      <td>2.0</td>\n",
       "      <td>90.0</td>\n",
       "      <td>0.0</td>\n",
       "      <td>0.0</td>\n",
       "      <td>0.0</td>\n",
       "      <td>3.0</td>\n",
       "      <td>0.0</td>\n",
       "      <td>0.0</td>\n",
       "      <td>0.0</td>\n",
       "      <td>0.0</td>\n",
       "      <td>0.0</td>\n",
       "      <td>0.0</td>\n",
       "      <td>0.0</td>\n",
       "      <td>3.0</td>\n",
       "      <td>4.4</td>\n",
       "      <td>13.1</td>\n",
       "      <td>21.0</td>\n",
       "      <td>3.9</td>\n",
       "      <td>0.0</td>\n",
       "      <td>279992.0</td>\n",
       "      <td>6.0</td>\n",
       "      <td>2021-01-26</td>\n",
       "      <td>('Che', 'Adams')</td>\n",
       "      <td>Arsenal</td>\n",
       "    </tr>\n",
       "  </tbody>\n",
       "</table>\n",
       "<p>5169 rows × 24 columns</p>\n",
       "</div>"
      ],
      "text/plain": [
       "       points  minsPlayed  goalsScored  assists  cleanSheets  goalsConceded  \\\n",
       "3         8.0        84.0          1.0      0.0          1.0            0.0   \n",
       "5         7.0        90.0          0.0      0.0          1.0            0.0   \n",
       "7         1.0         5.0          0.0      0.0          0.0            0.0   \n",
       "8         2.0        90.0          0.0      0.0          0.0            1.0   \n",
       "9         2.0        90.0          0.0      0.0          0.0            1.0   \n",
       "...       ...         ...          ...      ...          ...            ...   \n",
       "11270     1.0        17.0          0.0      0.0          0.0            0.0   \n",
       "11276     2.0        90.0          0.0      0.0          0.0            3.0   \n",
       "11277     1.0        16.0          0.0      0.0          0.0            0.0   \n",
       "11289     1.0        90.0          0.0      0.0          0.0            3.0   \n",
       "11294     2.0        90.0          0.0      0.0          0.0            3.0   \n",
       "\n",
       "       ownGoals  penSaved  penMissed  yelCards  redCards  saves  bonus  \\\n",
       "3           0.0       0.0        0.0       0.0       0.0    0.0    2.0   \n",
       "5           0.0       0.0        0.0       0.0       0.0    0.0    1.0   \n",
       "7           0.0       0.0        0.0       0.0       0.0    0.0    0.0   \n",
       "8           0.0       0.0        0.0       0.0       0.0    0.0    0.0   \n",
       "9           0.0       0.0        0.0       0.0       0.0    2.0    0.0   \n",
       "...         ...       ...        ...       ...       ...    ...    ...   \n",
       "11270       0.0       0.0        0.0       0.0       0.0    0.0    0.0   \n",
       "11276       0.0       0.0        0.0       0.0       0.0    0.0    0.0   \n",
       "11277       0.0       0.0        0.0       0.0       0.0    0.0    0.0   \n",
       "11289       0.0       0.0        0.0       0.0       0.0    0.0    0.0   \n",
       "11294       0.0       0.0        0.0       0.0       0.0    0.0    0.0   \n",
       "\n",
       "       bonusPointSystem  influence  creativity  threat  ictIndex  \\\n",
       "3                  32.0       32.0        23.3    50.0      10.5   \n",
       "5                  31.0       19.4        39.8     0.0       5.9   \n",
       "7                   4.0        2.0         0.0     2.0       0.4   \n",
       "8                  15.0       16.8        18.5     2.0       3.7   \n",
       "9                  17.0       22.6         0.0     0.0       2.3   \n",
       "...                 ...        ...         ...     ...       ...   \n",
       "11270               0.0        0.0         0.0     0.0       0.0   \n",
       "11276               3.0        2.4        10.2     0.0       1.3   \n",
       "11277               3.0        0.0         0.0     0.0       0.0   \n",
       "11289              11.0        8.8         1.3     0.0       1.0   \n",
       "11294               3.0        4.4        13.1    21.0       3.9   \n",
       "\n",
       "       netTransfers  selectedBy  costGBP    gameDate               playerName  \\\n",
       "3               0.0    538610.0      6.5  2020-09-12     ('Callum', 'Wilson')   \n",
       "5               0.0     76806.0      4.5  2020-09-12       ('Jamal', 'Lewis')   \n",
       "7               0.0     87664.0      5.5  2020-09-12        ('Shane', 'Long')   \n",
       "8               0.0     87171.0      5.0  2020-09-12     ('Ryan', 'Bertrand')   \n",
       "9               0.0   1400435.0      4.5  2020-09-12     ('Alex', 'McCarthy')   \n",
       "...             ...         ...      ...         ...                      ...   \n",
       "11270           0.0     11161.0      4.5  2021-01-26   ('Jairo', 'Riedewald')   \n",
       "11276         307.0       454.0      4.5  2021-01-26   ('Ibrahima', 'Diallo')   \n",
       "11277           0.0         0.0      4.5  2021-01-26  ('Daniel', \"N'Lundulu\")   \n",
       "11289           0.0    196908.0      4.5  2021-01-26      ('Jan', 'Bednarek')   \n",
       "11294           0.0    279992.0      6.0  2021-01-26         ('Che', 'Adams')   \n",
       "\n",
       "        oppositionTeam  \n",
       "3      West Ham United  \n",
       "5      West Ham United  \n",
       "7       Crystal Palace  \n",
       "8       Crystal Palace  \n",
       "9       Crystal Palace  \n",
       "...                ...  \n",
       "11270  West Ham United  \n",
       "11276          Arsenal  \n",
       "11277          Arsenal  \n",
       "11289          Arsenal  \n",
       "11294          Arsenal  \n",
       "\n",
       "[5169 rows x 24 columns]"
      ]
     },
     "execution_count": 8,
     "metadata": {},
     "output_type": "execute_result"
    }
   ],
   "source": [
    "# remove zerominsplayed\n",
    "\n",
    "def RemoveZeroMinsPlayed(df):\n",
    "    df = df.copy().where(df['minsPlayed'] != 0)\n",
    "    df.dropna(axis=0, inplace=True)\n",
    "    return df\n",
    "\n",
    "zero_mins_played = RemoveZeroMinsPlayed(ffmlDf)\n",
    "zero_mins_played\n",
    "# now repeat the actions to view the cont and disc distibutions"
   ]
  },
  {
   "cell_type": "code",
   "execution_count": 9,
   "metadata": {},
   "outputs": [],
   "source": [
    "# move forward with zero mins played as the main df\n",
    "# players who do not play a match offer no useful information\n",
    "# for the model\n",
    "ffmlDf = zero_mins_played"
   ]
  },
  {
   "cell_type": "code",
   "execution_count": null,
   "metadata": {},
   "outputs": [],
   "source": []
  },
  {
   "cell_type": "code",
   "execution_count": 10,
   "metadata": {},
   "outputs": [
    {
     "name": "stdout",
     "output_type": "stream",
     "text": [
      "21 out of 24 are numerical variables\n"
     ]
    },
    {
     "data": {
      "text/plain": [
       "['points',\n",
       " 'minsPlayed',\n",
       " 'goalsScored',\n",
       " 'assists',\n",
       " 'cleanSheets',\n",
       " 'goalsConceded',\n",
       " 'ownGoals',\n",
       " 'penSaved',\n",
       " 'penMissed',\n",
       " 'yelCards',\n",
       " 'redCards',\n",
       " 'saves',\n",
       " 'bonus',\n",
       " 'bonusPointSystem',\n",
       " 'influence',\n",
       " 'creativity',\n",
       " 'threat',\n",
       " 'ictIndex',\n",
       " 'netTransfers',\n",
       " 'selectedBy',\n",
       " 'costGBP']"
      ]
     },
     "execution_count": 10,
     "metadata": {},
     "output_type": "execute_result"
    }
   ],
   "source": [
    "# group numerical variables\n",
    "\n",
    "num_vars = [var for var in ffmlDf.columns if ffmlDf[var].dtypes != 'O']\n",
    "\n",
    "print(len(num_vars),'out of',len(ffmlDf.columns),'are numerical variables')\n",
    "num_vars"
   ]
  },
  {
   "cell_type": "code",
   "execution_count": 11,
   "metadata": {},
   "outputs": [
    {
     "name": "stdout",
     "output_type": "stream",
     "text": [
      "points : 27\n",
      "minsPlayed : 89\n",
      "goalsScored : 5\n",
      "assists : 5\n",
      "cleanSheets : 2\n",
      "goalsConceded : 8\n",
      "ownGoals : 2\n",
      "penSaved : 2\n",
      "penMissed : 2\n",
      "yelCards : 2\n",
      "redCards : 2\n",
      "saves : 11\n",
      "bonus : 4\n",
      "bonusPointSystem : 48\n",
      "influence : 149\n",
      "creativity : 149\n",
      "threat : 53\n",
      "ictIndex : 94\n",
      "netTransfers : 113\n",
      "selectedBy : 444\n",
      "costGBP : 16\n"
     ]
    }
   ],
   "source": [
    "# separate discrete and continuous numerical variables for further analysis\n",
    "# dicrete and continuous normally separated by unique values\n",
    "for var in num_vars:\n",
    "    print(var,':',ffmlDf[var].nunique())\n",
    "    \n",
    "# discrete_vars: variables that are counted\n",
    "# continuous_vars: variables that are measured"
   ]
  },
  {
   "cell_type": "code",
   "execution_count": 12,
   "metadata": {},
   "outputs": [
    {
     "data": {
      "text/plain": [
       "['minsPlayed',\n",
       " 'goalsScored',\n",
       " 'assists',\n",
       " 'cleanSheets',\n",
       " 'goalsConceded',\n",
       " 'ownGoals',\n",
       " 'penSaved',\n",
       " 'penMissed',\n",
       " 'yelCards',\n",
       " 'redCards',\n",
       " 'saves',\n",
       " 'bonus']"
      ]
     },
     "execution_count": 12,
     "metadata": {},
     "output_type": "execute_result"
    }
   ],
   "source": [
    "# get discrete vars\n",
    "\n",
    "discrete_vars = [\n",
    "    var for var in num_vars\n",
    "    if ffmlDf[var].nunique() < 15 or var == 'minsPlayed'\n",
    "]\n",
    "discrete_vars"
   ]
  },
  {
   "cell_type": "code",
   "execution_count": 13,
   "metadata": {},
   "outputs": [
    {
     "data": {
      "image/png": "[encoded data removed]",
      "text/plain": [
       "<Figure size 432x288 with 1 Axes>"
      ]
     },
     "metadata": {
      "needs_background": "light"
     },
     "output_type": "display_data"
    },
    {
     "data": {
      "image/png": "[encoded data removed]",
      "text/plain": [
       "<Figure size 432x288 with 1 Axes>"
      ]
     },
     "metadata": {
      "needs_background": "light"
     },
     "output_type": "display_data"
    },
    {
     "data": {
      "image/png": "[encoded data removed]",
      "text/plain": [
       "<Figure size 432x288 with 1 Axes>"
      ]
     },
     "metadata": {
      "needs_background": "light"
     },
     "output_type": "display_data"
    },
    {
     "data": {
      "image/png": "[encoded data removed]",
      "text/plain": [
       "<Figure size 432x288 with 1 Axes>"
      ]
     },
     "metadata": {
      "needs_background": "light"
     },
     "output_type": "display_data"
    },
    {
     "data": {
      "image/png": "[encoded data removed]",
      "text/plain": [
       "<Figure size 432x288 with 1 Axes>"
      ]
     },
     "metadata": {
      "needs_background": "light"
     },
     "output_type": "display_data"
    },
    {
     "data": {
      "image/png": "[encoded data removed]",
      "text/plain": [
       "<Figure size 432x288 with 1 Axes>"
      ]
     },
     "metadata": {
      "needs_background": "light"
     },
     "output_type": "display_data"
    },
    {
     "data": {
      "image/png": "[encoded data removed]",
      "text/plain": [
       "<Figure size 432x288 with 1 Axes>"
      ]
     },
     "metadata": {
      "needs_background": "light"
     },
     "output_type": "display_data"
    },
    {
     "data": {
      "image/png": "[encoded data removed]",
      "text/plain": [
       "<Figure size 432x288 with 1 Axes>"
      ]
     },
     "metadata": {
      "needs_background": "light"
     },
     "output_type": "display_data"
    },
    {
     "data": {
      "image/png": "[encoded data removed]",
      "text/plain": [
       "<Figure size 432x288 with 1 Axes>"
      ]
     },
     "metadata": {
      "needs_background": "light"
     },
     "output_type": "display_data"
    },
    {
     "data": {
      "image/png": "[encoded data removed]",
      "text/plain": [
       "<Figure size 432x288 with 1 Axes>"
      ]
     },
     "metadata": {
      "needs_background": "light"
     },
     "output_type": "display_data"
    },
    {
     "data": {
      "image/png": "[encoded data removed]",
      "text/plain": [
       "<Figure size 432x288 with 1 Axes>"
      ]
     },
     "metadata": {
      "needs_background": "light"
     },
     "output_type": "display_data"
    },
    {
     "data": {
      "image/png": "[encoded data removed]",
      "text/plain": [
       "<Figure size 432x288 with 1 Axes>"
      ]
     },
     "metadata": {
      "needs_background": "light"
     },
     "output_type": "display_data"
    }
   ],
   "source": [
    "# plot num_vars as a bar (good for discrete)\n",
    "\n",
    "def BarPlotNumVars(var, df):\n",
    "    df = df.copy()\n",
    "    df.groupby(var)['points'].median().plot.bar()\n",
    "    plt.title(var)\n",
    "    plt.ylabel('median points')\n",
    "    plt.show()\n",
    "\n",
    "for var in discrete_vars:\n",
    "    BarPlotNumVars(var, ffmlDf)\n"
   ]
  },
  {
   "cell_type": "code",
   "execution_count": 14,
   "metadata": {},
   "outputs": [
    {
     "data": {
      "text/plain": [
       "['points',\n",
       " 'bonusPointSystem',\n",
       " 'influence',\n",
       " 'creativity',\n",
       " 'threat',\n",
       " 'ictIndex',\n",
       " 'netTransfers',\n",
       " 'selectedBy',\n",
       " 'costGBP']"
      ]
     },
     "execution_count": 14,
     "metadata": {},
     "output_type": "execute_result"
    }
   ],
   "source": [
    "# get continuous vars\n",
    "\n",
    "continuous_vars = [\n",
    "    var for var in num_vars\n",
    "    if var not in discrete_vars\n",
    "]\n",
    "continuous_vars"
   ]
  },
  {
   "cell_type": "code",
   "execution_count": 15,
   "metadata": {},
   "outputs": [
    {
     "data": {
      "image/png": "[encoded data removed]",
      "text/plain": [
       "<Figure size 432x288 with 1 Axes>"
      ]
     },
     "metadata": {
      "needs_background": "light"
     },
     "output_type": "display_data"
    },
    {
     "data": {
      "image/png": "[encoded data removed]",
      "text/plain": [
       "<Figure size 432x288 with 1 Axes>"
      ]
     },
     "metadata": {
      "needs_background": "light"
     },
     "output_type": "display_data"
    },
    {
     "data": {
      "image/png": "[encoded data removed]",
      "text/plain": [
       "<Figure size 432x288 with 1 Axes>"
      ]
     },
     "metadata": {
      "needs_background": "light"
     },
     "output_type": "display_data"
    },
    {
     "data": {
      "image/png": "[encoded data removed]",
      "text/plain": [
       "<Figure size 432x288 with 1 Axes>"
      ]
     },
     "metadata": {
      "needs_background": "light"
     },
     "output_type": "display_data"
    },
    {
     "data": {
      "image/png": "[encoded data removed]",
      "text/plain": [
       "<Figure size 432x288 with 1 Axes>"
      ]
     },
     "metadata": {
      "needs_background": "light"
     },
     "output_type": "display_data"
    },
    {
     "data": {
      "image/png": "[encoded data removed]",
      "text/plain": [
       "<Figure size 432x288 with 1 Axes>"
      ]
     },
     "metadata": {
      "needs_background": "light"
     },
     "output_type": "display_data"
    },
    {
     "data": {
      "image/png": "[encoded data removed]",
      "text/plain": [
       "<Figure size 432x288 with 1 Axes>"
      ]
     },
     "metadata": {
      "needs_background": "light"
     },
     "output_type": "display_data"
    },
    {
     "data": {
      "image/png": "[encoded data removed]",
      "text/plain": [
       "<Figure size 432x288 with 1 Axes>"
      ]
     },
     "metadata": {
      "needs_background": "light"
     },
     "output_type": "display_data"
    },
    {
     "data": {
      "image/png": "[encoded data removed]",
      "text/plain": [
       "<Figure size 432x288 with 1 Axes>"
      ]
     },
     "metadata": {
      "needs_background": "light"
     },
     "output_type": "display_data"
    }
   ],
   "source": [
    "# plot num_vars as hist (good for continuous)\n",
    "\n",
    "def HistPlotNumVars(var, df):\n",
    "    df = df.copy()\n",
    "    df[var].hist(bins=30)\n",
    "    plt.title(var)\n",
    "    plt.xlabel(var)\n",
    "    plt.ylabel('Number of Players')\n",
    "    plt.show()\n",
    "\n",
    "for var in continuous_vars:\n",
    "    HistPlotNumVars(var, ffmlDf)\n"
   ]
  },
  {
   "cell_type": "code",
   "execution_count": 16,
   "metadata": {},
   "outputs": [
    {
     "data": {
      "image/png": "[encoded data removed]",
      "text/plain": [
       "<Figure size 432x288 with 1 Axes>"
      ]
     },
     "metadata": {
      "needs_background": "light"
     },
     "output_type": "display_data"
    }
   ],
   "source": [
    "# if we transform the df do we get a more normal distribution\n",
    "# for our histograms\n",
    "\n",
    "def LogTranformContinuous(var, df):\n",
    "    df = df.copy() # protects original dataframe\n",
    "    \n",
    "    # values <= 0 - cant be transformed\n",
    "    if any(ffmlDf[var] <= 0):\n",
    "        pass\n",
    "    else:\n",
    "        # log transform the var\n",
    "        df[var] = np.log(df[var])\n",
    "        df[var].hist(bins=10)\n",
    "        plt.title(var)\n",
    "        plt.xlabel(var)\n",
    "        plt.ylabel('Number of Players')\n",
    "        plt.show()\n",
    "\n",
    "for var in continuous_vars:\n",
    "    LogTranformContinuous(var, ffmlDf)\n"
   ]
  },
  {
   "cell_type": "markdown",
   "metadata": {},
   "source": [
    "### didn't work out as I had hoped so let us not move forward with the transformed variables\n",
    "- not all continuous vars where transformed!\n",
    "- and the transformed costGBP was still skewed to the left"
   ]
  },
  {
   "cell_type": "code",
   "execution_count": 17,
   "metadata": {},
   "outputs": [
    {
     "data": {
      "image/png": "[encoded data removed]",
      "text/plain": [
       "<Figure size 432x288 with 1 Axes>"
      ]
     },
     "metadata": {
      "needs_background": "light"
     },
     "output_type": "display_data"
    },
    {
     "data": {
      "image/png": "[encoded data removed]",
      "text/plain": [
       "<Figure size 432x288 with 1 Axes>"
      ]
     },
     "metadata": {
      "needs_background": "light"
     },
     "output_type": "display_data"
    },
    {
     "data": {
      "image/png": "[encoded data removed]",
      "text/plain": [
       "<Figure size 432x288 with 1 Axes>"
      ]
     },
     "metadata": {
      "needs_background": "light"
     },
     "output_type": "display_data"
    },
    {
     "data": {
      "image/png": "[encoded data removed]",
      "text/plain": [
       "<Figure size 432x288 with 1 Axes>"
      ]
     },
     "metadata": {
      "needs_background": "light"
     },
     "output_type": "display_data"
    },
    {
     "data": {
      "image/png": "[encoded data removed]",
      "text/plain": [
       "<Figure size 432x288 with 1 Axes>"
      ]
     },
     "metadata": {
      "needs_background": "light"
     },
     "output_type": "display_data"
    },
    {
     "data": {
      "image/png": "[encoded data removed]",
      "text/plain": [
       "<Figure size 432x288 with 1 Axes>"
      ]
     },
     "metadata": {
      "needs_background": "light"
     },
     "output_type": "display_data"
    },
    {
     "data": {
      "image/png": "[encoded data removed]",
      "text/plain": [
       "<Figure size 432x288 with 1 Axes>"
      ]
     },
     "metadata": {
      "needs_background": "light"
     },
     "output_type": "display_data"
    },
    {
     "data": {
      "image/png": "[encoded data removed]",
      "text/plain": [
       "<Figure size 432x288 with 1 Axes>"
      ]
     },
     "metadata": {
      "needs_background": "light"
     },
     "output_type": "display_data"
    },
    {
     "data": {
      "image/png": "[encoded data removed]",
      "text/plain": [
       "<Figure size 432x288 with 1 Axes>"
      ]
     },
     "metadata": {
      "needs_background": "light"
     },
     "output_type": "display_data"
    }
   ],
   "source": [
    "# outliers extreme values can affect the performance of linear models\n",
    "# Boxplots let us spot outliers more easily\n",
    "\n",
    "def BoxPlotContinuousVar(var, df):\n",
    "    df = df.copy()\n",
    "    df.boxplot(column=var)\n",
    "    plt.title(var)\n",
    "    plt.show()\n",
    "    \n",
    "for var in continuous_vars:\n",
    "    BoxPlotContinuousVar(var, ffmlDf)\n"
   ]
  },
  {
   "cell_type": "markdown",
   "metadata": {},
   "source": [
    "##### it appears that players:\n",
    "- performing well\n",
    "- that are too expensive\n",
    "##### are outliers"
   ]
  },
  {
   "cell_type": "code",
   "execution_count": 18,
   "metadata": {
    "scrolled": true
   },
   "outputs": [
    {
     "data": {
      "text/html": [
       "<div>\n",
       "<style scoped>\n",
       "    .dataframe tbody tr th:only-of-type {\n",
       "        vertical-align: middle;\n",
       "    }\n",
       "\n",
       "    .dataframe tbody tr th {\n",
       "        vertical-align: top;\n",
       "    }\n",
       "\n",
       "    .dataframe thead th {\n",
       "        text-align: right;\n",
       "    }\n",
       "</style>\n",
       "<table border=\"1\" class=\"dataframe\">\n",
       "  <thead>\n",
       "    <tr style=\"text-align: right;\">\n",
       "      <th></th>\n",
       "      <th>points</th>\n",
       "      <th>minsPlayed</th>\n",
       "      <th>goalsScored</th>\n",
       "      <th>assists</th>\n",
       "      <th>cleanSheets</th>\n",
       "      <th>goalsConceded</th>\n",
       "      <th>ownGoals</th>\n",
       "      <th>penSaved</th>\n",
       "      <th>penMissed</th>\n",
       "      <th>yelCards</th>\n",
       "      <th>redCards</th>\n",
       "      <th>saves</th>\n",
       "      <th>bonus</th>\n",
       "      <th>bonusPointSystem</th>\n",
       "      <th>influence</th>\n",
       "      <th>creativity</th>\n",
       "      <th>threat</th>\n",
       "      <th>ictIndex</th>\n",
       "      <th>netTransfers</th>\n",
       "      <th>selectedBy</th>\n",
       "      <th>costGBP</th>\n",
       "      <th>gameDate</th>\n",
       "      <th>playerName</th>\n",
       "      <th>oppositionTeam</th>\n",
       "    </tr>\n",
       "  </thead>\n",
       "  <tbody>\n",
       "    <tr>\n",
       "      <th>3</th>\n",
       "      <td>8.0</td>\n",
       "      <td>84.0</td>\n",
       "      <td>1.0</td>\n",
       "      <td>0.0</td>\n",
       "      <td>1.0</td>\n",
       "      <td>0.0</td>\n",
       "      <td>0.0</td>\n",
       "      <td>0.0</td>\n",
       "      <td>0.0</td>\n",
       "      <td>0.0</td>\n",
       "      <td>0.0</td>\n",
       "      <td>0.0</td>\n",
       "      <td>2.0</td>\n",
       "      <td>32.0</td>\n",
       "      <td>32.0</td>\n",
       "      <td>23.3</td>\n",
       "      <td>50.0</td>\n",
       "      <td>10.5</td>\n",
       "      <td>0.0</td>\n",
       "      <td>538610.0</td>\n",
       "      <td>6.5</td>\n",
       "      <td>2020-09-12</td>\n",
       "      <td>('Callum', 'Wilson')</td>\n",
       "      <td>West Ham United</td>\n",
       "    </tr>\n",
       "    <tr>\n",
       "      <th>5</th>\n",
       "      <td>7.0</td>\n",
       "      <td>90.0</td>\n",
       "      <td>0.0</td>\n",
       "      <td>0.0</td>\n",
       "      <td>1.0</td>\n",
       "      <td>0.0</td>\n",
       "      <td>0.0</td>\n",
       "      <td>0.0</td>\n",
       "      <td>0.0</td>\n",
       "      <td>0.0</td>\n",
       "      <td>0.0</td>\n",
       "      <td>0.0</td>\n",
       "      <td>1.0</td>\n",
       "      <td>31.0</td>\n",
       "      <td>19.4</td>\n",
       "      <td>39.8</td>\n",
       "      <td>0.0</td>\n",
       "      <td>5.9</td>\n",
       "      <td>0.0</td>\n",
       "      <td>76806.0</td>\n",
       "      <td>4.5</td>\n",
       "      <td>2020-09-12</td>\n",
       "      <td>('Jamal', 'Lewis')</td>\n",
       "      <td>West Ham United</td>\n",
       "    </tr>\n",
       "    <tr>\n",
       "      <th>7</th>\n",
       "      <td>1.0</td>\n",
       "      <td>5.0</td>\n",
       "      <td>0.0</td>\n",
       "      <td>0.0</td>\n",
       "      <td>0.0</td>\n",
       "      <td>0.0</td>\n",
       "      <td>0.0</td>\n",
       "      <td>0.0</td>\n",
       "      <td>0.0</td>\n",
       "      <td>0.0</td>\n",
       "      <td>0.0</td>\n",
       "      <td>0.0</td>\n",
       "      <td>0.0</td>\n",
       "      <td>4.0</td>\n",
       "      <td>2.0</td>\n",
       "      <td>0.0</td>\n",
       "      <td>2.0</td>\n",
       "      <td>0.4</td>\n",
       "      <td>0.0</td>\n",
       "      <td>87664.0</td>\n",
       "      <td>5.5</td>\n",
       "      <td>2020-09-12</td>\n",
       "      <td>('Shane', 'Long')</td>\n",
       "      <td>Crystal Palace</td>\n",
       "    </tr>\n",
       "    <tr>\n",
       "      <th>8</th>\n",
       "      <td>2.0</td>\n",
       "      <td>90.0</td>\n",
       "      <td>0.0</td>\n",
       "      <td>0.0</td>\n",
       "      <td>0.0</td>\n",
       "      <td>1.0</td>\n",
       "      <td>0.0</td>\n",
       "      <td>0.0</td>\n",
       "      <td>0.0</td>\n",
       "      <td>0.0</td>\n",
       "      <td>0.0</td>\n",
       "      <td>0.0</td>\n",
       "      <td>0.0</td>\n",
       "      <td>15.0</td>\n",
       "      <td>16.8</td>\n",
       "      <td>18.5</td>\n",
       "      <td>2.0</td>\n",
       "      <td>3.7</td>\n",
       "      <td>0.0</td>\n",
       "      <td>87171.0</td>\n",
       "      <td>5.0</td>\n",
       "      <td>2020-09-12</td>\n",
       "      <td>('Ryan', 'Bertrand')</td>\n",
       "      <td>Crystal Palace</td>\n",
       "    </tr>\n",
       "    <tr>\n",
       "      <th>9</th>\n",
       "      <td>2.0</td>\n",
       "      <td>90.0</td>\n",
       "      <td>0.0</td>\n",
       "      <td>0.0</td>\n",
       "      <td>0.0</td>\n",
       "      <td>1.0</td>\n",
       "      <td>0.0</td>\n",
       "      <td>0.0</td>\n",
       "      <td>0.0</td>\n",
       "      <td>0.0</td>\n",
       "      <td>0.0</td>\n",
       "      <td>2.0</td>\n",
       "      <td>0.0</td>\n",
       "      <td>17.0</td>\n",
       "      <td>22.6</td>\n",
       "      <td>0.0</td>\n",
       "      <td>0.0</td>\n",
       "      <td>2.3</td>\n",
       "      <td>0.0</td>\n",
       "      <td>1400435.0</td>\n",
       "      <td>4.5</td>\n",
       "      <td>2020-09-12</td>\n",
       "      <td>('Alex', 'McCarthy')</td>\n",
       "      <td>Crystal Palace</td>\n",
       "    </tr>\n",
       "  </tbody>\n",
       "</table>\n",
       "</div>"
      ],
      "text/plain": [
       "   points  minsPlayed  goalsScored  assists  cleanSheets  goalsConceded  \\\n",
       "3     8.0        84.0          1.0      0.0          1.0            0.0   \n",
       "5     7.0        90.0          0.0      0.0          1.0            0.0   \n",
       "7     1.0         5.0          0.0      0.0          0.0            0.0   \n",
       "8     2.0        90.0          0.0      0.0          0.0            1.0   \n",
       "9     2.0        90.0          0.0      0.0          0.0            1.0   \n",
       "\n",
       "   ownGoals  penSaved  penMissed  yelCards  redCards  saves  bonus  \\\n",
       "3       0.0       0.0        0.0       0.0       0.0    0.0    2.0   \n",
       "5       0.0       0.0        0.0       0.0       0.0    0.0    1.0   \n",
       "7       0.0       0.0        0.0       0.0       0.0    0.0    0.0   \n",
       "8       0.0       0.0        0.0       0.0       0.0    0.0    0.0   \n",
       "9       0.0       0.0        0.0       0.0       0.0    2.0    0.0   \n",
       "\n",
       "   bonusPointSystem  influence  creativity  threat  ictIndex  netTransfers  \\\n",
       "3              32.0       32.0        23.3    50.0      10.5           0.0   \n",
       "5              31.0       19.4        39.8     0.0       5.9           0.0   \n",
       "7               4.0        2.0         0.0     2.0       0.4           0.0   \n",
       "8              15.0       16.8        18.5     2.0       3.7           0.0   \n",
       "9              17.0       22.6         0.0     0.0       2.3           0.0   \n",
       "\n",
       "   selectedBy  costGBP    gameDate            playerName   oppositionTeam  \n",
       "3    538610.0      6.5  2020-09-12  ('Callum', 'Wilson')  West Ham United  \n",
       "5     76806.0      4.5  2020-09-12    ('Jamal', 'Lewis')  West Ham United  \n",
       "7     87664.0      5.5  2020-09-12     ('Shane', 'Long')   Crystal Palace  \n",
       "8     87171.0      5.0  2020-09-12  ('Ryan', 'Bertrand')   Crystal Palace  \n",
       "9   1400435.0      4.5  2020-09-12  ('Alex', 'McCarthy')   Crystal Palace  "
      ]
     },
     "execution_count": 18,
     "metadata": {},
     "output_type": "execute_result"
    }
   ],
   "source": [
    "ffmlDf.head()"
   ]
  },
  {
   "cell_type": "code",
   "execution_count": 19,
   "metadata": {
    "scrolled": false
   },
   "outputs": [],
   "source": [
    "# plot the spread of points each player has gotten so far\n",
    "\n",
    "def PlotPlayer(df, player):\n",
    "    df = df.copy()\n",
    "    df.groupby('playerName').plot.line(x='gameDate', y='points')\n",
    "    plt.title(player)\n",
    "    plt.show()\n",
    "\n",
    "\n",
    "# couldnt seem to get the graphs to load in a scrollable format\n",
    "# couldn't set the title to show for each graph\n",
    "# best not to run this as it greatly increases the length and size\n",
    "# of the jupyter notebook\n",
    "for player in ffmlDf['playerName'].unique():\n",
    "    #PlotPlayer(ffmlDf, player)\n",
    "    break\n"
   ]
  },
  {
   "cell_type": "code",
   "execution_count": 20,
   "metadata": {},
   "outputs": [
    {
     "name": "stdout",
     "output_type": "stream",
     "text": [
      "3 out of 24 are categorical variables\n"
     ]
    },
    {
     "data": {
      "text/plain": [
       "['gameDate', 'playerName', 'oppositionTeam']"
      ]
     },
     "execution_count": 20,
     "metadata": {},
     "output_type": "execute_result"
    }
   ],
   "source": [
    "# group the categorical variable\n",
    "cat_vars = [\n",
    "    var for var in ffmlDf.columns\n",
    "    if ffmlDf[var].dtypes == 'O'\n",
    "    ]\n",
    "\n",
    "print(len(cat_vars),'out of',len(ffmlDf.columns),'are categorical variables')\n",
    "cat_vars"
   ]
  },
  {
   "cell_type": "code",
   "execution_count": 21,
   "metadata": {},
   "outputs": [
    {
     "name": "stdout",
     "output_type": "stream",
     "text": [
      "gameDate: has 64 unique values\n",
      "playerName: has 471 unique values\n",
      "oppositionTeam: has 20 unique values\n"
     ]
    }
   ],
   "source": [
    "for var in cat_vars:\n",
    "    print( var+': has', ffmlDf[var].nunique(), 'unique values')"
   ]
  },
  {
   "cell_type": "code",
   "execution_count": 22,
   "metadata": {},
   "outputs": [],
   "source": [
    "# the gameDate does not appear to offer any real value here\n",
    "# so i will look to drop it\n",
    "# oppositionTeam could help with predictions... maybe"
   ]
  },
  {
   "cell_type": "code",
   "execution_count": 23,
   "metadata": {},
   "outputs": [
    {
     "data": {
      "image/png": "[encoded data removed]",
      "text/plain": [
       "<Figure size 432x288 with 1 Axes>"
      ]
     },
     "metadata": {
      "needs_background": "light"
     },
     "output_type": "display_data"
    }
   ],
   "source": [
    "def OppTeamBarPlot(df):\n",
    "    df = df.copy()\n",
    "    df.groupby('oppositionTeam')['points'].mean().plot.bar()\n",
    "    plt.show()\n",
    "\n",
    "OppTeamBarPlot(ffmlDf)"
   ]
  },
  {
   "cell_type": "code",
   "execution_count": 24,
   "metadata": {},
   "outputs": [],
   "source": [
    "# the two worst teams in the prem have now been identified\n",
    "# the next stage will be the feature engineering where we create\n",
    "# the Test and Train datasets"
   ]
  }
 ],
 "metadata": {
  "kernelspec": {
   "display_name": "Python 3",
   "language": "python",
   "name": "python3"
  },
  "language_info": {
   "codemirror_mode": {
    "name": "ipython",
    "version": 3
   },
   "file_extension": ".py",
   "mimetype": "text/x-python",
   "name": "python",
   "nbconvert_exporter": "python",
   "pygments_lexer": "ipython3",
   "version": "3.8.5"
  }
 },
 "nbformat": 4,
 "nbformat_minor": 4
}
