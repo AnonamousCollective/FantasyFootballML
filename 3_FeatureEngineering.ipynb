{
 "cells": [
  {
   "cell_type": "code",
   "execution_count": 1,
   "metadata": {},
   "outputs": [],
   "source": [
    "# to handle datasets\n",
    "import pandas as pd\n",
    "from pandas import DataFrame\n",
    "pd.pandas.set_option('display.max_columns', None)\n",
    "import numpy as np\n",
    "\n",
    "# to plot\n",
    "import matplotlib.pyplot as plt\n",
    "import seaborn as sns\n",
    "\n",
    "# divide train and test set\n",
    "from sklearn.model_selection import train_test_split\n",
    "\n",
    "# feature scaling\n",
    "from sklearn.preprocessing import MinMaxScaler"
   ]
  },
  {
   "cell_type": "markdown",
   "metadata": {},
   "source": [
    "#### load dataset and drop the unneeded columns in the dataFrame\n",
    "- rows with no gametimeplayed, datetime and the unnamed columns"
   ]
  },
  {
   "cell_type": "code",
   "execution_count": 2,
   "metadata": {},
   "outputs": [
    {
     "data": {
      "text/html": [
       "<div>\n",
       "<style scoped>\n",
       "    .dataframe tbody tr th:only-of-type {\n",
       "        vertical-align: middle;\n",
       "    }\n",
       "\n",
       "    .dataframe tbody tr th {\n",
       "        vertical-align: top;\n",
       "    }\n",
       "\n",
       "    .dataframe thead th {\n",
       "        text-align: right;\n",
       "    }\n",
       "</style>\n",
       "<table border=\"1\" class=\"dataframe\">\n",
       "  <thead>\n",
       "    <tr style=\"text-align: right;\">\n",
       "      <th></th>\n",
       "      <th>Unnamed: 0</th>\n",
       "      <th>Unnamed: 0.1</th>\n",
       "      <th>points</th>\n",
       "      <th>minsPlayed</th>\n",
       "      <th>goalsScored</th>\n",
       "      <th>assists</th>\n",
       "      <th>cleanSheets</th>\n",
       "      <th>goalsConceded</th>\n",
       "      <th>ownGoals</th>\n",
       "      <th>penSaved</th>\n",
       "      <th>penMissed</th>\n",
       "      <th>yelCards</th>\n",
       "      <th>redCards</th>\n",
       "      <th>saves</th>\n",
       "      <th>bonus</th>\n",
       "      <th>bonusPointSystem</th>\n",
       "      <th>influence</th>\n",
       "      <th>creativity</th>\n",
       "      <th>threat</th>\n",
       "      <th>ictIndex</th>\n",
       "      <th>netTransfers</th>\n",
       "      <th>selectedBy</th>\n",
       "      <th>costGBP</th>\n",
       "      <th>gameDate</th>\n",
       "      <th>playerName</th>\n",
       "      <th>oppositionTeam</th>\n",
       "    </tr>\n",
       "  </thead>\n",
       "  <tbody>\n",
       "    <tr>\n",
       "      <th>0</th>\n",
       "      <td>0</td>\n",
       "      <td>0</td>\n",
       "      <td>0</td>\n",
       "      <td>0</td>\n",
       "      <td>0</td>\n",
       "      <td>0</td>\n",
       "      <td>0</td>\n",
       "      <td>0</td>\n",
       "      <td>0</td>\n",
       "      <td>0</td>\n",
       "      <td>0</td>\n",
       "      <td>0</td>\n",
       "      <td>0</td>\n",
       "      <td>0</td>\n",
       "      <td>0</td>\n",
       "      <td>0</td>\n",
       "      <td>0.0</td>\n",
       "      <td>0.0</td>\n",
       "      <td>0.0</td>\n",
       "      <td>0.0</td>\n",
       "      <td>0</td>\n",
       "      <td>76656</td>\n",
       "      <td>7.0</td>\n",
       "      <td>2020-09-12</td>\n",
       "      <td>('Mesut', 'Özil')</td>\n",
       "      <td>Fulham</td>\n",
       "    </tr>\n",
       "    <tr>\n",
       "      <th>1</th>\n",
       "      <td>1</td>\n",
       "      <td>8170</td>\n",
       "      <td>0</td>\n",
       "      <td>0</td>\n",
       "      <td>0</td>\n",
       "      <td>0</td>\n",
       "      <td>0</td>\n",
       "      <td>0</td>\n",
       "      <td>0</td>\n",
       "      <td>0</td>\n",
       "      <td>0</td>\n",
       "      <td>0</td>\n",
       "      <td>0</td>\n",
       "      <td>0</td>\n",
       "      <td>0</td>\n",
       "      <td>0</td>\n",
       "      <td>0.0</td>\n",
       "      <td>0.0</td>\n",
       "      <td>0.0</td>\n",
       "      <td>0.0</td>\n",
       "      <td>0</td>\n",
       "      <td>5313</td>\n",
       "      <td>4.5</td>\n",
       "      <td>2020-09-12</td>\n",
       "      <td>('Mark', 'Gillespie')</td>\n",
       "      <td>West Ham United</td>\n",
       "    </tr>\n",
       "    <tr>\n",
       "      <th>2</th>\n",
       "      <td>2</td>\n",
       "      <td>8190</td>\n",
       "      <td>0</td>\n",
       "      <td>0</td>\n",
       "      <td>0</td>\n",
       "      <td>0</td>\n",
       "      <td>0</td>\n",
       "      <td>0</td>\n",
       "      <td>0</td>\n",
       "      <td>0</td>\n",
       "      <td>0</td>\n",
       "      <td>0</td>\n",
       "      <td>0</td>\n",
       "      <td>0</td>\n",
       "      <td>0</td>\n",
       "      <td>0</td>\n",
       "      <td>0.0</td>\n",
       "      <td>0.0</td>\n",
       "      <td>0.0</td>\n",
       "      <td>0.0</td>\n",
       "      <td>0</td>\n",
       "      <td>2064</td>\n",
       "      <td>5.0</td>\n",
       "      <td>2020-09-12</td>\n",
       "      <td>('Jacob', 'Murphy')</td>\n",
       "      <td>West Ham United</td>\n",
       "    </tr>\n",
       "    <tr>\n",
       "      <th>3</th>\n",
       "      <td>3</td>\n",
       "      <td>8210</td>\n",
       "      <td>8</td>\n",
       "      <td>84</td>\n",
       "      <td>1</td>\n",
       "      <td>0</td>\n",
       "      <td>1</td>\n",
       "      <td>0</td>\n",
       "      <td>0</td>\n",
       "      <td>0</td>\n",
       "      <td>0</td>\n",
       "      <td>0</td>\n",
       "      <td>0</td>\n",
       "      <td>0</td>\n",
       "      <td>2</td>\n",
       "      <td>32</td>\n",
       "      <td>32.0</td>\n",
       "      <td>23.3</td>\n",
       "      <td>50.0</td>\n",
       "      <td>10.5</td>\n",
       "      <td>0</td>\n",
       "      <td>538610</td>\n",
       "      <td>6.5</td>\n",
       "      <td>2020-09-12</td>\n",
       "      <td>('Callum', 'Wilson')</td>\n",
       "      <td>West Ham United</td>\n",
       "    </tr>\n",
       "    <tr>\n",
       "      <th>4</th>\n",
       "      <td>4</td>\n",
       "      <td>8230</td>\n",
       "      <td>0</td>\n",
       "      <td>0</td>\n",
       "      <td>0</td>\n",
       "      <td>0</td>\n",
       "      <td>0</td>\n",
       "      <td>0</td>\n",
       "      <td>0</td>\n",
       "      <td>0</td>\n",
       "      <td>0</td>\n",
       "      <td>0</td>\n",
       "      <td>0</td>\n",
       "      <td>0</td>\n",
       "      <td>0</td>\n",
       "      <td>0</td>\n",
       "      <td>0.0</td>\n",
       "      <td>0.0</td>\n",
       "      <td>0.0</td>\n",
       "      <td>0.0</td>\n",
       "      <td>0</td>\n",
       "      <td>65008</td>\n",
       "      <td>6.0</td>\n",
       "      <td>2020-09-12</td>\n",
       "      <td>('Ryan', 'Fraser')</td>\n",
       "      <td>West Ham United</td>\n",
       "    </tr>\n",
       "  </tbody>\n",
       "</table>\n",
       "</div>"
      ],
      "text/plain": [
       "   Unnamed: 0  Unnamed: 0.1  points  minsPlayed  goalsScored  assists  \\\n",
       "0           0             0       0           0            0        0   \n",
       "1           1          8170       0           0            0        0   \n",
       "2           2          8190       0           0            0        0   \n",
       "3           3          8210       8          84            1        0   \n",
       "4           4          8230       0           0            0        0   \n",
       "\n",
       "   cleanSheets  goalsConceded  ownGoals  penSaved  penMissed  yelCards  \\\n",
       "0            0              0         0         0          0         0   \n",
       "1            0              0         0         0          0         0   \n",
       "2            0              0         0         0          0         0   \n",
       "3            1              0         0         0          0         0   \n",
       "4            0              0         0         0          0         0   \n",
       "\n",
       "   redCards  saves  bonus  bonusPointSystem  influence  creativity  threat  \\\n",
       "0         0      0      0                 0        0.0         0.0     0.0   \n",
       "1         0      0      0                 0        0.0         0.0     0.0   \n",
       "2         0      0      0                 0        0.0         0.0     0.0   \n",
       "3         0      0      2                32       32.0        23.3    50.0   \n",
       "4         0      0      0                 0        0.0         0.0     0.0   \n",
       "\n",
       "   ictIndex  netTransfers  selectedBy  costGBP    gameDate  \\\n",
       "0       0.0             0       76656      7.0  2020-09-12   \n",
       "1       0.0             0        5313      4.5  2020-09-12   \n",
       "2       0.0             0        2064      5.0  2020-09-12   \n",
       "3      10.5             0      538610      6.5  2020-09-12   \n",
       "4       0.0             0       65008      6.0  2020-09-12   \n",
       "\n",
       "              playerName   oppositionTeam  \n",
       "0      ('Mesut', 'Özil')           Fulham  \n",
       "1  ('Mark', 'Gillespie')  West Ham United  \n",
       "2    ('Jacob', 'Murphy')  West Ham United  \n",
       "3   ('Callum', 'Wilson')  West Ham United  \n",
       "4     ('Ryan', 'Fraser')  West Ham United  "
      ]
     },
     "execution_count": 2,
     "metadata": {},
     "output_type": "execute_result"
    }
   ],
   "source": [
    "ffmlDf = pd.read_csv('ffmlDF_20-21')\n",
    "\n",
    "ffmlDf.head()"
   ]
  },
  {
   "cell_type": "code",
   "execution_count": 3,
   "metadata": {},
   "outputs": [
    {
     "data": {
      "text/plain": [
       "(11679, 26)"
      ]
     },
     "execution_count": 3,
     "metadata": {},
     "output_type": "execute_result"
    }
   ],
   "source": [
    "ffmlDf.shape"
   ]
  },
  {
   "cell_type": "markdown",
   "metadata": {},
   "source": [
    "#### The aim of this is to predict players with the highest scores the following week, not based on OppositionTeam\n",
    "- we will drop opposition team from selected_feats"
   ]
  },
  {
   "cell_type": "code",
   "execution_count": 4,
   "metadata": {},
   "outputs": [
    {
     "data": {
      "text/html": [
       "<div>\n",
       "<style scoped>\n",
       "    .dataframe tbody tr th:only-of-type {\n",
       "        vertical-align: middle;\n",
       "    }\n",
       "\n",
       "    .dataframe tbody tr th {\n",
       "        vertical-align: top;\n",
       "    }\n",
       "\n",
       "    .dataframe thead th {\n",
       "        text-align: right;\n",
       "    }\n",
       "</style>\n",
       "<table border=\"1\" class=\"dataframe\">\n",
       "  <thead>\n",
       "    <tr style=\"text-align: right;\">\n",
       "      <th></th>\n",
       "      <th>points</th>\n",
       "      <th>minsPlayed</th>\n",
       "      <th>goalsScored</th>\n",
       "      <th>assists</th>\n",
       "      <th>cleanSheets</th>\n",
       "      <th>goalsConceded</th>\n",
       "      <th>ownGoals</th>\n",
       "      <th>penSaved</th>\n",
       "      <th>penMissed</th>\n",
       "      <th>yelCards</th>\n",
       "      <th>redCards</th>\n",
       "      <th>saves</th>\n",
       "      <th>bonus</th>\n",
       "      <th>bonusPointSystem</th>\n",
       "      <th>influence</th>\n",
       "      <th>creativity</th>\n",
       "      <th>threat</th>\n",
       "      <th>ictIndex</th>\n",
       "      <th>netTransfers</th>\n",
       "      <th>selectedBy</th>\n",
       "      <th>costGBP</th>\n",
       "      <th>playerName</th>\n",
       "    </tr>\n",
       "  </thead>\n",
       "  <tbody>\n",
       "    <tr>\n",
       "      <th>3</th>\n",
       "      <td>8.0</td>\n",
       "      <td>84.0</td>\n",
       "      <td>1.0</td>\n",
       "      <td>0.0</td>\n",
       "      <td>1.0</td>\n",
       "      <td>0.0</td>\n",
       "      <td>0.0</td>\n",
       "      <td>0.0</td>\n",
       "      <td>0.0</td>\n",
       "      <td>0.0</td>\n",
       "      <td>0.0</td>\n",
       "      <td>0.0</td>\n",
       "      <td>2.0</td>\n",
       "      <td>32.0</td>\n",
       "      <td>32.0</td>\n",
       "      <td>23.3</td>\n",
       "      <td>50.0</td>\n",
       "      <td>10.5</td>\n",
       "      <td>0.0</td>\n",
       "      <td>538610.0</td>\n",
       "      <td>6.5</td>\n",
       "      <td>('Callum', 'Wilson')</td>\n",
       "    </tr>\n",
       "    <tr>\n",
       "      <th>5</th>\n",
       "      <td>7.0</td>\n",
       "      <td>90.0</td>\n",
       "      <td>0.0</td>\n",
       "      <td>0.0</td>\n",
       "      <td>1.0</td>\n",
       "      <td>0.0</td>\n",
       "      <td>0.0</td>\n",
       "      <td>0.0</td>\n",
       "      <td>0.0</td>\n",
       "      <td>0.0</td>\n",
       "      <td>0.0</td>\n",
       "      <td>0.0</td>\n",
       "      <td>1.0</td>\n",
       "      <td>31.0</td>\n",
       "      <td>19.4</td>\n",
       "      <td>39.8</td>\n",
       "      <td>0.0</td>\n",
       "      <td>5.9</td>\n",
       "      <td>0.0</td>\n",
       "      <td>76806.0</td>\n",
       "      <td>4.5</td>\n",
       "      <td>('Jamal', 'Lewis')</td>\n",
       "    </tr>\n",
       "    <tr>\n",
       "      <th>7</th>\n",
       "      <td>1.0</td>\n",
       "      <td>5.0</td>\n",
       "      <td>0.0</td>\n",
       "      <td>0.0</td>\n",
       "      <td>0.0</td>\n",
       "      <td>0.0</td>\n",
       "      <td>0.0</td>\n",
       "      <td>0.0</td>\n",
       "      <td>0.0</td>\n",
       "      <td>0.0</td>\n",
       "      <td>0.0</td>\n",
       "      <td>0.0</td>\n",
       "      <td>0.0</td>\n",
       "      <td>4.0</td>\n",
       "      <td>2.0</td>\n",
       "      <td>0.0</td>\n",
       "      <td>2.0</td>\n",
       "      <td>0.4</td>\n",
       "      <td>0.0</td>\n",
       "      <td>87664.0</td>\n",
       "      <td>5.5</td>\n",
       "      <td>('Shane', 'Long')</td>\n",
       "    </tr>\n",
       "    <tr>\n",
       "      <th>8</th>\n",
       "      <td>2.0</td>\n",
       "      <td>90.0</td>\n",
       "      <td>0.0</td>\n",
       "      <td>0.0</td>\n",
       "      <td>0.0</td>\n",
       "      <td>1.0</td>\n",
       "      <td>0.0</td>\n",
       "      <td>0.0</td>\n",
       "      <td>0.0</td>\n",
       "      <td>0.0</td>\n",
       "      <td>0.0</td>\n",
       "      <td>0.0</td>\n",
       "      <td>0.0</td>\n",
       "      <td>15.0</td>\n",
       "      <td>16.8</td>\n",
       "      <td>18.5</td>\n",
       "      <td>2.0</td>\n",
       "      <td>3.7</td>\n",
       "      <td>0.0</td>\n",
       "      <td>87171.0</td>\n",
       "      <td>5.0</td>\n",
       "      <td>('Ryan', 'Bertrand')</td>\n",
       "    </tr>\n",
       "    <tr>\n",
       "      <th>9</th>\n",
       "      <td>2.0</td>\n",
       "      <td>90.0</td>\n",
       "      <td>0.0</td>\n",
       "      <td>0.0</td>\n",
       "      <td>0.0</td>\n",
       "      <td>1.0</td>\n",
       "      <td>0.0</td>\n",
       "      <td>0.0</td>\n",
       "      <td>0.0</td>\n",
       "      <td>0.0</td>\n",
       "      <td>0.0</td>\n",
       "      <td>2.0</td>\n",
       "      <td>0.0</td>\n",
       "      <td>17.0</td>\n",
       "      <td>22.6</td>\n",
       "      <td>0.0</td>\n",
       "      <td>0.0</td>\n",
       "      <td>2.3</td>\n",
       "      <td>0.0</td>\n",
       "      <td>1400435.0</td>\n",
       "      <td>4.5</td>\n",
       "      <td>('Alex', 'McCarthy')</td>\n",
       "    </tr>\n",
       "  </tbody>\n",
       "</table>\n",
       "</div>"
      ],
      "text/plain": [
       "   points  minsPlayed  goalsScored  assists  cleanSheets  goalsConceded  \\\n",
       "3     8.0        84.0          1.0      0.0          1.0            0.0   \n",
       "5     7.0        90.0          0.0      0.0          1.0            0.0   \n",
       "7     1.0         5.0          0.0      0.0          0.0            0.0   \n",
       "8     2.0        90.0          0.0      0.0          0.0            1.0   \n",
       "9     2.0        90.0          0.0      0.0          0.0            1.0   \n",
       "\n",
       "   ownGoals  penSaved  penMissed  yelCards  redCards  saves  bonus  \\\n",
       "3       0.0       0.0        0.0       0.0       0.0    0.0    2.0   \n",
       "5       0.0       0.0        0.0       0.0       0.0    0.0    1.0   \n",
       "7       0.0       0.0        0.0       0.0       0.0    0.0    0.0   \n",
       "8       0.0       0.0        0.0       0.0       0.0    0.0    0.0   \n",
       "9       0.0       0.0        0.0       0.0       0.0    2.0    0.0   \n",
       "\n",
       "   bonusPointSystem  influence  creativity  threat  ictIndex  netTransfers  \\\n",
       "3              32.0       32.0        23.3    50.0      10.5           0.0   \n",
       "5              31.0       19.4        39.8     0.0       5.9           0.0   \n",
       "7               4.0        2.0         0.0     2.0       0.4           0.0   \n",
       "8              15.0       16.8        18.5     2.0       3.7           0.0   \n",
       "9              17.0       22.6         0.0     0.0       2.3           0.0   \n",
       "\n",
       "   selectedBy  costGBP            playerName  \n",
       "3    538610.0      6.5  ('Callum', 'Wilson')  \n",
       "5     76806.0      4.5    ('Jamal', 'Lewis')  \n",
       "7     87664.0      5.5     ('Shane', 'Long')  \n",
       "8     87171.0      5.0  ('Ryan', 'Bertrand')  \n",
       "9   1400435.0      4.5  ('Alex', 'McCarthy')  "
      ]
     },
     "execution_count": 4,
     "metadata": {},
     "output_type": "execute_result"
    }
   ],
   "source": [
    "# drop unneccessary columns\n",
    "ffmlDf = ffmlDf.drop(columns=['Unnamed: 0','gameDate', 'Unnamed: 0.1', 'oppositionTeam'])\n",
    "\n",
    "# remove zerominsplayed - taken from 2_DataAnalysis\n",
    "def RemoveZeroMinsPlayed(df):\n",
    "    df = df.copy().where(df['minsPlayed'] != 0)\n",
    "    df.dropna(axis=0, inplace=True)\n",
    "    return df\n",
    "\n",
    "ffmlDf = RemoveZeroMinsPlayed(ffmlDf)\n",
    "\n",
    "ffmlDf.head()"
   ]
  },
  {
   "cell_type": "code",
   "execution_count": 5,
   "metadata": {},
   "outputs": [
    {
     "data": {
      "text/plain": [
       "(5169, 22)"
      ]
     },
     "execution_count": 5,
     "metadata": {},
     "output_type": "execute_result"
    }
   ],
   "source": [
    "ffmlDf.shape"
   ]
  },
  {
   "cell_type": "code",
   "execution_count": 6,
   "metadata": {
    "scrolled": true
   },
   "outputs": [
    {
     "data": {
      "text/plain": [
       "((4135, 22), (1034, 22))"
      ]
     },
     "execution_count": 6,
     "metadata": {},
     "output_type": "execute_result"
    }
   ],
   "source": [
    "# separate data into train and test sets\n",
    "X_train, X_test, y_train, y_test = train_test_split(ffmlDf,\n",
    "                                                   ffmlDf['points'],\n",
    "                                                   test_size=0.2,\n",
    "                                                   random_state=0)\n",
    "# 80:20 split\n",
    "# target is df['points']\n",
    "X_train.shape, X_test.shape #everything is looking good so far"
   ]
  },
  {
   "cell_type": "markdown",
   "metadata": {},
   "source": [
    "Check X_train for missing or na values"
   ]
  },
  {
   "cell_type": "code",
   "execution_count": 7,
   "metadata": {
    "scrolled": true
   },
   "outputs": [
    {
     "data": {
      "text/plain": [
       "[]"
      ]
     },
     "execution_count": 7,
     "metadata": {},
     "output_type": "execute_result"
    }
   ],
   "source": [
    "var_with_na = [\n",
    "    var for var in X_train.columns\n",
    "    if X_train[var].isnull().sum() > 0\n",
    "]\n",
    "var_with_na\n",
    "# if there were any vars with na we would, print the percentages\n",
    "# for both the num and cat vars and fill in missing values"
   ]
  },
  {
   "cell_type": "markdown",
   "metadata": {},
   "source": [
    "Check X_test for missing or na values"
   ]
  },
  {
   "cell_type": "code",
   "execution_count": 8,
   "metadata": {},
   "outputs": [
    {
     "data": {
      "text/plain": [
       "[]"
      ]
     },
     "execution_count": 8,
     "metadata": {},
     "output_type": "execute_result"
    }
   ],
   "source": [
    "[var for var in X_train.columns if X_test[var].isnull().sum()]"
   ]
  },
  {
   "cell_type": "markdown",
   "metadata": {},
   "source": [
    "#### Rare labels need to be identified and removed from cat_vars"
   ]
  },
  {
   "cell_type": "markdown",
   "metadata": {},
   "source": [
    "- identify cat vars"
   ]
  },
  {
   "cell_type": "code",
   "execution_count": 9,
   "metadata": {},
   "outputs": [
    {
     "data": {
      "text/plain": [
       "['playerName']"
      ]
     },
     "execution_count": 9,
     "metadata": {},
     "output_type": "execute_result"
    }
   ],
   "source": [
    "cat_vars = [var for var in X_train.columns if X_train[var].dtype == 'O']\n",
    "cat_vars"
   ]
  },
  {
   "cell_type": "code",
   "execution_count": 10,
   "metadata": {},
   "outputs": [
    {
     "name": "stdout",
     "output_type": "stream",
     "text": [
      "playerName\n",
      "(\"N'Golo\", 'Kanté')         0.003289\n",
      "('Aaron', 'Connolly')       0.002128\n",
      "('Aaron', 'Cresswell')      0.003869\n",
      "('Aaron', 'Ramsdale')       0.003676\n",
      "('Aaron', 'Wan-Bissaka')    0.003289\n",
      "                              ...   \n",
      "('Yerry', 'Mina')           0.002902\n",
      "('Youri', 'Tielemans')      0.003676\n",
      "('Yves', 'Bissouma')        0.003289\n",
      "('Zack', 'Steffen')         0.000193\n",
      "('Çaglar', 'Söyüncü')       0.001161\n",
      "Name: points, Length: 471, dtype: float64\n"
     ]
    }
   ],
   "source": [
    "def FindFrequentLabels(df, var):\n",
    "    df = df.copy()\n",
    "    \n",
    "    tmp = df.groupby(var)['points'].count() / len(df)\n",
    "    \n",
    "    print(tmp)\n",
    "# 4480 is len\n",
    "\n",
    "\n",
    "for var in cat_vars:\n",
    "    FindFrequentLabels(ffmlDf, var)"
   ]
  },
  {
   "cell_type": "markdown",
   "metadata": {},
   "source": [
    "As we have sooo many players the Rare percentage will have to be made a lot lower than usual.\n",
    "- opp team wont be affected by this"
   ]
  },
  {
   "cell_type": "code",
   "execution_count": 11,
   "metadata": {},
   "outputs": [
    {
     "name": "stderr",
     "output_type": "stream",
     "text": [
      "<ipython-input-11-85b20e727b1e>:12: SettingWithCopyWarning: \n",
      "A value is trying to be set on a copy of a slice from a DataFrame.\n",
      "Try using .loc[row_indexer,col_indexer] = value instead\n",
      "\n",
      "See the caveats in the documentation: https://pandas.pydata.org/pandas-docs/stable/user_guide/indexing.html#returning-a-view-versus-a-copy\n",
      "  X_train[var] = np.where(X_train[var].isin(frequent_list), X_train[var], 'Rare')\n",
      "<ipython-input-11-85b20e727b1e>:13: SettingWithCopyWarning: \n",
      "A value is trying to be set on a copy of a slice from a DataFrame.\n",
      "Try using .loc[row_indexer,col_indexer] = value instead\n",
      "\n",
      "See the caveats in the documentation: https://pandas.pydata.org/pandas-docs/stable/user_guide/indexing.html#returning-a-view-versus-a-copy\n",
      "  X_test[var] = np.where(X_test[var].isin(frequent_list), X_test[var], 'Rare')\n"
     ]
    }
   ],
   "source": [
    "def FindFrequentLabels(df, var, rare_perc):\n",
    "    df = df.copy()\n",
    "    tmp = df.groupby(var)['points'].count() / len(df)\n",
    "    return tmp[tmp > rare_perc].index\n",
    "\n",
    "# Rare Labels Romoved and Replaced!!!\n",
    "\n",
    "for var in cat_vars:\n",
    "    frequent_list = FindFrequentLabels(ffmlDf, var, 0.001)\n",
    "    # i want values of 0.001 so im being a little lenient i feel\n",
    "    \n",
    "    X_train[var] = np.where(X_train[var].isin(frequent_list), X_train[var], 'Rare')\n",
    "    X_test[var] = np.where(X_test[var].isin(frequent_list), X_test[var], 'Rare')"
   ]
  },
  {
   "cell_type": "markdown",
   "metadata": {},
   "source": [
    "Hope this adds value to the model"
   ]
  },
  {
   "cell_type": "code",
   "execution_count": 12,
   "metadata": {},
   "outputs": [
    {
     "name": "stdout",
     "output_type": "stream",
     "text": [
      "X_train: 356 (4135, 22)\n",
      "X_test: 331 (1034, 22)\n"
     ]
    }
   ],
   "source": [
    "print('X_train:',X_train['playerName'].nunique(), X_train.shape)\n",
    "print('X_test:',X_test['playerName'].nunique(), X_test.shape)"
   ]
  },
  {
   "cell_type": "markdown",
   "metadata": {},
   "source": [
    "I am happy with this, train and test have equall columns\n",
    "- but train has more unique values (what effect will this have??)"
   ]
  },
  {
   "cell_type": "markdown",
   "metadata": {},
   "source": [
    "## WE WILL NOT BE TRANSFORMING NUMERICAL VARIABLES!!!"
   ]
  },
  {
   "cell_type": "markdown",
   "metadata": {},
   "source": [
    "#### Ordinal Encoding was used but causes difficulty when trying to create the Sklean pipeline\n",
    "- I considered using get_dummies but due to the number of professional players it increased the features by too much\n",
    "- so when it came to feature selection the, the lasso selector disregarded most of the players"
   ]
  },
  {
   "cell_type": "code",
   "execution_count": 13,
   "metadata": {},
   "outputs": [
    {
     "name": "stderr",
     "output_type": "stream",
     "text": [
      "<ipython-input-13-2f9f51a26f16>:12: SettingWithCopyWarning: \n",
      "A value is trying to be set on a copy of a slice from a DataFrame.\n",
      "Try using .loc[row_indexer,col_indexer] = value instead\n",
      "\n",
      "See the caveats in the documentation: https://pandas.pydata.org/pandas-docs/stable/user_guide/indexing.html#returning-a-view-versus-a-copy\n",
      "  train[var] = train[var].map(ordinal_label)\n",
      "<ipython-input-13-2f9f51a26f16>:13: SettingWithCopyWarning: \n",
      "A value is trying to be set on a copy of a slice from a DataFrame.\n",
      "Try using .loc[row_indexer,col_indexer] = value instead\n",
      "\n",
      "See the caveats in the documentation: https://pandas.pydata.org/pandas-docs/stable/user_guide/indexing.html#returning-a-view-versus-a-copy\n",
      "  test[var] = test[var].map(ordinal_label)\n"
     ]
    }
   ],
   "source": [
    "# Encoding Categorical Variables\n",
    "\n",
    "# ordinal encoding not one-hot encoding (which uses get_dummies)\n",
    "def ReplaceCategories(train, test, var, target):\n",
    "    # order labels in a var from low to high\n",
    "    ordered_labels = train.groupby(var)[target].mean().sort_values().index\n",
    "    \n",
    "    # create a dictionary of ordered labels to integer values\n",
    "    ordinal_label = {k: i for i, k in enumerate(ordered_labels, 0)}\n",
    "    \n",
    "    # use the dict to replace cat strings with integers\n",
    "    train[var] = train[var].map(ordinal_label)\n",
    "    test[var] = test[var].map(ordinal_label)\n",
    "\n",
    "for var in cat_vars:\n",
    "    ReplaceCategories(X_train, X_test, var, 'points')"
   ]
  },
  {
   "cell_type": "code",
   "execution_count": 14,
   "metadata": {
    "scrolled": true
   },
   "outputs": [
    {
     "data": {
      "text/html": [
       "<div>\n",
       "<style scoped>\n",
       "    .dataframe tbody tr th:only-of-type {\n",
       "        vertical-align: middle;\n",
       "    }\n",
       "\n",
       "    .dataframe tbody tr th {\n",
       "        vertical-align: top;\n",
       "    }\n",
       "\n",
       "    .dataframe thead th {\n",
       "        text-align: right;\n",
       "    }\n",
       "</style>\n",
       "<table border=\"1\" class=\"dataframe\">\n",
       "  <thead>\n",
       "    <tr style=\"text-align: right;\">\n",
       "      <th></th>\n",
       "      <th>points</th>\n",
       "      <th>minsPlayed</th>\n",
       "      <th>goalsScored</th>\n",
       "      <th>assists</th>\n",
       "      <th>cleanSheets</th>\n",
       "      <th>goalsConceded</th>\n",
       "      <th>ownGoals</th>\n",
       "      <th>penSaved</th>\n",
       "      <th>penMissed</th>\n",
       "      <th>yelCards</th>\n",
       "      <th>redCards</th>\n",
       "      <th>saves</th>\n",
       "      <th>bonus</th>\n",
       "      <th>bonusPointSystem</th>\n",
       "      <th>influence</th>\n",
       "      <th>creativity</th>\n",
       "      <th>threat</th>\n",
       "      <th>ictIndex</th>\n",
       "      <th>netTransfers</th>\n",
       "      <th>selectedBy</th>\n",
       "      <th>costGBP</th>\n",
       "      <th>playerName</th>\n",
       "    </tr>\n",
       "  </thead>\n",
       "  <tbody>\n",
       "    <tr>\n",
       "      <th>7636</th>\n",
       "      <td>1.0</td>\n",
       "      <td>1.0</td>\n",
       "      <td>0.0</td>\n",
       "      <td>0.0</td>\n",
       "      <td>0.0</td>\n",
       "      <td>0.0</td>\n",
       "      <td>0.0</td>\n",
       "      <td>0.0</td>\n",
       "      <td>0.0</td>\n",
       "      <td>0.0</td>\n",
       "      <td>0.0</td>\n",
       "      <td>0.0</td>\n",
       "      <td>0.0</td>\n",
       "      <td>12.0</td>\n",
       "      <td>10.6</td>\n",
       "      <td>4.3</td>\n",
       "      <td>0.0</td>\n",
       "      <td>1.5</td>\n",
       "      <td>0.0</td>\n",
       "      <td>60330.0</td>\n",
       "      <td>5.0</td>\n",
       "      <td>11</td>\n",
       "    </tr>\n",
       "    <tr>\n",
       "      <th>8639</th>\n",
       "      <td>2.0</td>\n",
       "      <td>83.0</td>\n",
       "      <td>0.0</td>\n",
       "      <td>0.0</td>\n",
       "      <td>0.0</td>\n",
       "      <td>1.0</td>\n",
       "      <td>0.0</td>\n",
       "      <td>0.0</td>\n",
       "      <td>0.0</td>\n",
       "      <td>0.0</td>\n",
       "      <td>0.0</td>\n",
       "      <td>0.0</td>\n",
       "      <td>0.0</td>\n",
       "      <td>3.0</td>\n",
       "      <td>1.2</td>\n",
       "      <td>0.1</td>\n",
       "      <td>0.0</td>\n",
       "      <td>0.1</td>\n",
       "      <td>0.0</td>\n",
       "      <td>5393.0</td>\n",
       "      <td>5.5</td>\n",
       "      <td>197</td>\n",
       "    </tr>\n",
       "    <tr>\n",
       "      <th>5235</th>\n",
       "      <td>0.0</td>\n",
       "      <td>90.0</td>\n",
       "      <td>0.0</td>\n",
       "      <td>0.0</td>\n",
       "      <td>0.0</td>\n",
       "      <td>5.0</td>\n",
       "      <td>0.0</td>\n",
       "      <td>0.0</td>\n",
       "      <td>0.0</td>\n",
       "      <td>0.0</td>\n",
       "      <td>0.0</td>\n",
       "      <td>0.0</td>\n",
       "      <td>0.0</td>\n",
       "      <td>0.0</td>\n",
       "      <td>0.0</td>\n",
       "      <td>0.0</td>\n",
       "      <td>0.0</td>\n",
       "      <td>0.0</td>\n",
       "      <td>-44155.0</td>\n",
       "      <td>347655.0</td>\n",
       "      <td>5.5</td>\n",
       "      <td>291</td>\n",
       "    </tr>\n",
       "    <tr>\n",
       "      <th>6943</th>\n",
       "      <td>2.0</td>\n",
       "      <td>84.0</td>\n",
       "      <td>0.0</td>\n",
       "      <td>0.0</td>\n",
       "      <td>0.0</td>\n",
       "      <td>1.0</td>\n",
       "      <td>0.0</td>\n",
       "      <td>0.0</td>\n",
       "      <td>0.0</td>\n",
       "      <td>0.0</td>\n",
       "      <td>0.0</td>\n",
       "      <td>0.0</td>\n",
       "      <td>0.0</td>\n",
       "      <td>3.0</td>\n",
       "      <td>2.0</td>\n",
       "      <td>15.3</td>\n",
       "      <td>6.0</td>\n",
       "      <td>2.3</td>\n",
       "      <td>0.0</td>\n",
       "      <td>132947.0</td>\n",
       "      <td>8.0</td>\n",
       "      <td>158</td>\n",
       "    </tr>\n",
       "    <tr>\n",
       "      <th>6285</th>\n",
       "      <td>4.0</td>\n",
       "      <td>10.0</td>\n",
       "      <td>0.0</td>\n",
       "      <td>1.0</td>\n",
       "      <td>0.0</td>\n",
       "      <td>0.0</td>\n",
       "      <td>0.0</td>\n",
       "      <td>0.0</td>\n",
       "      <td>0.0</td>\n",
       "      <td>0.0</td>\n",
       "      <td>0.0</td>\n",
       "      <td>0.0</td>\n",
       "      <td>0.0</td>\n",
       "      <td>0.0</td>\n",
       "      <td>0.0</td>\n",
       "      <td>0.0</td>\n",
       "      <td>0.0</td>\n",
       "      <td>0.0</td>\n",
       "      <td>0.0</td>\n",
       "      <td>2064.0</td>\n",
       "      <td>5.0</td>\n",
       "      <td>72</td>\n",
       "    </tr>\n",
       "  </tbody>\n",
       "</table>\n",
       "</div>"
      ],
      "text/plain": [
       "      points  minsPlayed  goalsScored  assists  cleanSheets  goalsConceded  \\\n",
       "7636     1.0         1.0          0.0      0.0          0.0            0.0   \n",
       "8639     2.0        83.0          0.0      0.0          0.0            1.0   \n",
       "5235     0.0        90.0          0.0      0.0          0.0            5.0   \n",
       "6943     2.0        84.0          0.0      0.0          0.0            1.0   \n",
       "6285     4.0        10.0          0.0      1.0          0.0            0.0   \n",
       "\n",
       "      ownGoals  penSaved  penMissed  yelCards  redCards  saves  bonus  \\\n",
       "7636       0.0       0.0        0.0       0.0       0.0    0.0    0.0   \n",
       "8639       0.0       0.0        0.0       0.0       0.0    0.0    0.0   \n",
       "5235       0.0       0.0        0.0       0.0       0.0    0.0    0.0   \n",
       "6943       0.0       0.0        0.0       0.0       0.0    0.0    0.0   \n",
       "6285       0.0       0.0        0.0       0.0       0.0    0.0    0.0   \n",
       "\n",
       "      bonusPointSystem  influence  creativity  threat  ictIndex  netTransfers  \\\n",
       "7636              12.0       10.6         4.3     0.0       1.5           0.0   \n",
       "8639               3.0        1.2         0.1     0.0       0.1           0.0   \n",
       "5235               0.0        0.0         0.0     0.0       0.0      -44155.0   \n",
       "6943               3.0        2.0        15.3     6.0       2.3           0.0   \n",
       "6285               0.0        0.0         0.0     0.0       0.0           0.0   \n",
       "\n",
       "      selectedBy  costGBP  playerName  \n",
       "7636     60330.0      5.0          11  \n",
       "8639      5393.0      5.5         197  \n",
       "5235    347655.0      5.5         291  \n",
       "6943    132947.0      8.0         158  \n",
       "6285      2064.0      5.0          72  "
      ]
     },
     "execution_count": 14,
     "metadata": {},
     "output_type": "execute_result"
    }
   ],
   "source": [
    "X_train.head()"
   ]
  },
  {
   "cell_type": "markdown",
   "metadata": {},
   "source": [
    "check null values in the train"
   ]
  },
  {
   "cell_type": "code",
   "execution_count": 15,
   "metadata": {},
   "outputs": [
    {
     "data": {
      "text/plain": [
       "[]"
      ]
     },
     "execution_count": 15,
     "metadata": {},
     "output_type": "execute_result"
    }
   ],
   "source": [
    "[\n",
    "    var for var in X_train\n",
    "    if X_train[var].isnull().sum() > 0\n",
    "]"
   ]
  },
  {
   "cell_type": "markdown",
   "metadata": {},
   "source": [
    "check null values in test"
   ]
  },
  {
   "cell_type": "code",
   "execution_count": 16,
   "metadata": {},
   "outputs": [
    {
     "data": {
      "text/plain": [
       "[]"
      ]
     },
     "execution_count": 16,
     "metadata": {},
     "output_type": "execute_result"
    }
   ],
   "source": [
    "[\n",
    "    var for var in X_test\n",
    "    if X_test[var].isnull().sum() > 0\n",
    "]"
   ]
  },
  {
   "cell_type": "markdown",
   "metadata": {},
   "source": [
    "#### Feature Scaling."
   ]
  },
  {
   "cell_type": "code",
   "execution_count": 17,
   "metadata": {},
   "outputs": [
    {
     "data": {
      "text/plain": [
       "(['minsPlayed',\n",
       "  'goalsScored',\n",
       "  'assists',\n",
       "  'cleanSheets',\n",
       "  'goalsConceded',\n",
       "  'ownGoals',\n",
       "  'penSaved',\n",
       "  'penMissed',\n",
       "  'yelCards',\n",
       "  'redCards',\n",
       "  'saves',\n",
       "  'bonus',\n",
       "  'bonusPointSystem',\n",
       "  'influence',\n",
       "  'creativity',\n",
       "  'threat',\n",
       "  'ictIndex',\n",
       "  'netTransfers',\n",
       "  'selectedBy',\n",
       "  'costGBP'],\n",
       " 20)"
      ]
     },
     "execution_count": 17,
     "metadata": {},
     "output_type": "execute_result"
    }
   ],
   "source": [
    "# capture all vars in a list apart from TARGET\n",
    "train_vars = [\n",
    "    var for var in X_train.columns\n",
    "    if var not in cat_vars and var != 'points' # could have used '!='...\n",
    "]\n",
    "train_vars, len(train_vars)"
   ]
  },
  {
   "cell_type": "markdown",
   "metadata": {},
   "source": [
    "##### Create Scaler"
   ]
  },
  {
   "cell_type": "code",
   "execution_count": 18,
   "metadata": {},
   "outputs": [],
   "source": [
    "# Create Scaler\n",
    "scaler = MinMaxScaler()\n",
    "# fit scaler to the train set - never the test set\n",
    "scaler.fit(X_train[train_vars])\n",
    "# transform the train and test set\n",
    "X_train.to_csv('xtrain.csv', index=False)\n",
    "X_test.to_csv('xtest.csv', index=False)"
   ]
  },
  {
   "cell_type": "code",
   "execution_count": 19,
   "metadata": {
    "scrolled": true
   },
   "outputs": [
    {
     "data": {
      "text/html": [
       "<div>\n",
       "<style scoped>\n",
       "    .dataframe tbody tr th:only-of-type {\n",
       "        vertical-align: middle;\n",
       "    }\n",
       "\n",
       "    .dataframe tbody tr th {\n",
       "        vertical-align: top;\n",
       "    }\n",
       "\n",
       "    .dataframe thead th {\n",
       "        text-align: right;\n",
       "    }\n",
       "</style>\n",
       "<table border=\"1\" class=\"dataframe\">\n",
       "  <thead>\n",
       "    <tr style=\"text-align: right;\">\n",
       "      <th></th>\n",
       "      <th>points</th>\n",
       "      <th>minsPlayed</th>\n",
       "      <th>goalsScored</th>\n",
       "      <th>assists</th>\n",
       "      <th>cleanSheets</th>\n",
       "      <th>goalsConceded</th>\n",
       "      <th>ownGoals</th>\n",
       "      <th>penSaved</th>\n",
       "      <th>penMissed</th>\n",
       "      <th>yelCards</th>\n",
       "      <th>redCards</th>\n",
       "      <th>saves</th>\n",
       "      <th>bonus</th>\n",
       "      <th>bonusPointSystem</th>\n",
       "      <th>influence</th>\n",
       "      <th>creativity</th>\n",
       "      <th>threat</th>\n",
       "      <th>ictIndex</th>\n",
       "      <th>netTransfers</th>\n",
       "      <th>selectedBy</th>\n",
       "      <th>costGBP</th>\n",
       "      <th>playerName</th>\n",
       "    </tr>\n",
       "  </thead>\n",
       "  <tbody>\n",
       "    <tr>\n",
       "      <th>7636</th>\n",
       "      <td>1.0</td>\n",
       "      <td>1.0</td>\n",
       "      <td>0.0</td>\n",
       "      <td>0.0</td>\n",
       "      <td>0.0</td>\n",
       "      <td>0.0</td>\n",
       "      <td>0.0</td>\n",
       "      <td>0.0</td>\n",
       "      <td>0.0</td>\n",
       "      <td>0.0</td>\n",
       "      <td>0.0</td>\n",
       "      <td>0.0</td>\n",
       "      <td>0.0</td>\n",
       "      <td>12.0</td>\n",
       "      <td>10.6</td>\n",
       "      <td>4.3</td>\n",
       "      <td>0.0</td>\n",
       "      <td>1.5</td>\n",
       "      <td>0.0</td>\n",
       "      <td>60330.0</td>\n",
       "      <td>5.0</td>\n",
       "      <td>11</td>\n",
       "    </tr>\n",
       "    <tr>\n",
       "      <th>8639</th>\n",
       "      <td>2.0</td>\n",
       "      <td>83.0</td>\n",
       "      <td>0.0</td>\n",
       "      <td>0.0</td>\n",
       "      <td>0.0</td>\n",
       "      <td>1.0</td>\n",
       "      <td>0.0</td>\n",
       "      <td>0.0</td>\n",
       "      <td>0.0</td>\n",
       "      <td>0.0</td>\n",
       "      <td>0.0</td>\n",
       "      <td>0.0</td>\n",
       "      <td>0.0</td>\n",
       "      <td>3.0</td>\n",
       "      <td>1.2</td>\n",
       "      <td>0.1</td>\n",
       "      <td>0.0</td>\n",
       "      <td>0.1</td>\n",
       "      <td>0.0</td>\n",
       "      <td>5393.0</td>\n",
       "      <td>5.5</td>\n",
       "      <td>197</td>\n",
       "    </tr>\n",
       "    <tr>\n",
       "      <th>5235</th>\n",
       "      <td>0.0</td>\n",
       "      <td>90.0</td>\n",
       "      <td>0.0</td>\n",
       "      <td>0.0</td>\n",
       "      <td>0.0</td>\n",
       "      <td>5.0</td>\n",
       "      <td>0.0</td>\n",
       "      <td>0.0</td>\n",
       "      <td>0.0</td>\n",
       "      <td>0.0</td>\n",
       "      <td>0.0</td>\n",
       "      <td>0.0</td>\n",
       "      <td>0.0</td>\n",
       "      <td>0.0</td>\n",
       "      <td>0.0</td>\n",
       "      <td>0.0</td>\n",
       "      <td>0.0</td>\n",
       "      <td>0.0</td>\n",
       "      <td>-44155.0</td>\n",
       "      <td>347655.0</td>\n",
       "      <td>5.5</td>\n",
       "      <td>291</td>\n",
       "    </tr>\n",
       "    <tr>\n",
       "      <th>6943</th>\n",
       "      <td>2.0</td>\n",
       "      <td>84.0</td>\n",
       "      <td>0.0</td>\n",
       "      <td>0.0</td>\n",
       "      <td>0.0</td>\n",
       "      <td>1.0</td>\n",
       "      <td>0.0</td>\n",
       "      <td>0.0</td>\n",
       "      <td>0.0</td>\n",
       "      <td>0.0</td>\n",
       "      <td>0.0</td>\n",
       "      <td>0.0</td>\n",
       "      <td>0.0</td>\n",
       "      <td>3.0</td>\n",
       "      <td>2.0</td>\n",
       "      <td>15.3</td>\n",
       "      <td>6.0</td>\n",
       "      <td>2.3</td>\n",
       "      <td>0.0</td>\n",
       "      <td>132947.0</td>\n",
       "      <td>8.0</td>\n",
       "      <td>158</td>\n",
       "    </tr>\n",
       "    <tr>\n",
       "      <th>6285</th>\n",
       "      <td>4.0</td>\n",
       "      <td>10.0</td>\n",
       "      <td>0.0</td>\n",
       "      <td>1.0</td>\n",
       "      <td>0.0</td>\n",
       "      <td>0.0</td>\n",
       "      <td>0.0</td>\n",
       "      <td>0.0</td>\n",
       "      <td>0.0</td>\n",
       "      <td>0.0</td>\n",
       "      <td>0.0</td>\n",
       "      <td>0.0</td>\n",
       "      <td>0.0</td>\n",
       "      <td>0.0</td>\n",
       "      <td>0.0</td>\n",
       "      <td>0.0</td>\n",
       "      <td>0.0</td>\n",
       "      <td>0.0</td>\n",
       "      <td>0.0</td>\n",
       "      <td>2064.0</td>\n",
       "      <td>5.0</td>\n",
       "      <td>72</td>\n",
       "    </tr>\n",
       "  </tbody>\n",
       "</table>\n",
       "</div>"
      ],
      "text/plain": [
       "      points  minsPlayed  goalsScored  assists  cleanSheets  goalsConceded  \\\n",
       "7636     1.0         1.0          0.0      0.0          0.0            0.0   \n",
       "8639     2.0        83.0          0.0      0.0          0.0            1.0   \n",
       "5235     0.0        90.0          0.0      0.0          0.0            5.0   \n",
       "6943     2.0        84.0          0.0      0.0          0.0            1.0   \n",
       "6285     4.0        10.0          0.0      1.0          0.0            0.0   \n",
       "\n",
       "      ownGoals  penSaved  penMissed  yelCards  redCards  saves  bonus  \\\n",
       "7636       0.0       0.0        0.0       0.0       0.0    0.0    0.0   \n",
       "8639       0.0       0.0        0.0       0.0       0.0    0.0    0.0   \n",
       "5235       0.0       0.0        0.0       0.0       0.0    0.0    0.0   \n",
       "6943       0.0       0.0        0.0       0.0       0.0    0.0    0.0   \n",
       "6285       0.0       0.0        0.0       0.0       0.0    0.0    0.0   \n",
       "\n",
       "      bonusPointSystem  influence  creativity  threat  ictIndex  netTransfers  \\\n",
       "7636              12.0       10.6         4.3     0.0       1.5           0.0   \n",
       "8639               3.0        1.2         0.1     0.0       0.1           0.0   \n",
       "5235               0.0        0.0         0.0     0.0       0.0      -44155.0   \n",
       "6943               3.0        2.0        15.3     6.0       2.3           0.0   \n",
       "6285               0.0        0.0         0.0     0.0       0.0           0.0   \n",
       "\n",
       "      selectedBy  costGBP  playerName  \n",
       "7636     60330.0      5.0          11  \n",
       "8639      5393.0      5.5         197  \n",
       "5235    347655.0      5.5         291  \n",
       "6943    132947.0      8.0         158  \n",
       "6285      2064.0      5.0          72  "
      ]
     },
     "execution_count": 19,
     "metadata": {},
     "output_type": "execute_result"
    }
   ],
   "source": [
    "X_train.head()"
   ]
  }
 ],
 "metadata": {
  "kernelspec": {
   "display_name": "Python 3",
   "language": "python",
   "name": "python3"
  },
  "language_info": {
   "codemirror_mode": {
    "name": "ipython",
    "version": 3
   },
   "file_extension": ".py",
   "mimetype": "text/x-python",
   "name": "python",
   "nbconvert_exporter": "python",
   "pygments_lexer": "ipython3",
   "version": "3.8.5"
  }
 },
 "nbformat": 4,
 "nbformat_minor": 4
}
