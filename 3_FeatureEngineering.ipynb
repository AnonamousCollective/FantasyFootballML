{
 "cells": [
  {
   "cell_type": "code",
   "execution_count": 1,
   "metadata": {},
   "outputs": [],
   "source": [
    "# to handle datasets\n",
    "import pandas as pd\n",
    "from pandas import DataFrame\n",
    "pd.pandas.set_option('display.max_columns', None)\n",
    "import numpy as np\n",
    "\n",
    "# to plot\n",
    "import matplotlib.pyplot as plt\n",
    "import seaborn as sns\n",
    "\n",
    "# divide train and test set\n",
    "from sklearn.model_selection import train_test_split\n",
    "\n",
    "# feature scaling\n",
    "from sklearn.preprocessing import MinMaxScaler"
   ]
  },
  {
   "cell_type": "code",
   "execution_count": 2,
   "metadata": {},
   "outputs": [
    {
     "data": {
      "text/html": [
       "<div>\n",
       "<style scoped>\n",
       "    .dataframe tbody tr th:only-of-type {\n",
       "        vertical-align: middle;\n",
       "    }\n",
       "\n",
       "    .dataframe tbody tr th {\n",
       "        vertical-align: top;\n",
       "    }\n",
       "\n",
       "    .dataframe thead th {\n",
       "        text-align: right;\n",
       "    }\n",
       "</style>\n",
       "<table border=\"1\" class=\"dataframe\">\n",
       "  <thead>\n",
       "    <tr style=\"text-align: right;\">\n",
       "      <th></th>\n",
       "      <th>Unnamed: 0</th>\n",
       "      <th>points</th>\n",
       "      <th>minsPlayed</th>\n",
       "      <th>goalsScored</th>\n",
       "      <th>assists</th>\n",
       "      <th>cleanSheets</th>\n",
       "      <th>goalsConceded</th>\n",
       "      <th>ownGoals</th>\n",
       "      <th>penSaved</th>\n",
       "      <th>penMissed</th>\n",
       "      <th>yelCards</th>\n",
       "      <th>redCards</th>\n",
       "      <th>saves</th>\n",
       "      <th>bonus</th>\n",
       "      <th>bonusPointSystem</th>\n",
       "      <th>influence</th>\n",
       "      <th>creativity</th>\n",
       "      <th>threat</th>\n",
       "      <th>ictIndex</th>\n",
       "      <th>netTransfers</th>\n",
       "      <th>selectedBy</th>\n",
       "      <th>costGBP</th>\n",
       "      <th>gameDate</th>\n",
       "      <th>playerName</th>\n",
       "      <th>oppositionTeam</th>\n",
       "    </tr>\n",
       "  </thead>\n",
       "  <tbody>\n",
       "    <tr>\n",
       "      <th>0</th>\n",
       "      <td>0</td>\n",
       "      <td>0</td>\n",
       "      <td>0</td>\n",
       "      <td>0</td>\n",
       "      <td>0</td>\n",
       "      <td>0</td>\n",
       "      <td>0</td>\n",
       "      <td>0</td>\n",
       "      <td>0</td>\n",
       "      <td>0</td>\n",
       "      <td>0</td>\n",
       "      <td>0</td>\n",
       "      <td>0</td>\n",
       "      <td>0</td>\n",
       "      <td>0</td>\n",
       "      <td>0.0</td>\n",
       "      <td>0.0</td>\n",
       "      <td>0.0</td>\n",
       "      <td>0.0</td>\n",
       "      <td>0</td>\n",
       "      <td>76656</td>\n",
       "      <td>7.0</td>\n",
       "      <td>2020-09-12</td>\n",
       "      <td>('Mesut', 'Özil')</td>\n",
       "      <td>Fulham</td>\n",
       "    </tr>\n",
       "    <tr>\n",
       "      <th>1</th>\n",
       "      <td>6378</td>\n",
       "      <td>6</td>\n",
       "      <td>90</td>\n",
       "      <td>0</td>\n",
       "      <td>0</td>\n",
       "      <td>1</td>\n",
       "      <td>0</td>\n",
       "      <td>0</td>\n",
       "      <td>0</td>\n",
       "      <td>0</td>\n",
       "      <td>0</td>\n",
       "      <td>0</td>\n",
       "      <td>0</td>\n",
       "      <td>0</td>\n",
       "      <td>27</td>\n",
       "      <td>26.0</td>\n",
       "      <td>0.1</td>\n",
       "      <td>2.0</td>\n",
       "      <td>2.8</td>\n",
       "      <td>0</td>\n",
       "      <td>88657</td>\n",
       "      <td>5.0</td>\n",
       "      <td>2020-09-12</td>\n",
       "      <td>('Federico', 'Fernández')</td>\n",
       "      <td>West Ham United</td>\n",
       "    </tr>\n",
       "    <tr>\n",
       "      <th>2</th>\n",
       "      <td>6394</td>\n",
       "      <td>0</td>\n",
       "      <td>0</td>\n",
       "      <td>0</td>\n",
       "      <td>0</td>\n",
       "      <td>0</td>\n",
       "      <td>0</td>\n",
       "      <td>0</td>\n",
       "      <td>0</td>\n",
       "      <td>0</td>\n",
       "      <td>0</td>\n",
       "      <td>0</td>\n",
       "      <td>0</td>\n",
       "      <td>0</td>\n",
       "      <td>0</td>\n",
       "      <td>0.0</td>\n",
       "      <td>0.0</td>\n",
       "      <td>0.0</td>\n",
       "      <td>0.0</td>\n",
       "      <td>0</td>\n",
       "      <td>3326</td>\n",
       "      <td>4.5</td>\n",
       "      <td>2020-09-12</td>\n",
       "      <td>('Ciaran', 'Clark')</td>\n",
       "      <td>West Ham United</td>\n",
       "    </tr>\n",
       "    <tr>\n",
       "      <th>3</th>\n",
       "      <td>6410</td>\n",
       "      <td>7</td>\n",
       "      <td>90</td>\n",
       "      <td>0</td>\n",
       "      <td>0</td>\n",
       "      <td>1</td>\n",
       "      <td>0</td>\n",
       "      <td>0</td>\n",
       "      <td>0</td>\n",
       "      <td>0</td>\n",
       "      <td>0</td>\n",
       "      <td>0</td>\n",
       "      <td>3</td>\n",
       "      <td>0</td>\n",
       "      <td>26</td>\n",
       "      <td>27.0</td>\n",
       "      <td>0.0</td>\n",
       "      <td>0.0</td>\n",
       "      <td>2.7</td>\n",
       "      <td>0</td>\n",
       "      <td>13715</td>\n",
       "      <td>5.0</td>\n",
       "      <td>2020-09-12</td>\n",
       "      <td>('Karl', 'Darlow')</td>\n",
       "      <td>West Ham United</td>\n",
       "    </tr>\n",
       "    <tr>\n",
       "      <th>4</th>\n",
       "      <td>6426</td>\n",
       "      <td>0</td>\n",
       "      <td>0</td>\n",
       "      <td>0</td>\n",
       "      <td>0</td>\n",
       "      <td>0</td>\n",
       "      <td>0</td>\n",
       "      <td>0</td>\n",
       "      <td>0</td>\n",
       "      <td>0</td>\n",
       "      <td>0</td>\n",
       "      <td>0</td>\n",
       "      <td>0</td>\n",
       "      <td>0</td>\n",
       "      <td>0</td>\n",
       "      <td>0.0</td>\n",
       "      <td>0.0</td>\n",
       "      <td>0.0</td>\n",
       "      <td>0.0</td>\n",
       "      <td>0</td>\n",
       "      <td>27245</td>\n",
       "      <td>5.0</td>\n",
       "      <td>2020-09-12</td>\n",
       "      <td>('Martin', 'Dubravka')</td>\n",
       "      <td>West Ham United</td>\n",
       "    </tr>\n",
       "  </tbody>\n",
       "</table>\n",
       "</div>"
      ],
      "text/plain": [
       "   Unnamed: 0  points  minsPlayed  goalsScored  assists  cleanSheets  \\\n",
       "0           0       0           0            0        0            0   \n",
       "1        6378       6          90            0        0            1   \n",
       "2        6394       0           0            0        0            0   \n",
       "3        6410       7          90            0        0            1   \n",
       "4        6426       0           0            0        0            0   \n",
       "\n",
       "   goalsConceded  ownGoals  penSaved  penMissed  yelCards  redCards  saves  \\\n",
       "0              0         0         0          0         0         0      0   \n",
       "1              0         0         0          0         0         0      0   \n",
       "2              0         0         0          0         0         0      0   \n",
       "3              0         0         0          0         0         0      3   \n",
       "4              0         0         0          0         0         0      0   \n",
       "\n",
       "   bonus  bonusPointSystem  influence  creativity  threat  ictIndex  \\\n",
       "0      0                 0        0.0         0.0     0.0       0.0   \n",
       "1      0                27       26.0         0.1     2.0       2.8   \n",
       "2      0                 0        0.0         0.0     0.0       0.0   \n",
       "3      0                26       27.0         0.0     0.0       2.7   \n",
       "4      0                 0        0.0         0.0     0.0       0.0   \n",
       "\n",
       "   netTransfers  selectedBy  costGBP    gameDate                 playerName  \\\n",
       "0             0       76656      7.0  2020-09-12          ('Mesut', 'Özil')   \n",
       "1             0       88657      5.0  2020-09-12  ('Federico', 'Fernández')   \n",
       "2             0        3326      4.5  2020-09-12        ('Ciaran', 'Clark')   \n",
       "3             0       13715      5.0  2020-09-12         ('Karl', 'Darlow')   \n",
       "4             0       27245      5.0  2020-09-12     ('Martin', 'Dubravka')   \n",
       "\n",
       "    oppositionTeam  \n",
       "0           Fulham  \n",
       "1  West Ham United  \n",
       "2  West Ham United  \n",
       "3  West Ham United  \n",
       "4  West Ham United  "
      ]
     },
     "execution_count": 2,
     "metadata": {},
     "output_type": "execute_result"
    }
   ],
   "source": [
    "# load dataset and drop the unneeded columns in the dataFrame\n",
    "# rows with no gametime played, unnamed: 0 and datetime\n",
    "ffmlDf = pd.read_csv('ffmlDF_20-21')\n",
    "\n",
    "ffmlDf.head()"
   ]
  },
  {
   "cell_type": "code",
   "execution_count": 3,
   "metadata": {},
   "outputs": [
    {
     "data": {
      "text/plain": [
       "(9685, 25)"
      ]
     },
     "execution_count": 3,
     "metadata": {},
     "output_type": "execute_result"
    }
   ],
   "source": [
    "ffmlDf.shape"
   ]
  },
  {
   "cell_type": "code",
   "execution_count": 4,
   "metadata": {},
   "outputs": [
    {
     "data": {
      "text/html": [
       "<div>\n",
       "<style scoped>\n",
       "    .dataframe tbody tr th:only-of-type {\n",
       "        vertical-align: middle;\n",
       "    }\n",
       "\n",
       "    .dataframe tbody tr th {\n",
       "        vertical-align: top;\n",
       "    }\n",
       "\n",
       "    .dataframe thead th {\n",
       "        text-align: right;\n",
       "    }\n",
       "</style>\n",
       "<table border=\"1\" class=\"dataframe\">\n",
       "  <thead>\n",
       "    <tr style=\"text-align: right;\">\n",
       "      <th></th>\n",
       "      <th>points</th>\n",
       "      <th>minsPlayed</th>\n",
       "      <th>goalsScored</th>\n",
       "      <th>assists</th>\n",
       "      <th>cleanSheets</th>\n",
       "      <th>goalsConceded</th>\n",
       "      <th>ownGoals</th>\n",
       "      <th>penSaved</th>\n",
       "      <th>penMissed</th>\n",
       "      <th>yelCards</th>\n",
       "      <th>redCards</th>\n",
       "      <th>saves</th>\n",
       "      <th>bonus</th>\n",
       "      <th>bonusPointSystem</th>\n",
       "      <th>influence</th>\n",
       "      <th>creativity</th>\n",
       "      <th>threat</th>\n",
       "      <th>ictIndex</th>\n",
       "      <th>netTransfers</th>\n",
       "      <th>selectedBy</th>\n",
       "      <th>costGBP</th>\n",
       "      <th>playerName</th>\n",
       "      <th>oppositionTeam</th>\n",
       "    </tr>\n",
       "  </thead>\n",
       "  <tbody>\n",
       "    <tr>\n",
       "      <th>1</th>\n",
       "      <td>6.0</td>\n",
       "      <td>90.0</td>\n",
       "      <td>0.0</td>\n",
       "      <td>0.0</td>\n",
       "      <td>1.0</td>\n",
       "      <td>0.0</td>\n",
       "      <td>0.0</td>\n",
       "      <td>0.0</td>\n",
       "      <td>0.0</td>\n",
       "      <td>0.0</td>\n",
       "      <td>0.0</td>\n",
       "      <td>0.0</td>\n",
       "      <td>0.0</td>\n",
       "      <td>27.0</td>\n",
       "      <td>26.0</td>\n",
       "      <td>0.1</td>\n",
       "      <td>2.0</td>\n",
       "      <td>2.8</td>\n",
       "      <td>0.0</td>\n",
       "      <td>88657.0</td>\n",
       "      <td>5.0</td>\n",
       "      <td>('Federico', 'Fernández')</td>\n",
       "      <td>West Ham United</td>\n",
       "    </tr>\n",
       "    <tr>\n",
       "      <th>3</th>\n",
       "      <td>7.0</td>\n",
       "      <td>90.0</td>\n",
       "      <td>0.0</td>\n",
       "      <td>0.0</td>\n",
       "      <td>1.0</td>\n",
       "      <td>0.0</td>\n",
       "      <td>0.0</td>\n",
       "      <td>0.0</td>\n",
       "      <td>0.0</td>\n",
       "      <td>0.0</td>\n",
       "      <td>0.0</td>\n",
       "      <td>3.0</td>\n",
       "      <td>0.0</td>\n",
       "      <td>26.0</td>\n",
       "      <td>27.0</td>\n",
       "      <td>0.0</td>\n",
       "      <td>0.0</td>\n",
       "      <td>2.7</td>\n",
       "      <td>0.0</td>\n",
       "      <td>13715.0</td>\n",
       "      <td>5.0</td>\n",
       "      <td>('Karl', 'Darlow')</td>\n",
       "      <td>West Ham United</td>\n",
       "    </tr>\n",
       "    <tr>\n",
       "      <th>7</th>\n",
       "      <td>6.0</td>\n",
       "      <td>90.0</td>\n",
       "      <td>0.0</td>\n",
       "      <td>0.0</td>\n",
       "      <td>1.0</td>\n",
       "      <td>0.0</td>\n",
       "      <td>0.0</td>\n",
       "      <td>0.0</td>\n",
       "      <td>0.0</td>\n",
       "      <td>0.0</td>\n",
       "      <td>0.0</td>\n",
       "      <td>0.0</td>\n",
       "      <td>0.0</td>\n",
       "      <td>21.0</td>\n",
       "      <td>21.8</td>\n",
       "      <td>0.3</td>\n",
       "      <td>0.0</td>\n",
       "      <td>2.2</td>\n",
       "      <td>0.0</td>\n",
       "      <td>219489.0</td>\n",
       "      <td>4.5</td>\n",
       "      <td>('Jamaal', 'Lascelles')</td>\n",
       "      <td>West Ham United</td>\n",
       "    </tr>\n",
       "    <tr>\n",
       "      <th>11</th>\n",
       "      <td>5.0</td>\n",
       "      <td>90.0</td>\n",
       "      <td>0.0</td>\n",
       "      <td>0.0</td>\n",
       "      <td>1.0</td>\n",
       "      <td>0.0</td>\n",
       "      <td>0.0</td>\n",
       "      <td>0.0</td>\n",
       "      <td>0.0</td>\n",
       "      <td>1.0</td>\n",
       "      <td>0.0</td>\n",
       "      <td>0.0</td>\n",
       "      <td>0.0</td>\n",
       "      <td>27.0</td>\n",
       "      <td>22.4</td>\n",
       "      <td>19.7</td>\n",
       "      <td>2.0</td>\n",
       "      <td>4.4</td>\n",
       "      <td>0.0</td>\n",
       "      <td>21964.0</td>\n",
       "      <td>4.5</td>\n",
       "      <td>('Javier', 'Manquillo')</td>\n",
       "      <td>West Ham United</td>\n",
       "    </tr>\n",
       "    <tr>\n",
       "      <th>16</th>\n",
       "      <td>2.0</td>\n",
       "      <td>90.0</td>\n",
       "      <td>0.0</td>\n",
       "      <td>0.0</td>\n",
       "      <td>1.0</td>\n",
       "      <td>0.0</td>\n",
       "      <td>0.0</td>\n",
       "      <td>0.0</td>\n",
       "      <td>0.0</td>\n",
       "      <td>1.0</td>\n",
       "      <td>0.0</td>\n",
       "      <td>0.0</td>\n",
       "      <td>0.0</td>\n",
       "      <td>12.0</td>\n",
       "      <td>12.8</td>\n",
       "      <td>2.0</td>\n",
       "      <td>0.0</td>\n",
       "      <td>1.5</td>\n",
       "      <td>0.0</td>\n",
       "      <td>5941.0</td>\n",
       "      <td>5.0</td>\n",
       "      <td>('Isaac', 'Hayden')</td>\n",
       "      <td>West Ham United</td>\n",
       "    </tr>\n",
       "  </tbody>\n",
       "</table>\n",
       "</div>"
      ],
      "text/plain": [
       "    points  minsPlayed  goalsScored  assists  cleanSheets  goalsConceded  \\\n",
       "1      6.0        90.0          0.0      0.0          1.0            0.0   \n",
       "3      7.0        90.0          0.0      0.0          1.0            0.0   \n",
       "7      6.0        90.0          0.0      0.0          1.0            0.0   \n",
       "11     5.0        90.0          0.0      0.0          1.0            0.0   \n",
       "16     2.0        90.0          0.0      0.0          1.0            0.0   \n",
       "\n",
       "    ownGoals  penSaved  penMissed  yelCards  redCards  saves  bonus  \\\n",
       "1        0.0       0.0        0.0       0.0       0.0    0.0    0.0   \n",
       "3        0.0       0.0        0.0       0.0       0.0    3.0    0.0   \n",
       "7        0.0       0.0        0.0       0.0       0.0    0.0    0.0   \n",
       "11       0.0       0.0        0.0       1.0       0.0    0.0    0.0   \n",
       "16       0.0       0.0        0.0       1.0       0.0    0.0    0.0   \n",
       "\n",
       "    bonusPointSystem  influence  creativity  threat  ictIndex  netTransfers  \\\n",
       "1               27.0       26.0         0.1     2.0       2.8           0.0   \n",
       "3               26.0       27.0         0.0     0.0       2.7           0.0   \n",
       "7               21.0       21.8         0.3     0.0       2.2           0.0   \n",
       "11              27.0       22.4        19.7     2.0       4.4           0.0   \n",
       "16              12.0       12.8         2.0     0.0       1.5           0.0   \n",
       "\n",
       "    selectedBy  costGBP                 playerName   oppositionTeam  \n",
       "1      88657.0      5.0  ('Federico', 'Fernández')  West Ham United  \n",
       "3      13715.0      5.0         ('Karl', 'Darlow')  West Ham United  \n",
       "7     219489.0      4.5    ('Jamaal', 'Lascelles')  West Ham United  \n",
       "11     21964.0      4.5    ('Javier', 'Manquillo')  West Ham United  \n",
       "16      5941.0      5.0        ('Isaac', 'Hayden')  West Ham United  "
      ]
     },
     "execution_count": 4,
     "metadata": {},
     "output_type": "execute_result"
    }
   ],
   "source": [
    "# drop unneccessary columns\n",
    "ffmlDf = ffmlDf.drop(columns=['Unnamed: 0','gameDate'])\n",
    "\n",
    "# remove zerominsplayed - taken from 2_DataAnalysis\n",
    "def RemoveZeroMinsPlayed(df):\n",
    "    df = df.copy().where(df['minsPlayed'] != 0)\n",
    "    df.dropna(axis=0, inplace=True)\n",
    "    return df\n",
    "\n",
    "ffmlDf = RemoveZeroMinsPlayed(ffmlDf)\n",
    "\n",
    "ffmlDf.head()"
   ]
  },
  {
   "cell_type": "code",
   "execution_count": 5,
   "metadata": {},
   "outputs": [
    {
     "data": {
      "text/plain": [
       "(4480, 23)"
      ]
     },
     "execution_count": 5,
     "metadata": {},
     "output_type": "execute_result"
    }
   ],
   "source": [
    "ffmlDf.shape"
   ]
  },
  {
   "cell_type": "code",
   "execution_count": 6,
   "metadata": {},
   "outputs": [
    {
     "data": {
      "text/plain": [
       "((3584, 23), (896, 23))"
      ]
     },
     "execution_count": 6,
     "metadata": {},
     "output_type": "execute_result"
    }
   ],
   "source": [
    "# separate data into train and test sets\n",
    "X_train, X_test, y_train, y_test = train_test_split(ffmlDf,\n",
    "                                                   ffmlDf['points'],\n",
    "                                                   test_size=0.2,\n",
    "                                                   random_state=0)\n",
    "# 80:20 split\n",
    "# target is df['points']\n",
    "X_train.shape, X_test.shape #everything is looking good so far"
   ]
  },
  {
   "cell_type": "code",
   "execution_count": 7,
   "metadata": {},
   "outputs": [
    {
     "data": {
      "text/plain": [
       "[]"
      ]
     },
     "execution_count": 7,
     "metadata": {},
     "output_type": "execute_result"
    }
   ],
   "source": [
    "# check for missing variables\n",
    "\n",
    "var_with_na = [\n",
    "    var for var in ffmlDf.columns\n",
    "    if X_train[var].isnull().sum() > 0\n",
    "]\n",
    "var_with_na\n",
    "# if there were any vars with na we would, print the percentages\n",
    "# for both the num and cat vars and fill in missing values"
   ]
  },
  {
   "cell_type": "code",
   "execution_count": 8,
   "metadata": {},
   "outputs": [
    {
     "data": {
      "text/plain": [
       "[]"
      ]
     },
     "execution_count": 8,
     "metadata": {},
     "output_type": "execute_result"
    }
   ],
   "source": [
    "# check the test set also has no-null values\n",
    "[var for var in ffmlDf.columns if X_test[var].isnull().sum()]"
   ]
  },
  {
   "cell_type": "code",
   "execution_count": 9,
   "metadata": {},
   "outputs": [
    {
     "data": {
      "text/plain": [
       "['playerName', 'oppositionTeam']"
      ]
     },
     "execution_count": 9,
     "metadata": {},
     "output_type": "execute_result"
    }
   ],
   "source": [
    "# rare labels need to be identified and removed from cat_vars\n",
    "#identify cat_vars\n",
    "cat_vars = [var for var in X_train.columns if X_train[var].dtype == 'O']\n",
    "cat_vars"
   ]
  },
  {
   "cell_type": "code",
   "execution_count": 10,
   "metadata": {},
   "outputs": [
    {
     "name": "stdout",
     "output_type": "stream",
     "text": [
      "playerName\n",
      "(\"N'Golo\", 'Kanté')         0.003795\n",
      "('Aaron', 'Connolly')       0.002455\n",
      "('Aaron', 'Cresswell')      0.003795\n",
      "('Aaron', 'Ramsdale')       0.003795\n",
      "('Aaron', 'Wan-Bissaka')    0.003125\n",
      "                              ...   \n",
      "('Yerry', 'Mina')           0.003125\n",
      "('Youri', 'Tielemans')      0.003795\n",
      "('Yves', 'Bissouma')        0.003571\n",
      "('Zack', 'Steffen')         0.000223\n",
      "('Çaglar', 'Söyüncü')       0.001116\n",
      "Name: points, Length: 460, dtype: float64\n",
      "oppositionTeam\n",
      "Arsenal                     0.051786\n",
      "Aston Villa                 0.046205\n",
      "Brighton and Hove Albion    0.052009\n",
      "Burnley                     0.045759\n",
      "Chelsea                     0.052009\n",
      "Crystal Palace              0.052009\n",
      "Everton                     0.049107\n",
      "Fulham                      0.045536\n",
      "Leeds                       0.052455\n",
      "Leicester City              0.051786\n",
      "Liverpool                   0.052009\n",
      "Manchester City             0.045759\n",
      "Manchester United           0.048214\n",
      "Newcastle United            0.049107\n",
      "Sheffield United            0.051116\n",
      "Southampton                 0.050893\n",
      "Tottenham Hotspur           0.048438\n",
      "West Bromwich Albion        0.051562\n",
      "West Ham United             0.052455\n",
      "Wolverhampton Wanderers     0.051786\n",
      "Name: points, dtype: float64\n"
     ]
    }
   ],
   "source": [
    "def FindFrequentLabels(df, var):\n",
    "    df = df.copy()\n",
    "    \n",
    "    tmp = df.groupby(var)['points'].count() / len(df)\n",
    "    \n",
    "    print(tmp)\n",
    "# 4480 is len\n",
    "# \n",
    "\n",
    "for var in cat_vars:\n",
    "    FindFrequentLabels(ffmlDf, var)"
   ]
  },
  {
   "cell_type": "code",
   "execution_count": 11,
   "metadata": {},
   "outputs": [
    {
     "name": "stderr",
     "output_type": "stream",
     "text": [
      "<ipython-input-11-0f217aa54426>:16: SettingWithCopyWarning: \n",
      "A value is trying to be set on a copy of a slice from a DataFrame.\n",
      "Try using .loc[row_indexer,col_indexer] = value instead\n",
      "\n",
      "See the caveats in the documentation: https://pandas.pydata.org/pandas-docs/stable/user_guide/indexing.html#returning-a-view-versus-a-copy\n",
      "  X_train[var] = np.where(X_train[var].isin(frequent_list), X_train[var], 'Rare')\n",
      "<ipython-input-11-0f217aa54426>:17: SettingWithCopyWarning: \n",
      "A value is trying to be set on a copy of a slice from a DataFrame.\n",
      "Try using .loc[row_indexer,col_indexer] = value instead\n",
      "\n",
      "See the caveats in the documentation: https://pandas.pydata.org/pandas-docs/stable/user_guide/indexing.html#returning-a-view-versus-a-copy\n",
      "  X_test[var] = np.where(X_test[var].isin(frequent_list), X_test[var], 'Rare')\n",
      "<ipython-input-11-0f217aa54426>:16: SettingWithCopyWarning: \n",
      "A value is trying to be set on a copy of a slice from a DataFrame.\n",
      "Try using .loc[row_indexer,col_indexer] = value instead\n",
      "\n",
      "See the caveats in the documentation: https://pandas.pydata.org/pandas-docs/stable/user_guide/indexing.html#returning-a-view-versus-a-copy\n",
      "  X_train[var] = np.where(X_train[var].isin(frequent_list), X_train[var], 'Rare')\n",
      "<ipython-input-11-0f217aa54426>:17: SettingWithCopyWarning: \n",
      "A value is trying to be set on a copy of a slice from a DataFrame.\n",
      "Try using .loc[row_indexer,col_indexer] = value instead\n",
      "\n",
      "See the caveats in the documentation: https://pandas.pydata.org/pandas-docs/stable/user_guide/indexing.html#returning-a-view-versus-a-copy\n",
      "  X_test[var] = np.where(X_test[var].isin(frequent_list), X_test[var], 'Rare')\n"
     ]
    }
   ],
   "source": [
    "# as we have sooo many players the Rare percentage will have to be made\n",
    "# a lot lower than usual.\n",
    "# opp team wont be affected by this\n",
    "\n",
    "def FindFrequentLabels(df, var, rare_perc):\n",
    "    df = df.copy()\n",
    "    tmp = df.groupby(var)['points'].count() / len(df)\n",
    "    return tmp[tmp > rare_perc].index\n",
    "\n",
    "# Rare Labels Romoved and Replaced!!!\n",
    "\n",
    "for var in cat_vars:\n",
    "    frequent_list = FindFrequentLabels(ffmlDf, var, 0.001)\n",
    "    # i want values of 0.001 so im being a little lenient i feel\n",
    "    \n",
    "    X_train[var] = np.where(X_train[var].isin(frequent_list), X_train[var], 'Rare')\n",
    "    X_test[var] = np.where(X_test[var].isin(frequent_list), X_test[var], 'Rare')\n",
    "\n",
    "# I am not sure wether this will add value tbh..."
   ]
  },
  {
   "cell_type": "code",
   "execution_count": 12,
   "metadata": {},
   "outputs": [
    {
     "name": "stdout",
     "output_type": "stream",
     "text": [
      "X_train: 363 (3584, 23)\n",
      "X_test: 329 (896, 23)\n"
     ]
    }
   ],
   "source": [
    "print('X_train:',X_train['playerName'].nunique(), X_train.shape)\n",
    "print('X_test:',X_test['playerName'].nunique(), X_test.shape)\n",
    "# I am happy with this, train and test have equall columns\n",
    "# but train has more unique values"
   ]
  },
  {
   "cell_type": "code",
   "execution_count": 13,
   "metadata": {},
   "outputs": [],
   "source": [
    "# WE WILL NOT BE TRANSFORMING NUMERICAL VARIABLES"
   ]
  },
  {
   "cell_type": "code",
   "execution_count": 14,
   "metadata": {},
   "outputs": [
    {
     "name": "stderr",
     "output_type": "stream",
     "text": [
      "<ipython-input-14-3baeee1eafdc>:10: SettingWithCopyWarning: \n",
      "A value is trying to be set on a copy of a slice from a DataFrame.\n",
      "Try using .loc[row_indexer,col_indexer] = value instead\n",
      "\n",
      "See the caveats in the documentation: https://pandas.pydata.org/pandas-docs/stable/user_guide/indexing.html#returning-a-view-versus-a-copy\n",
      "  train[var] = train[var].map(ordinal_label)\n",
      "<ipython-input-14-3baeee1eafdc>:11: SettingWithCopyWarning: \n",
      "A value is trying to be set on a copy of a slice from a DataFrame.\n",
      "Try using .loc[row_indexer,col_indexer] = value instead\n",
      "\n",
      "See the caveats in the documentation: https://pandas.pydata.org/pandas-docs/stable/user_guide/indexing.html#returning-a-view-versus-a-copy\n",
      "  test[var] = test[var].map(ordinal_label)\n"
     ]
    }
   ],
   "source": [
    "# Encoding Categorical Variables\n",
    "def ReplaceCategories(train, test, var, target):\n",
    "    # order labels in a var from low to high\n",
    "    ordered_labels = train.groupby(var)[target].mean().sort_values().index\n",
    "    \n",
    "    # create a dictionary of ordered labels to integer values\n",
    "    ordinal_label = {k: i for i, k in enumerate(ordered_labels, 0)}\n",
    "    \n",
    "    # use the dict to replace cat strings with integers\n",
    "    train[var] = train[var].map(ordinal_label)\n",
    "    test[var] = test[var].map(ordinal_label)\n",
    "\n",
    "for var in cat_vars:\n",
    "    ReplaceCategories(X_train, X_test, var, 'points')"
   ]
  },
  {
   "cell_type": "code",
   "execution_count": 15,
   "metadata": {},
   "outputs": [
    {
     "data": {
      "text/plain": [
       "[]"
      ]
     },
     "execution_count": 15,
     "metadata": {},
     "output_type": "execute_result"
    }
   ],
   "source": [
    "# check null values in train\n",
    "[\n",
    "    var for var in X_train.columns\n",
    "    if X_train[var].isnull().sum() > 0\n",
    "]"
   ]
  },
  {
   "cell_type": "code",
   "execution_count": 16,
   "metadata": {},
   "outputs": [
    {
     "data": {
      "text/plain": [
       "[]"
      ]
     },
     "execution_count": 16,
     "metadata": {},
     "output_type": "execute_result"
    }
   ],
   "source": [
    "# check null values in test\n",
    "[\n",
    "    var for var in X_test\n",
    "    if X_test[var].isnull().sum() > 0\n",
    "]"
   ]
  },
  {
   "cell_type": "code",
   "execution_count": 17,
   "metadata": {},
   "outputs": [
    {
     "data": {
      "text/plain": [
       "(['minsPlayed',\n",
       "  'goalsScored',\n",
       "  'assists',\n",
       "  'cleanSheets',\n",
       "  'goalsConceded',\n",
       "  'ownGoals',\n",
       "  'penSaved',\n",
       "  'penMissed',\n",
       "  'yelCards',\n",
       "  'redCards',\n",
       "  'saves',\n",
       "  'bonus',\n",
       "  'bonusPointSystem',\n",
       "  'influence',\n",
       "  'creativity',\n",
       "  'threat',\n",
       "  'ictIndex',\n",
       "  'netTransfers',\n",
       "  'selectedBy',\n",
       "  'costGBP'],\n",
       " 20)"
      ]
     },
     "execution_count": 17,
     "metadata": {},
     "output_type": "execute_result"
    }
   ],
   "source": [
    "# Feature Scaling!!!\n",
    "\n",
    "# capture all vars in a list apart from TARGET\n",
    "train_vars = [\n",
    "    var for var in X_train.columns\n",
    "    if var not in cat_vars and var != 'points' # could have used '!='...\n",
    "]\n",
    "train_vars, len(train_vars)"
   ]
  },
  {
   "cell_type": "code",
   "execution_count": 18,
   "metadata": {},
   "outputs": [],
   "source": [
    "# Create Scaler\n",
    "scaler = MinMaxScaler()\n",
    "# fit scaler to the train set - never the test set\n",
    "scaler.fit(X_train[train_vars])\n",
    "# transform the train and test set\n",
    "X_train.to_csv('xtrain.csv', index=False)\n",
    "X_test.to_csv('xtest.csv', index=False)"
   ]
  }
 ],
 "metadata": {
  "kernelspec": {
   "display_name": "Python 3",
   "language": "python",
   "name": "python3"
  },
  "language_info": {
   "codemirror_mode": {
    "name": "ipython",
    "version": 3
   },
   "file_extension": ".py",
   "mimetype": "text/x-python",
   "name": "python",
   "nbconvert_exporter": "python",
   "pygments_lexer": "ipython3",
   "version": "3.8.5"
  }
 },
 "nbformat": 4,
 "nbformat_minor": 4
}
