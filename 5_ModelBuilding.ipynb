{
 "cells": [
  {
   "cell_type": "code",
   "execution_count": 1,
   "metadata": {},
   "outputs": [],
   "source": [
    "# to handle datasets\n",
    "import pandas as pd\n",
    "from pandas import DataFrame\n",
    "import numpy as np\n",
    "pd.pandas.set_option('display.max_columns', None)\n",
    "\n",
    "# to plot\n",
    "import matplotlib.pyplot as plt\n",
    "import seaborn as sns\n",
    "\n",
    "# to build models\n",
    "from sklearn.linear_model import Lasso\n",
    "\n",
    "# to evaluate the models\n",
    "from sklearn.metrics import mean_squared_error, r2_score\n",
    "from math import sqrt"
   ]
  },
  {
   "cell_type": "markdown",
   "metadata": {},
   "source": [
    "#### Load X_train, X_test, y_train, y_test."
   ]
  },
  {
   "cell_type": "code",
   "execution_count": 2,
   "metadata": {},
   "outputs": [],
   "source": [
    "X_train = pd.read_csv('xtrain.csv')\n",
    "X_test = pd.read_csv('xtest.csv')\n",
    "\n",
    "y_train = X_train['points']\n",
    "y_test = X_test['points']"
   ]
  },
  {
   "cell_type": "markdown",
   "metadata": {},
   "source": [
    "#### Load Pre-Selected Features"
   ]
  },
  {
   "cell_type": "code",
   "execution_count": 3,
   "metadata": {},
   "outputs": [
    {
     "data": {
      "text/plain": [
       "['minsPlayed',\n",
       " 'goalsScored',\n",
       " 'assists',\n",
       " 'cleanSheets',\n",
       " 'goalsConceded',\n",
       " 'ownGoals',\n",
       " 'penSaved',\n",
       " 'yelCards',\n",
       " 'redCards',\n",
       " 'saves',\n",
       " 'bonus',\n",
       " 'influence',\n",
       " 'creativity',\n",
       " 'threat',\n",
       " 'costGBP',\n",
       " 'playerName']"
      ]
     },
     "execution_count": 3,
     "metadata": {},
     "output_type": "execute_result"
    }
   ],
   "source": [
    "features = pd.read_csv('selected_features.csv')\n",
    "features = features['0'].to_list()\n",
    "# ['0'] is selecting the column in which the series was saved\n",
    "# features then converted to a list format from series\n",
    "features"
   ]
  },
  {
   "cell_type": "code",
   "execution_count": 4,
   "metadata": {},
   "outputs": [
    {
     "data": {
      "text/html": [
       "<div>\n",
       "<style scoped>\n",
       "    .dataframe tbody tr th:only-of-type {\n",
       "        vertical-align: middle;\n",
       "    }\n",
       "\n",
       "    .dataframe tbody tr th {\n",
       "        vertical-align: top;\n",
       "    }\n",
       "\n",
       "    .dataframe thead th {\n",
       "        text-align: right;\n",
       "    }\n",
       "</style>\n",
       "<table border=\"1\" class=\"dataframe\">\n",
       "  <thead>\n",
       "    <tr style=\"text-align: right;\">\n",
       "      <th></th>\n",
       "      <th>minsPlayed</th>\n",
       "      <th>goalsScored</th>\n",
       "      <th>assists</th>\n",
       "      <th>cleanSheets</th>\n",
       "      <th>goalsConceded</th>\n",
       "      <th>ownGoals</th>\n",
       "      <th>penSaved</th>\n",
       "      <th>yelCards</th>\n",
       "      <th>redCards</th>\n",
       "      <th>saves</th>\n",
       "      <th>bonus</th>\n",
       "      <th>influence</th>\n",
       "      <th>creativity</th>\n",
       "      <th>threat</th>\n",
       "      <th>costGBP</th>\n",
       "      <th>playerName</th>\n",
       "    </tr>\n",
       "  </thead>\n",
       "  <tbody>\n",
       "    <tr>\n",
       "      <th>0</th>\n",
       "      <td>90.0</td>\n",
       "      <td>2.0</td>\n",
       "      <td>1.0</td>\n",
       "      <td>0.0</td>\n",
       "      <td>3.0</td>\n",
       "      <td>0.0</td>\n",
       "      <td>0.0</td>\n",
       "      <td>1.0</td>\n",
       "      <td>0.0</td>\n",
       "      <td>0.0</td>\n",
       "      <td>3.0</td>\n",
       "      <td>6.6</td>\n",
       "      <td>17.4</td>\n",
       "      <td>4.0</td>\n",
       "      <td>6.0</td>\n",
       "      <td>229</td>\n",
       "    </tr>\n",
       "    <tr>\n",
       "      <th>1</th>\n",
       "      <td>56.0</td>\n",
       "      <td>0.0</td>\n",
       "      <td>0.0</td>\n",
       "      <td>0.0</td>\n",
       "      <td>0.0</td>\n",
       "      <td>0.0</td>\n",
       "      <td>0.0</td>\n",
       "      <td>0.0</td>\n",
       "      <td>0.0</td>\n",
       "      <td>0.0</td>\n",
       "      <td>0.0</td>\n",
       "      <td>0.0</td>\n",
       "      <td>0.0</td>\n",
       "      <td>0.0</td>\n",
       "      <td>5.0</td>\n",
       "      <td>12</td>\n",
       "    </tr>\n",
       "    <tr>\n",
       "      <th>2</th>\n",
       "      <td>90.0</td>\n",
       "      <td>0.0</td>\n",
       "      <td>0.0</td>\n",
       "      <td>1.0</td>\n",
       "      <td>0.0</td>\n",
       "      <td>0.0</td>\n",
       "      <td>0.0</td>\n",
       "      <td>0.0</td>\n",
       "      <td>0.0</td>\n",
       "      <td>0.0</td>\n",
       "      <td>0.0</td>\n",
       "      <td>17.4</td>\n",
       "      <td>0.7</td>\n",
       "      <td>0.0</td>\n",
       "      <td>5.0</td>\n",
       "      <td>200</td>\n",
       "    </tr>\n",
       "    <tr>\n",
       "      <th>3</th>\n",
       "      <td>79.0</td>\n",
       "      <td>0.0</td>\n",
       "      <td>0.0</td>\n",
       "      <td>1.0</td>\n",
       "      <td>0.0</td>\n",
       "      <td>0.0</td>\n",
       "      <td>0.0</td>\n",
       "      <td>0.0</td>\n",
       "      <td>0.0</td>\n",
       "      <td>0.0</td>\n",
       "      <td>0.0</td>\n",
       "      <td>27.2</td>\n",
       "      <td>1.2</td>\n",
       "      <td>0.0</td>\n",
       "      <td>5.0</td>\n",
       "      <td>242</td>\n",
       "    </tr>\n",
       "    <tr>\n",
       "      <th>4</th>\n",
       "      <td>90.0</td>\n",
       "      <td>0.0</td>\n",
       "      <td>0.0</td>\n",
       "      <td>1.0</td>\n",
       "      <td>0.0</td>\n",
       "      <td>0.0</td>\n",
       "      <td>0.0</td>\n",
       "      <td>0.0</td>\n",
       "      <td>0.0</td>\n",
       "      <td>0.0</td>\n",
       "      <td>1.0</td>\n",
       "      <td>7.4</td>\n",
       "      <td>0.4</td>\n",
       "      <td>0.0</td>\n",
       "      <td>5.5</td>\n",
       "      <td>120</td>\n",
       "    </tr>\n",
       "  </tbody>\n",
       "</table>\n",
       "</div>"
      ],
      "text/plain": [
       "   minsPlayed  goalsScored  assists  cleanSheets  goalsConceded  ownGoals  \\\n",
       "0        90.0          2.0      1.0          0.0            3.0       0.0   \n",
       "1        56.0          0.0      0.0          0.0            0.0       0.0   \n",
       "2        90.0          0.0      0.0          1.0            0.0       0.0   \n",
       "3        79.0          0.0      0.0          1.0            0.0       0.0   \n",
       "4        90.0          0.0      0.0          1.0            0.0       0.0   \n",
       "\n",
       "   penSaved  yelCards  redCards  saves  bonus  influence  creativity  threat  \\\n",
       "0       0.0       1.0       0.0    0.0    3.0        6.6        17.4     4.0   \n",
       "1       0.0       0.0       0.0    0.0    0.0        0.0         0.0     0.0   \n",
       "2       0.0       0.0       0.0    0.0    0.0       17.4         0.7     0.0   \n",
       "3       0.0       0.0       0.0    0.0    0.0       27.2         1.2     0.0   \n",
       "4       0.0       0.0       0.0    0.0    1.0        7.4         0.4     0.0   \n",
       "\n",
       "   costGBP  playerName  \n",
       "0      6.0         229  \n",
       "1      5.0          12  \n",
       "2      5.0         200  \n",
       "3      5.0         242  \n",
       "4      5.5         120  "
      ]
     },
     "execution_count": 4,
     "metadata": {},
     "output_type": "execute_result"
    }
   ],
   "source": [
    "X_train = X_train[features]\n",
    "X_test = X_test[features]\n",
    "X_test.head()"
   ]
  },
  {
   "cell_type": "markdown",
   "metadata": {},
   "source": [
    "### Regularised Linear Regression: Lasso"
   ]
  },
  {
   "cell_type": "code",
   "execution_count": 5,
   "metadata": {},
   "outputs": [
    {
     "data": {
      "text/plain": [
       "Lasso(alpha=0.005, random_state=0)"
      ]
     },
     "execution_count": 5,
     "metadata": {},
     "output_type": "execute_result"
    }
   ],
   "source": [
    "# set up the model remembering to set the random_state/seed\n",
    "lin_model = Lasso(alpha=0.005, random_state=0)\n",
    "# train the model\n",
    "lin_model.fit(X_train, y_train)"
   ]
  },
  {
   "cell_type": "markdown",
   "metadata": {},
   "source": [
    "The performance of the Lasso can be evaluated using the mean squared error (mse), the root of the mean squared error (rmse) and r2 predictions for the train set"
   ]
  },
  {
   "cell_type": "code",
   "execution_count": 6,
   "metadata": {},
   "outputs": [
    {
     "name": "stdout",
     "output_type": "stream",
     "text": [
      "train mse: 0\n",
      "train rmse: 0\n",
      "train r2: 0.91309178598256\n",
      "\n",
      "test mse: 0\n",
      "test rmse: 0\n",
      "test r2: 0.9182884006940295\n"
     ]
    }
   ],
   "source": [
    "# predict train using the model\n",
    "pred = lin_model.predict(X_train)\n",
    "# determine the mse, rmse and r2\n",
    "print('train mse: {}'.format(int(mean_squared_error(y_train, pred))))\n",
    "print('train rmse: {}'.format(int(sqrt(mean_squared_error(y_train, pred)))))\n",
    "print('train r2: {}'.format(r2_score(y_train, pred)))\n",
    "print()\n",
    "# predict test using the model\n",
    "pred = lin_model.predict(X_test)\n",
    "# determine the mse, rmse and r2\n",
    "print('test mse: {}'.format(int(mean_squared_error(y_test, pred))))\n",
    "print('test rmse: {}'.format(int(sqrt(mean_squared_error(y_test, pred)))))\n",
    "print('test r2: {}'.format(r2_score(y_test, pred)))\n"
   ]
  },
  {
   "cell_type": "markdown",
   "metadata": {},
   "source": [
    "not sure what the above shows me yet as zero mse and rmse seem too good to be true **more graphs needed**"
   ]
  },
  {
   "cell_type": "markdown",
   "metadata": {},
   "source": [
    "#### Check the mean points of each player\n",
    "- did it because I wanted to"
   ]
  },
  {
   "cell_type": "code",
   "execution_count": 7,
   "metadata": {},
   "outputs": [
    {
     "name": "stdout",
     "output_type": "stream",
     "text": [
      "356\n",
      "11: has 2 mean points\n",
      "197: has 1 mean points\n",
      "291: has 1 mean points\n",
      "158: has 1 mean points\n",
      "72: has 1 mean points\n",
      "223: has 1 mean points\n",
      "186: has 6 mean points\n",
      "160: has 3 mean points\n",
      "209: has 8 mean points\n",
      "147: has 2 mean points\n",
      "345: has 8 mean points\n",
      "241: has 8 mean points\n",
      "335: has 6 mean points\n",
      "107: has 2 mean points\n",
      "151: has 2 mean points\n",
      "80: has 1 mean points\n",
      "278: has 1 mean points\n",
      "246: has 6 mean points\n",
      "286: has 7 mean points\n",
      "111: has 7 mean points\n",
      "294: has 1 mean points\n",
      "203: has 6 mean points\n",
      "220: has 6 mean points\n",
      "275: has 1 mean points\n",
      "214: has 2 mean points\n",
      "266: has 1 mean points\n",
      "187: has 1 mean points\n",
      "287: has 3 mean points\n",
      "154: has 6 mean points\n",
      "74: has 2 mean points\n",
      "273: has 2 mean points\n",
      "196: has 1 mean points\n",
      "248: has 9 mean points\n",
      "178: has 6 mean points\n",
      "51: has 0 mean points\n",
      "140: has 2 mean points\n",
      "121: has 5 mean points\n",
      "73: has 1 mean points\n",
      "137: has 2 mean points\n",
      "110: has 0 mean points\n",
      "228: has 1 mean points\n",
      "76: has 1 mean points\n",
      "23: has 6 mean points\n",
      "34: has 8 mean points\n",
      "322: has 2 mean points\n",
      "249: has 1 mean points\n",
      "157: has 2 mean points\n",
      "284: has 2 mean points\n",
      "239: has 1 mean points\n",
      "276: has 1 mean points\n",
      "255: has 7 mean points\n",
      "116: has -1 mean points\n",
      "205: has 5 mean points\n",
      "295: has 2 mean points\n",
      "27: has 3 mean points\n",
      "102: has 4 mean points\n",
      "285: has 3 mean points\n",
      "21: has 6 mean points\n",
      "153: has 1 mean points\n",
      "206: has 3 mean points\n",
      "14: has 2 mean points\n",
      "277: has 2 mean points\n",
      "84: has 3 mean points\n",
      "200: has 3 mean points\n",
      "243: has 2 mean points\n",
      "93: has 6 mean points\n",
      "90: has 2 mean points\n",
      "92: has 1 mean points\n",
      "71: has -1 mean points\n",
      "258: has 5 mean points\n",
      "32: has 8 mean points\n",
      "237: has 1 mean points\n",
      "117: has 2 mean points\n",
      "350: has 1 mean points\n",
      "77: has 0 mean points\n",
      "1: has 2 mean points\n",
      "355: has 2 mean points\n",
      "279: has 2 mean points\n",
      "340: has 1 mean points\n",
      "30: has 2 mean points\n",
      "167: has 6 mean points\n",
      "105: has 1 mean points\n",
      "250: has 9 mean points\n",
      "194: has 0 mean points\n",
      "9: has 1 mean points\n",
      "130: has 1 mean points\n",
      "269: has 1 mean points\n",
      "201: has 1 mean points\n",
      "58: has 3 mean points\n",
      "28: has 1 mean points\n",
      "163: has 1 mean points\n",
      "97: has 7 mean points\n",
      "297: has 1 mean points\n",
      "13: has 1 mean points\n",
      "304: has 1 mean points\n",
      "177: has 1 mean points\n",
      "118: has 3 mean points\n",
      "270: has 1 mean points\n",
      "347: has 2 mean points\n",
      "185: has 6 mean points\n",
      "142: has 1 mean points\n",
      "155: has 2 mean points\n",
      "181: has 9 mean points\n",
      "148: has 4 mean points\n",
      "232: has 10 mean points\n",
      "267: has 2 mean points\n",
      "85: has 3 mean points\n",
      "17: has 9 mean points\n",
      "35: has 4 mean points\n",
      "45: has 0 mean points\n",
      "156: has -2 mean points\n",
      "310: has 1 mean points\n",
      "12: has 2 mean points\n",
      "313: has 1 mean points\n",
      "100: has 1 mean points\n",
      "324: has 3 mean points\n",
      "169: has 1 mean points\n",
      "334: has 9 mean points\n",
      "299: has 1 mean points\n",
      "18: has 6 mean points\n",
      "252: has 2 mean points\n",
      "128: has 5 mean points\n",
      "302: has 2 mean points\n",
      "119: has 1 mean points\n",
      "44: has 14 mean points\n",
      "0: has 1 mean points\n",
      "159: has 2 mean points\n",
      "193: has 2 mean points\n",
      "134: has 1 mean points\n",
      "183: has 2 mean points\n",
      "48: has 8 mean points\n",
      "122: has 2 mean points\n",
      "3: has 2 mean points\n",
      "174: has 3 mean points\n",
      "75: has 1 mean points\n",
      "82: has 8 mean points\n",
      "195: has 1 mean points\n",
      "149: has 5 mean points\n",
      "349: has 2 mean points\n",
      "125: has 2 mean points\n",
      "166: has 2 mean points\n",
      "309: has 8 mean points\n",
      "227: has 7 mean points\n",
      "182: has 2 mean points\n",
      "6: has 5 mean points\n",
      "262: has 2 mean points\n",
      "263: has 3 mean points\n",
      "38: has 3 mean points\n",
      "332: has 1 mean points\n",
      "190: has 1 mean points\n",
      "316: has 2 mean points\n",
      "199: has 6 mean points\n",
      "79: has 1 mean points\n",
      "33: has 1 mean points\n",
      "20: has 4 mean points\n",
      "222: has 6 mean points\n",
      "89: has 1 mean points\n",
      "351: has 8 mean points\n",
      "67: has 1 mean points\n",
      "15: has 1 mean points\n",
      "281: has 1 mean points\n",
      "282: has 1 mean points\n",
      "104: has 5 mean points\n",
      "68: has 10 mean points\n",
      "5: has 1 mean points\n",
      "198: has 1 mean points\n",
      "66: has 2 mean points\n",
      "326: has 2 mean points\n",
      "207: has 5 mean points\n",
      "293: has 3 mean points\n",
      "131: has 4 mean points\n",
      "261: has 1 mean points\n",
      "348: has 2 mean points\n",
      "341: has 1 mean points\n",
      "64: has 3 mean points\n",
      "39: has 3 mean points\n",
      "184: has 3 mean points\n",
      "98: has 6 mean points\n",
      "204: has 4 mean points\n",
      "106: has 1 mean points\n",
      "225: has 2 mean points\n",
      "245: has 8 mean points\n",
      "211: has 3 mean points\n",
      "57: has 1 mean points\n",
      "213: has 4 mean points\n",
      "161: has 1 mean points\n",
      "126: has 0 mean points\n",
      "314: has 1 mean points\n",
      "317: has 2 mean points\n",
      "212: has 2 mean points\n",
      "43: has 2 mean points\n",
      "87: has 1 mean points\n",
      "307: has 1 mean points\n",
      "172: has 5 mean points\n",
      "315: has 1 mean points\n",
      "26: has 2 mean points\n",
      "41: has 2 mean points\n",
      "321: has 1 mean points\n",
      "132: has 2 mean points\n",
      "217: has 5 mean points\n",
      "168: has 2 mean points\n",
      "96: has 2 mean points\n",
      "81: has 6 mean points\n",
      "320: has 1 mean points\n",
      "337: has 2 mean points\n",
      "343: has 1 mean points\n",
      "271: has 2 mean points\n",
      "7: has 6 mean points\n",
      "308: has 5 mean points\n",
      "47: has 1 mean points\n",
      "216: has 0 mean points\n",
      "235: has 1 mean points\n",
      "319: has 2 mean points\n",
      "342: has 2 mean points\n",
      "86: has 1 mean points\n",
      "189: has 6 mean points\n",
      "336: has 6 mean points\n",
      "344: has 7 mean points\n",
      "224: has 2 mean points\n",
      "306: has 15 mean points\n",
      "288: has 3 mean points\n",
      "311: has 3 mean points\n",
      "300: has 6 mean points\n",
      "83: has 2 mean points\n",
      "138: has 9 mean points\n",
      "290: has 1 mean points\n",
      "229: has 1 mean points\n",
      "329: has 2 mean points\n",
      "323: has 2 mean points\n",
      "251: has 1 mean points\n",
      "60: has 0 mean points\n",
      "352: has 1 mean points\n",
      "4: has 4 mean points\n",
      "24: has 2 mean points\n",
      "289: has 1 mean points\n",
      "63: has 1 mean points\n",
      "221: has 2 mean points\n",
      "53: has 2 mean points\n",
      "312: has 6 mean points\n",
      "292: has 2 mean points\n",
      "112: has 0 mean points\n",
      "244: has 3 mean points\n",
      "333: has 2 mean points\n",
      "219: has 2 mean points\n",
      "145: has 2 mean points\n",
      "238: has 6 mean points\n",
      "164: has 2 mean points\n",
      "339: has 2 mean points\n",
      "210: has 2 mean points\n",
      "129: has 2 mean points\n",
      "247: has 2 mean points\n",
      "234: has 2 mean points\n",
      "55: has 1 mean points\n",
      "256: has 2 mean points\n",
      "218: has 2 mean points\n",
      "91: has 2 mean points\n",
      "139: has 1 mean points\n",
      "135: has 1 mean points\n",
      "354: has 11 mean points\n",
      "353: has 2 mean points\n",
      "305: has 2 mean points\n",
      "325: has 2 mean points\n",
      "70: has 6 mean points\n",
      "296: has 2 mean points\n",
      "146: has 2 mean points\n",
      "37: has 3 mean points\n",
      "231: has 1 mean points\n",
      "257: has 2 mean points\n",
      "327: has 1 mean points\n",
      "188: has 1 mean points\n",
      "170: has 2 mean points\n",
      "280: has 6 mean points\n",
      "25: has 6 mean points\n",
      "113: has 0 mean points\n",
      "165: has 2 mean points\n",
      "150: has 2 mean points\n",
      "42: has 1 mean points\n",
      "301: has 6 mean points\n",
      "52: has 2 mean points\n",
      "254: has 2 mean points\n",
      "95: has 3 mean points\n",
      "50: has 0 mean points\n",
      "8: has 9 mean points\n",
      "36: has 1 mean points\n",
      "180: has 1 mean points\n",
      "65: has 1 mean points\n",
      "120: has 1 mean points\n",
      "274: has 3 mean points\n",
      "94: has 1 mean points\n",
      "62: has 2 mean points\n",
      "152: has 1 mean points\n",
      "31: has 2 mean points\n",
      "260: has 7 mean points\n",
      "236: has 1 mean points\n",
      "40: has 1 mean points\n",
      "143: has 6 mean points\n",
      "233: has 6 mean points\n",
      "19: has 6 mean points\n",
      "298: has 3 mean points\n",
      "192: has 8 mean points\n",
      "101: has 2 mean points\n",
      "242: has 2 mean points\n",
      "127: has 1 mean points\n",
      "61: has 7 mean points\n",
      "272: has 2 mean points\n",
      "69: has 1 mean points\n",
      "338: has 14 mean points\n",
      "123: has 1 mean points\n",
      "330: has 10 mean points\n",
      "230: has 1 mean points\n",
      "29: has 2 mean points\n",
      "133: has 1 mean points\n",
      "264: has 1 mean points\n",
      "162: has 1 mean points\n",
      "54: has 8 mean points\n",
      "141: has 7 mean points\n",
      "208: has 2 mean points\n",
      "16: has 1 mean points\n",
      "240: has 2 mean points\n",
      "268: has 0 mean points\n",
      "2: has 0 mean points\n",
      "171: has 12 mean points\n",
      "175: has 1 mean points\n",
      "283: has 5 mean points\n",
      "109: has 1 mean points\n",
      "49: has 8 mean points\n",
      "88: has 3 mean points\n",
      "265: has 3 mean points\n",
      "176: has 2 mean points\n",
      "46: has 1 mean points\n",
      "144: has 3 mean points\n",
      "115: has 21 mean points\n",
      "253: has 3 mean points\n",
      "59: has 2 mean points\n",
      "124: has 1 mean points\n",
      "226: has 2 mean points\n",
      "202: has 1 mean points\n",
      "328: has 1 mean points\n",
      "303: has 1 mean points\n",
      "103: has 1 mean points\n",
      "78: has 1 mean points\n",
      "173: has 0 mean points\n",
      "99: has 2 mean points\n",
      "56: has 1 mean points\n",
      "346: has 1 mean points\n",
      "22: has 2 mean points\n",
      "318: has 3 mean points\n",
      "10: has 8 mean points\n",
      "191: has 6 mean points\n",
      "259: has 1 mean points\n",
      "108: has 1 mean points\n",
      "179: has 3 mean points\n",
      "114: has 1 mean points\n",
      "136: has 1 mean points\n",
      "331: has 1 mean points\n",
      "215: has 1 mean points\n"
     ]
    }
   ],
   "source": [
    "print(X_train['playerName'].nunique())\n",
    "for label in X_train['playerName'].unique():\n",
    "    print('{}: has {} mean points'.format(label,int(y_train[label].mean())))"
   ]
  },
  {
   "cell_type": "markdown",
   "metadata": {},
   "source": [
    "### Evaluate Predictions with a scatter plot"
   ]
  },
  {
   "cell_type": "code",
   "execution_count": 8,
   "metadata": {},
   "outputs": [
    {
     "data": {
      "text/plain": [
       "<matplotlib.collections.PathCollection at 0x145b9d38790>"
      ]
     },
     "execution_count": 8,
     "metadata": {},
     "output_type": "execute_result"
    },
    {
     "data": {
      "image/png": "[encoded data removed]",
      "text/plain": [
       "<Figure size 1440x720 with 1 Axes>"
      ]
     },
     "metadata": {
      "needs_background": "light"
     },
     "output_type": "display_data"
    }
   ],
   "source": [
    "# a scatter plot can be used to evaluate further\n",
    "plt.figure(figsize=(20,10))\n",
    "plt.ylabel('prediction')\n",
    "plt.xlabel('real')\n",
    "plt.scatter(y_test, lin_model.predict(X_test))"
   ]
  },
  {
   "cell_type": "markdown",
   "metadata": {},
   "source": [
    "check the closeness of the models"
   ]
  },
  {
   "cell_type": "code",
   "execution_count": 9,
   "metadata": {},
   "outputs": [
    {
     "name": "stdout",
     "output_type": "stream",
     "text": [
      "24.0\n",
      "20.578438600412156\n"
     ]
    }
   ],
   "source": [
    "print(y_test.max())\n",
    "print(lin_model.predict(X_test).max())"
   ]
  },
  {
   "cell_type": "markdown",
   "metadata": {},
   "source": [
    "Evaluate the distribution of random errors"
   ]
  },
  {
   "cell_type": "code",
   "execution_count": 10,
   "metadata": {},
   "outputs": [
    {
     "data": {
      "text/plain": [
       "<AxesSubplot:>"
      ]
     },
     "execution_count": 10,
     "metadata": {},
     "output_type": "execute_result"
    },
    {
     "data": {
      "image/png": "[encoded data removed]",
      "text/plain": [
       "<Figure size 432x288 with 1 Axes>"
      ]
     },
     "metadata": {
      "needs_background": "light"
     },
     "output_type": "display_data"
    }
   ],
   "source": [
    "errors = y_test - lin_model.predict(X_test)\n",
    "errors.hist(bins=40)"
   ]
  },
  {
   "cell_type": "markdown",
   "metadata": {},
   "source": [
    "Appears normally enough distributed to not be alarming"
   ]
  },
  {
   "cell_type": "markdown",
   "metadata": {},
   "source": [
    "### Feature Importance"
   ]
  },
  {
   "cell_type": "code",
   "execution_count": 11,
   "metadata": {},
   "outputs": [
    {
     "data": {
      "text/plain": [
       "Text(0.5, 1.0, 'Feature Importance')"
      ]
     },
     "execution_count": 11,
     "metadata": {},
     "output_type": "execute_result"
    },
    {
     "data": {
      "image/png": "[encoded data removed]",
      "text/plain": [
       "<Figure size 1440x720 with 1 Axes>"
      ]
     },
     "metadata": {
      "needs_background": "light"
     },
     "output_type": "display_data"
    }
   ],
   "source": [
    "# rank the features in order of importance / influence\n",
    "importance = pd.Series(np.abs(lin_model.coef_.ravel()))\n",
    "importance.index = features\n",
    "importance.sort_values(inplace=True, ascending=False)\n",
    "importance.plot.bar(figsize=(20,10))\n",
    "plt.ylabel('lasso Coefficients')\n",
    "plt.title('Feature Importance')"
   ]
  }
 ],
 "metadata": {
  "kernelspec": {
   "display_name": "Python 3",
   "language": "python",
   "name": "python3"
  },
  "language_info": {
   "codemirror_mode": {
    "name": "ipython",
    "version": 3
   },
   "file_extension": ".py",
   "mimetype": "text/x-python",
   "name": "python",
   "nbconvert_exporter": "python",
   "pygments_lexer": "ipython3",
   "version": "3.8.5"
  }
 },
 "nbformat": 4,
 "nbformat_minor": 4
}
