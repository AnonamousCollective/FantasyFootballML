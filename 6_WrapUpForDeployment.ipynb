{
 "cells": [
  {
   "cell_type": "code",
   "execution_count": 1,
   "metadata": {},
   "outputs": [],
   "source": [
    "# to handle datasets\n",
    "import pandas as pd\n",
    "from pandas import DataFrame\n",
    "pd.pandas.set_option('display.max_columns',None)\n",
    "import numpy as np\n",
    "\n",
    "# divide test and train\n",
    "from sklearn.model_selection import train_test_split\n",
    "\n",
    "# feature scaling\n",
    "from sklearn.preprocessing import MinMaxScaler\n",
    "\n",
    "# to build models\n",
    "from sklearn.linear_model import Lasso\n",
    "from sklearn.feature_selection import SelectFromModel\n",
    "\n",
    "# to evaluate models\n",
    "from sklearn.metrics import mean_squared_error, r2_score\n",
    "from math import sqrt\n",
    "\n",
    "# to persist the model and scaler\n",
    "import joblib"
   ]
  },
  {
   "cell_type": "markdown",
   "metadata": {},
   "source": [
    "### Load Original Data"
   ]
  },
  {
   "cell_type": "code",
   "execution_count": 2,
   "metadata": {},
   "outputs": [
    {
     "name": "stdout",
     "output_type": "stream",
     "text": [
      "(9685, 25)\n"
     ]
    },
    {
     "data": {
      "text/html": [
       "<div>\n",
       "<style scoped>\n",
       "    .dataframe tbody tr th:only-of-type {\n",
       "        vertical-align: middle;\n",
       "    }\n",
       "\n",
       "    .dataframe tbody tr th {\n",
       "        vertical-align: top;\n",
       "    }\n",
       "\n",
       "    .dataframe thead th {\n",
       "        text-align: right;\n",
       "    }\n",
       "</style>\n",
       "<table border=\"1\" class=\"dataframe\">\n",
       "  <thead>\n",
       "    <tr style=\"text-align: right;\">\n",
       "      <th></th>\n",
       "      <th>Unnamed: 0</th>\n",
       "      <th>points</th>\n",
       "      <th>minsPlayed</th>\n",
       "      <th>goalsScored</th>\n",
       "      <th>assists</th>\n",
       "      <th>cleanSheets</th>\n",
       "      <th>goalsConceded</th>\n",
       "      <th>ownGoals</th>\n",
       "      <th>penSaved</th>\n",
       "      <th>penMissed</th>\n",
       "      <th>yelCards</th>\n",
       "      <th>redCards</th>\n",
       "      <th>saves</th>\n",
       "      <th>bonus</th>\n",
       "      <th>bonusPointSystem</th>\n",
       "      <th>influence</th>\n",
       "      <th>creativity</th>\n",
       "      <th>threat</th>\n",
       "      <th>ictIndex</th>\n",
       "      <th>netTransfers</th>\n",
       "      <th>selectedBy</th>\n",
       "      <th>costGBP</th>\n",
       "      <th>gameDate</th>\n",
       "      <th>playerName</th>\n",
       "      <th>oppositionTeam</th>\n",
       "    </tr>\n",
       "  </thead>\n",
       "  <tbody>\n",
       "    <tr>\n",
       "      <th>0</th>\n",
       "      <td>0</td>\n",
       "      <td>0</td>\n",
       "      <td>0</td>\n",
       "      <td>0</td>\n",
       "      <td>0</td>\n",
       "      <td>0</td>\n",
       "      <td>0</td>\n",
       "      <td>0</td>\n",
       "      <td>0</td>\n",
       "      <td>0</td>\n",
       "      <td>0</td>\n",
       "      <td>0</td>\n",
       "      <td>0</td>\n",
       "      <td>0</td>\n",
       "      <td>0</td>\n",
       "      <td>0.0</td>\n",
       "      <td>0.0</td>\n",
       "      <td>0.0</td>\n",
       "      <td>0.0</td>\n",
       "      <td>0</td>\n",
       "      <td>76656</td>\n",
       "      <td>7.0</td>\n",
       "      <td>2020-09-12</td>\n",
       "      <td>('Mesut', 'Özil')</td>\n",
       "      <td>Fulham</td>\n",
       "    </tr>\n",
       "    <tr>\n",
       "      <th>1</th>\n",
       "      <td>6378</td>\n",
       "      <td>6</td>\n",
       "      <td>90</td>\n",
       "      <td>0</td>\n",
       "      <td>0</td>\n",
       "      <td>1</td>\n",
       "      <td>0</td>\n",
       "      <td>0</td>\n",
       "      <td>0</td>\n",
       "      <td>0</td>\n",
       "      <td>0</td>\n",
       "      <td>0</td>\n",
       "      <td>0</td>\n",
       "      <td>0</td>\n",
       "      <td>27</td>\n",
       "      <td>26.0</td>\n",
       "      <td>0.1</td>\n",
       "      <td>2.0</td>\n",
       "      <td>2.8</td>\n",
       "      <td>0</td>\n",
       "      <td>88657</td>\n",
       "      <td>5.0</td>\n",
       "      <td>2020-09-12</td>\n",
       "      <td>('Federico', 'Fernández')</td>\n",
       "      <td>West Ham United</td>\n",
       "    </tr>\n",
       "    <tr>\n",
       "      <th>2</th>\n",
       "      <td>6394</td>\n",
       "      <td>0</td>\n",
       "      <td>0</td>\n",
       "      <td>0</td>\n",
       "      <td>0</td>\n",
       "      <td>0</td>\n",
       "      <td>0</td>\n",
       "      <td>0</td>\n",
       "      <td>0</td>\n",
       "      <td>0</td>\n",
       "      <td>0</td>\n",
       "      <td>0</td>\n",
       "      <td>0</td>\n",
       "      <td>0</td>\n",
       "      <td>0</td>\n",
       "      <td>0.0</td>\n",
       "      <td>0.0</td>\n",
       "      <td>0.0</td>\n",
       "      <td>0.0</td>\n",
       "      <td>0</td>\n",
       "      <td>3326</td>\n",
       "      <td>4.5</td>\n",
       "      <td>2020-09-12</td>\n",
       "      <td>('Ciaran', 'Clark')</td>\n",
       "      <td>West Ham United</td>\n",
       "    </tr>\n",
       "    <tr>\n",
       "      <th>3</th>\n",
       "      <td>6410</td>\n",
       "      <td>7</td>\n",
       "      <td>90</td>\n",
       "      <td>0</td>\n",
       "      <td>0</td>\n",
       "      <td>1</td>\n",
       "      <td>0</td>\n",
       "      <td>0</td>\n",
       "      <td>0</td>\n",
       "      <td>0</td>\n",
       "      <td>0</td>\n",
       "      <td>0</td>\n",
       "      <td>3</td>\n",
       "      <td>0</td>\n",
       "      <td>26</td>\n",
       "      <td>27.0</td>\n",
       "      <td>0.0</td>\n",
       "      <td>0.0</td>\n",
       "      <td>2.7</td>\n",
       "      <td>0</td>\n",
       "      <td>13715</td>\n",
       "      <td>5.0</td>\n",
       "      <td>2020-09-12</td>\n",
       "      <td>('Karl', 'Darlow')</td>\n",
       "      <td>West Ham United</td>\n",
       "    </tr>\n",
       "    <tr>\n",
       "      <th>4</th>\n",
       "      <td>6426</td>\n",
       "      <td>0</td>\n",
       "      <td>0</td>\n",
       "      <td>0</td>\n",
       "      <td>0</td>\n",
       "      <td>0</td>\n",
       "      <td>0</td>\n",
       "      <td>0</td>\n",
       "      <td>0</td>\n",
       "      <td>0</td>\n",
       "      <td>0</td>\n",
       "      <td>0</td>\n",
       "      <td>0</td>\n",
       "      <td>0</td>\n",
       "      <td>0</td>\n",
       "      <td>0.0</td>\n",
       "      <td>0.0</td>\n",
       "      <td>0.0</td>\n",
       "      <td>0.0</td>\n",
       "      <td>0</td>\n",
       "      <td>27245</td>\n",
       "      <td>5.0</td>\n",
       "      <td>2020-09-12</td>\n",
       "      <td>('Martin', 'Dubravka')</td>\n",
       "      <td>West Ham United</td>\n",
       "    </tr>\n",
       "  </tbody>\n",
       "</table>\n",
       "</div>"
      ],
      "text/plain": [
       "   Unnamed: 0  points  minsPlayed  goalsScored  assists  cleanSheets  \\\n",
       "0           0       0           0            0        0            0   \n",
       "1        6378       6          90            0        0            1   \n",
       "2        6394       0           0            0        0            0   \n",
       "3        6410       7          90            0        0            1   \n",
       "4        6426       0           0            0        0            0   \n",
       "\n",
       "   goalsConceded  ownGoals  penSaved  penMissed  yelCards  redCards  saves  \\\n",
       "0              0         0         0          0         0         0      0   \n",
       "1              0         0         0          0         0         0      0   \n",
       "2              0         0         0          0         0         0      0   \n",
       "3              0         0         0          0         0         0      3   \n",
       "4              0         0         0          0         0         0      0   \n",
       "\n",
       "   bonus  bonusPointSystem  influence  creativity  threat  ictIndex  \\\n",
       "0      0                 0        0.0         0.0     0.0       0.0   \n",
       "1      0                27       26.0         0.1     2.0       2.8   \n",
       "2      0                 0        0.0         0.0     0.0       0.0   \n",
       "3      0                26       27.0         0.0     0.0       2.7   \n",
       "4      0                 0        0.0         0.0     0.0       0.0   \n",
       "\n",
       "   netTransfers  selectedBy  costGBP    gameDate                 playerName  \\\n",
       "0             0       76656      7.0  2020-09-12          ('Mesut', 'Özil')   \n",
       "1             0       88657      5.0  2020-09-12  ('Federico', 'Fernández')   \n",
       "2             0        3326      4.5  2020-09-12        ('Ciaran', 'Clark')   \n",
       "3             0       13715      5.0  2020-09-12         ('Karl', 'Darlow')   \n",
       "4             0       27245      5.0  2020-09-12     ('Martin', 'Dubravka')   \n",
       "\n",
       "    oppositionTeam  \n",
       "0           Fulham  \n",
       "1  West Ham United  \n",
       "2  West Ham United  \n",
       "3  West Ham United  \n",
       "4  West Ham United  "
      ]
     },
     "execution_count": 2,
     "metadata": {},
     "output_type": "execute_result"
    }
   ],
   "source": [
    "# been a while now but load the original dataset\n",
    "ffmlDf = pd.read_csv('ffmlDf_20-21')\n",
    "print(ffmlDf.shape)\n",
    "ffmlDf.head()"
   ]
  },
  {
   "cell_type": "markdown",
   "metadata": {},
   "source": [
    "### Split into train and test set"
   ]
  },
  {
   "cell_type": "code",
   "execution_count": 3,
   "metadata": {},
   "outputs": [
    {
     "data": {
      "text/plain": [
       "((7748, 25), (1937, 25))"
      ]
     },
     "execution_count": 3,
     "metadata": {},
     "output_type": "execute_result"
    }
   ],
   "source": [
    "# split into train and test\n",
    "# dont forget the split used in earlier notebooks\n",
    "# dont forget to set the seed\n",
    "X_train, X_test, y_train, y_test = train_test_split(\n",
    "    ffmlDf,\n",
    "    ffmlDf['points'],\n",
    "    test_size = 0.2, # 80:20 split\n",
    "    random_state = 0 # setting the seed\n",
    ")\n",
    "\n",
    "X_train.shape, X_test.shape"
   ]
  },
  {
   "cell_type": "code",
   "execution_count": 4,
   "metadata": {},
   "outputs": [
    {
     "data": {
      "text/html": [
       "<div>\n",
       "<style scoped>\n",
       "    .dataframe tbody tr th:only-of-type {\n",
       "        vertical-align: middle;\n",
       "    }\n",
       "\n",
       "    .dataframe tbody tr th {\n",
       "        vertical-align: top;\n",
       "    }\n",
       "\n",
       "    .dataframe thead th {\n",
       "        text-align: right;\n",
       "    }\n",
       "</style>\n",
       "<table border=\"1\" class=\"dataframe\">\n",
       "  <thead>\n",
       "    <tr style=\"text-align: right;\">\n",
       "      <th></th>\n",
       "      <th>Unnamed: 0</th>\n",
       "      <th>points</th>\n",
       "      <th>minsPlayed</th>\n",
       "      <th>goalsScored</th>\n",
       "      <th>assists</th>\n",
       "      <th>cleanSheets</th>\n",
       "      <th>goalsConceded</th>\n",
       "      <th>ownGoals</th>\n",
       "      <th>penSaved</th>\n",
       "      <th>penMissed</th>\n",
       "      <th>yelCards</th>\n",
       "      <th>redCards</th>\n",
       "      <th>saves</th>\n",
       "      <th>bonus</th>\n",
       "      <th>bonusPointSystem</th>\n",
       "      <th>influence</th>\n",
       "      <th>creativity</th>\n",
       "      <th>threat</th>\n",
       "      <th>ictIndex</th>\n",
       "      <th>netTransfers</th>\n",
       "      <th>selectedBy</th>\n",
       "      <th>costGBP</th>\n",
       "      <th>gameDate</th>\n",
       "      <th>playerName</th>\n",
       "      <th>oppositionTeam</th>\n",
       "    </tr>\n",
       "  </thead>\n",
       "  <tbody>\n",
       "    <tr>\n",
       "      <th>3883</th>\n",
       "      <td>7532</td>\n",
       "      <td>9</td>\n",
       "      <td>90</td>\n",
       "      <td>0</td>\n",
       "      <td>0</td>\n",
       "      <td>1</td>\n",
       "      <td>0</td>\n",
       "      <td>0</td>\n",
       "      <td>0</td>\n",
       "      <td>0</td>\n",
       "      <td>0</td>\n",
       "      <td>0</td>\n",
       "      <td>0</td>\n",
       "      <td>3</td>\n",
       "      <td>12</td>\n",
       "      <td>24.0</td>\n",
       "      <td>18.6</td>\n",
       "      <td>4.0</td>\n",
       "      <td>4.7</td>\n",
       "      <td>0</td>\n",
       "      <td>748080</td>\n",
       "      <td>4.5</td>\n",
       "      <td>2020-11-06</td>\n",
       "      <td>('Kyle', 'Walker-Peters')</td>\n",
       "      <td>Newcastle United</td>\n",
       "    </tr>\n",
       "    <tr>\n",
       "      <th>6150</th>\n",
       "      <td>7382</td>\n",
       "      <td>1</td>\n",
       "      <td>21</td>\n",
       "      <td>0</td>\n",
       "      <td>0</td>\n",
       "      <td>0</td>\n",
       "      <td>0</td>\n",
       "      <td>0</td>\n",
       "      <td>0</td>\n",
       "      <td>0</td>\n",
       "      <td>0</td>\n",
       "      <td>0</td>\n",
       "      <td>0</td>\n",
       "      <td>0</td>\n",
       "      <td>5</td>\n",
       "      <td>7.2</td>\n",
       "      <td>7.2</td>\n",
       "      <td>23.0</td>\n",
       "      <td>3.7</td>\n",
       "      <td>0</td>\n",
       "      <td>54083</td>\n",
       "      <td>6.5</td>\n",
       "      <td>2020-12-07</td>\n",
       "      <td>('Nathan', 'Redmond')</td>\n",
       "      <td>Brighton and Hove Albion</td>\n",
       "    </tr>\n",
       "    <tr>\n",
       "      <th>4706</th>\n",
       "      <td>3125</td>\n",
       "      <td>0</td>\n",
       "      <td>0</td>\n",
       "      <td>0</td>\n",
       "      <td>0</td>\n",
       "      <td>0</td>\n",
       "      <td>0</td>\n",
       "      <td>0</td>\n",
       "      <td>0</td>\n",
       "      <td>0</td>\n",
       "      <td>0</td>\n",
       "      <td>0</td>\n",
       "      <td>0</td>\n",
       "      <td>0</td>\n",
       "      <td>0</td>\n",
       "      <td>0.0</td>\n",
       "      <td>0.0</td>\n",
       "      <td>0.0</td>\n",
       "      <td>0.0</td>\n",
       "      <td>0</td>\n",
       "      <td>109</td>\n",
       "      <td>5.0</td>\n",
       "      <td>2020-11-22</td>\n",
       "      <td>('Jean-Philippe', 'Gbamin')</td>\n",
       "      <td>Fulham</td>\n",
       "    </tr>\n",
       "    <tr>\n",
       "      <th>1127</th>\n",
       "      <td>8591</td>\n",
       "      <td>2</td>\n",
       "      <td>73</td>\n",
       "      <td>0</td>\n",
       "      <td>0</td>\n",
       "      <td>0</td>\n",
       "      <td>2</td>\n",
       "      <td>0</td>\n",
       "      <td>0</td>\n",
       "      <td>0</td>\n",
       "      <td>0</td>\n",
       "      <td>0</td>\n",
       "      <td>0</td>\n",
       "      <td>0</td>\n",
       "      <td>3</td>\n",
       "      <td>4.8</td>\n",
       "      <td>12.8</td>\n",
       "      <td>9.0</td>\n",
       "      <td>2.7</td>\n",
       "      <td>0</td>\n",
       "      <td>37744</td>\n",
       "      <td>5.5</td>\n",
       "      <td>2020-09-26</td>\n",
       "      <td>('Grady', 'Diangana')</td>\n",
       "      <td>Chelsea</td>\n",
       "    </tr>\n",
       "    <tr>\n",
       "      <th>4639</th>\n",
       "      <td>6338</td>\n",
       "      <td>1</td>\n",
       "      <td>16</td>\n",
       "      <td>0</td>\n",
       "      <td>0</td>\n",
       "      <td>0</td>\n",
       "      <td>0</td>\n",
       "      <td>0</td>\n",
       "      <td>0</td>\n",
       "      <td>0</td>\n",
       "      <td>0</td>\n",
       "      <td>0</td>\n",
       "      <td>0</td>\n",
       "      <td>0</td>\n",
       "      <td>3</td>\n",
       "      <td>7.0</td>\n",
       "      <td>14.0</td>\n",
       "      <td>48.0</td>\n",
       "      <td>6.9</td>\n",
       "      <td>0</td>\n",
       "      <td>21822</td>\n",
       "      <td>5.5</td>\n",
       "      <td>2020-11-21</td>\n",
       "      <td>('Andy', 'Carroll')</td>\n",
       "      <td>Chelsea</td>\n",
       "    </tr>\n",
       "  </tbody>\n",
       "</table>\n",
       "</div>"
      ],
      "text/plain": [
       "      Unnamed: 0  points  minsPlayed  goalsScored  assists  cleanSheets  \\\n",
       "3883        7532       9          90            0        0            1   \n",
       "6150        7382       1          21            0        0            0   \n",
       "4706        3125       0           0            0        0            0   \n",
       "1127        8591       2          73            0        0            0   \n",
       "4639        6338       1          16            0        0            0   \n",
       "\n",
       "      goalsConceded  ownGoals  penSaved  penMissed  yelCards  redCards  saves  \\\n",
       "3883              0         0         0          0         0         0      0   \n",
       "6150              0         0         0          0         0         0      0   \n",
       "4706              0         0         0          0         0         0      0   \n",
       "1127              2         0         0          0         0         0      0   \n",
       "4639              0         0         0          0         0         0      0   \n",
       "\n",
       "      bonus  bonusPointSystem  influence  creativity  threat  ictIndex  \\\n",
       "3883      3                12       24.0        18.6     4.0       4.7   \n",
       "6150      0                 5        7.2         7.2    23.0       3.7   \n",
       "4706      0                 0        0.0         0.0     0.0       0.0   \n",
       "1127      0                 3        4.8        12.8     9.0       2.7   \n",
       "4639      0                 3        7.0        14.0    48.0       6.9   \n",
       "\n",
       "      netTransfers  selectedBy  costGBP    gameDate  \\\n",
       "3883             0      748080      4.5  2020-11-06   \n",
       "6150             0       54083      6.5  2020-12-07   \n",
       "4706             0         109      5.0  2020-11-22   \n",
       "1127             0       37744      5.5  2020-09-26   \n",
       "4639             0       21822      5.5  2020-11-21   \n",
       "\n",
       "                       playerName            oppositionTeam  \n",
       "3883    ('Kyle', 'Walker-Peters')          Newcastle United  \n",
       "6150        ('Nathan', 'Redmond')  Brighton and Hove Albion  \n",
       "4706  ('Jean-Philippe', 'Gbamin')                    Fulham  \n",
       "1127        ('Grady', 'Diangana')                   Chelsea  \n",
       "4639          ('Andy', 'Carroll')                   Chelsea  "
      ]
     },
     "execution_count": 4,
     "metadata": {},
     "output_type": "execute_result"
    }
   ],
   "source": [
    "X_train.head()"
   ]
  },
  {
   "cell_type": "markdown",
   "metadata": {},
   "source": [
    "### Load the selected Features"
   ]
  },
  {
   "cell_type": "code",
   "execution_count": 5,
   "metadata": {},
   "outputs": [
    {
     "name": "stdout",
     "output_type": "stream",
     "text": [
      "Number of feature selected: 18\n"
     ]
    }
   ],
   "source": [
    "features = pd.read_csv('selected_features.csv')\n",
    "# convert to list\n",
    "features = features['0'].to_list()\n",
    "\n",
    "print('Number of feature selected:',len(features))"
   ]
  },
  {
   "cell_type": "markdown",
   "metadata": {},
   "source": [
    "### Engineer Missing Values"
   ]
  },
  {
   "cell_type": "code",
   "execution_count": 6,
   "metadata": {},
   "outputs": [
    {
     "data": {
      "text/plain": [
       "[]"
      ]
     },
     "execution_count": 6,
     "metadata": {},
     "output_type": "execute_result"
    }
   ],
   "source": [
    "[\n",
    "    var for var in features\n",
    "    if ffmlDf[var].isnull().sum() > 0\n",
    "]"
   ]
  },
  {
   "cell_type": "markdown",
   "metadata": {},
   "source": [
    "1. No missing values to engineer\n",
    "2. No need to transform variables\n",
    "3. Temporal variables dropped rather than engineered"
   ]
  },
  {
   "cell_type": "markdown",
   "metadata": {},
   "source": [
    "### Rare Labels"
   ]
  },
  {
   "cell_type": "code",
   "execution_count": 7,
   "metadata": {
    "scrolled": true
   },
   "outputs": [
    {
     "name": "stdout",
     "output_type": "stream",
     "text": [
      "['playerName', 'oppositionTeam']\n",
      "playerName\n",
      "Index(['(\"N'Golo\", 'Kanté')', '('Aaron', 'Connolly')',\n",
      "       '('Aaron', 'Cresswell')', '('Aaron', 'Mooy')', '('Aaron', 'Ramsdale')',\n",
      "       '('Aaron', 'Wan-Bissaka')', '('Abdoulaye', 'Doucouré')',\n",
      "       '('Aboubakar', 'Kamara')', '('Adam', 'Forshaw')', '('Adam', 'Lallana')',\n",
      "       ...\n",
      "       '('Xherdan', 'Shaqiri')', '('Yan', 'Valery')', '('Yerry', 'Mina')',\n",
      "       '('Yoshinori', 'Muto')', '('Youri', 'Tielemans')',\n",
      "       '('Yves', 'Bissouma')', '('Zack', 'Steffen')',\n",
      "       '('Zeze Steven', 'Sessegnon')', '('Çaglar', 'Söyüncü')',\n",
      "       '('Ørjan', 'Nyland')'],\n",
      "      dtype='object', name='playerName', length=600)\n",
      "\n",
      "oppositionTeam\n",
      "Index(['Arsenal', 'Aston Villa', 'Brighton and Hove Albion', 'Burnley',\n",
      "       'Chelsea', 'Crystal Palace', 'Everton', 'Fulham', 'Leeds',\n",
      "       'Leicester City', 'Liverpool', 'Manchester City', 'Manchester United',\n",
      "       'Newcastle United', 'Sheffield United', 'Southampton',\n",
      "       'Tottenham Hotspur', 'West Bromwich Albion', 'West Ham United',\n",
      "       'Wolverhampton Wanderers'],\n",
      "      dtype='object', name='oppositionTeam')\n",
      "\n"
     ]
    },
    {
     "name": "stderr",
     "output_type": "stream",
     "text": [
      "<ipython-input-7-c47aba2d3765>:22: SettingWithCopyWarning: \n",
      "A value is trying to be set on a copy of a slice from a DataFrame.\n",
      "Try using .loc[row_indexer,col_indexer] = value instead\n",
      "\n",
      "See the caveats in the documentation: https://pandas.pydata.org/pandas-docs/stable/user_guide/indexing.html#returning-a-view-versus-a-copy\n",
      "  X_train[var] = np.where(X_train[var].isin(frequent_list), X_train[var], 'Rare')\n",
      "<ipython-input-7-c47aba2d3765>:23: SettingWithCopyWarning: \n",
      "A value is trying to be set on a copy of a slice from a DataFrame.\n",
      "Try using .loc[row_indexer,col_indexer] = value instead\n",
      "\n",
      "See the caveats in the documentation: https://pandas.pydata.org/pandas-docs/stable/user_guide/indexing.html#returning-a-view-versus-a-copy\n",
      "  X_test[var] = np.where(X_test[var].isin(frequent_list), X_test[var], 'Rare')\n",
      "<ipython-input-7-c47aba2d3765>:22: SettingWithCopyWarning: \n",
      "A value is trying to be set on a copy of a slice from a DataFrame.\n",
      "Try using .loc[row_indexer,col_indexer] = value instead\n",
      "\n",
      "See the caveats in the documentation: https://pandas.pydata.org/pandas-docs/stable/user_guide/indexing.html#returning-a-view-versus-a-copy\n",
      "  X_train[var] = np.where(X_train[var].isin(frequent_list), X_train[var], 'Rare')\n",
      "<ipython-input-7-c47aba2d3765>:23: SettingWithCopyWarning: \n",
      "A value is trying to be set on a copy of a slice from a DataFrame.\n",
      "Try using .loc[row_indexer,col_indexer] = value instead\n",
      "\n",
      "See the caveats in the documentation: https://pandas.pydata.org/pandas-docs/stable/user_guide/indexing.html#returning-a-view-versus-a-copy\n",
      "  X_test[var] = np.where(X_test[var].isin(frequent_list), X_test[var], 'Rare')\n"
     ]
    }
   ],
   "source": [
    "# brought forward from notebook 3\n",
    "cat_vars = [\n",
    "    var for var in features\n",
    "    if ffmlDf[var].dtype == 'O'\n",
    "]\n",
    "print(cat_vars)\n",
    "\n",
    "def FindFrequentLabels(df, var, rare_perc):\n",
    "    df = df.copy()\n",
    "    tmp = df.groupby(var)['points'].count() / len(df)\n",
    "    return tmp[tmp > rare_perc].index\n",
    "\n",
    "# Rare Labels Romoved and Replaced!!!\n",
    "\n",
    "for var in cat_vars:\n",
    "    frequent_list = FindFrequentLabels(ffmlDf, var, 0.001)\n",
    "    # i want values of 0.001 so im being a little lenient i feel\n",
    "    print(var)\n",
    "    print(frequent_list)\n",
    "    print()\n",
    "    \n",
    "    X_train[var] = np.where(X_train[var].isin(frequent_list), X_train[var], 'Rare')\n",
    "    X_test[var] = np.where(X_test[var].isin(frequent_list), X_test[var], 'Rare')"
   ]
  },
  {
   "cell_type": "code",
   "execution_count": 8,
   "metadata": {},
   "outputs": [
    {
     "data": {
      "text/html": [
       "<div>\n",
       "<style scoped>\n",
       "    .dataframe tbody tr th:only-of-type {\n",
       "        vertical-align: middle;\n",
       "    }\n",
       "\n",
       "    .dataframe tbody tr th {\n",
       "        vertical-align: top;\n",
       "    }\n",
       "\n",
       "    .dataframe thead th {\n",
       "        text-align: right;\n",
       "    }\n",
       "</style>\n",
       "<table border=\"1\" class=\"dataframe\">\n",
       "  <thead>\n",
       "    <tr style=\"text-align: right;\">\n",
       "      <th></th>\n",
       "      <th>Unnamed: 0</th>\n",
       "      <th>points</th>\n",
       "      <th>minsPlayed</th>\n",
       "      <th>goalsScored</th>\n",
       "      <th>assists</th>\n",
       "      <th>cleanSheets</th>\n",
       "      <th>goalsConceded</th>\n",
       "      <th>ownGoals</th>\n",
       "      <th>penSaved</th>\n",
       "      <th>penMissed</th>\n",
       "      <th>yelCards</th>\n",
       "      <th>redCards</th>\n",
       "      <th>saves</th>\n",
       "      <th>bonus</th>\n",
       "      <th>bonusPointSystem</th>\n",
       "      <th>influence</th>\n",
       "      <th>creativity</th>\n",
       "      <th>threat</th>\n",
       "      <th>ictIndex</th>\n",
       "      <th>netTransfers</th>\n",
       "      <th>selectedBy</th>\n",
       "      <th>costGBP</th>\n",
       "      <th>gameDate</th>\n",
       "      <th>playerName</th>\n",
       "      <th>oppositionTeam</th>\n",
       "    </tr>\n",
       "  </thead>\n",
       "  <tbody>\n",
       "    <tr>\n",
       "      <th>3883</th>\n",
       "      <td>7532</td>\n",
       "      <td>9</td>\n",
       "      <td>90</td>\n",
       "      <td>0</td>\n",
       "      <td>0</td>\n",
       "      <td>1</td>\n",
       "      <td>0</td>\n",
       "      <td>0</td>\n",
       "      <td>0</td>\n",
       "      <td>0</td>\n",
       "      <td>0</td>\n",
       "      <td>0</td>\n",
       "      <td>0</td>\n",
       "      <td>3</td>\n",
       "      <td>12</td>\n",
       "      <td>24.0</td>\n",
       "      <td>18.6</td>\n",
       "      <td>4.0</td>\n",
       "      <td>4.7</td>\n",
       "      <td>0</td>\n",
       "      <td>748080</td>\n",
       "      <td>4.5</td>\n",
       "      <td>2020-11-06</td>\n",
       "      <td>('Kyle', 'Walker-Peters')</td>\n",
       "      <td>Newcastle United</td>\n",
       "    </tr>\n",
       "    <tr>\n",
       "      <th>6150</th>\n",
       "      <td>7382</td>\n",
       "      <td>1</td>\n",
       "      <td>21</td>\n",
       "      <td>0</td>\n",
       "      <td>0</td>\n",
       "      <td>0</td>\n",
       "      <td>0</td>\n",
       "      <td>0</td>\n",
       "      <td>0</td>\n",
       "      <td>0</td>\n",
       "      <td>0</td>\n",
       "      <td>0</td>\n",
       "      <td>0</td>\n",
       "      <td>0</td>\n",
       "      <td>5</td>\n",
       "      <td>7.2</td>\n",
       "      <td>7.2</td>\n",
       "      <td>23.0</td>\n",
       "      <td>3.7</td>\n",
       "      <td>0</td>\n",
       "      <td>54083</td>\n",
       "      <td>6.5</td>\n",
       "      <td>2020-12-07</td>\n",
       "      <td>('Nathan', 'Redmond')</td>\n",
       "      <td>Brighton and Hove Albion</td>\n",
       "    </tr>\n",
       "    <tr>\n",
       "      <th>4706</th>\n",
       "      <td>3125</td>\n",
       "      <td>0</td>\n",
       "      <td>0</td>\n",
       "      <td>0</td>\n",
       "      <td>0</td>\n",
       "      <td>0</td>\n",
       "      <td>0</td>\n",
       "      <td>0</td>\n",
       "      <td>0</td>\n",
       "      <td>0</td>\n",
       "      <td>0</td>\n",
       "      <td>0</td>\n",
       "      <td>0</td>\n",
       "      <td>0</td>\n",
       "      <td>0</td>\n",
       "      <td>0.0</td>\n",
       "      <td>0.0</td>\n",
       "      <td>0.0</td>\n",
       "      <td>0.0</td>\n",
       "      <td>0</td>\n",
       "      <td>109</td>\n",
       "      <td>5.0</td>\n",
       "      <td>2020-11-22</td>\n",
       "      <td>('Jean-Philippe', 'Gbamin')</td>\n",
       "      <td>Fulham</td>\n",
       "    </tr>\n",
       "    <tr>\n",
       "      <th>1127</th>\n",
       "      <td>8591</td>\n",
       "      <td>2</td>\n",
       "      <td>73</td>\n",
       "      <td>0</td>\n",
       "      <td>0</td>\n",
       "      <td>0</td>\n",
       "      <td>2</td>\n",
       "      <td>0</td>\n",
       "      <td>0</td>\n",
       "      <td>0</td>\n",
       "      <td>0</td>\n",
       "      <td>0</td>\n",
       "      <td>0</td>\n",
       "      <td>0</td>\n",
       "      <td>3</td>\n",
       "      <td>4.8</td>\n",
       "      <td>12.8</td>\n",
       "      <td>9.0</td>\n",
       "      <td>2.7</td>\n",
       "      <td>0</td>\n",
       "      <td>37744</td>\n",
       "      <td>5.5</td>\n",
       "      <td>2020-09-26</td>\n",
       "      <td>('Grady', 'Diangana')</td>\n",
       "      <td>Chelsea</td>\n",
       "    </tr>\n",
       "    <tr>\n",
       "      <th>4639</th>\n",
       "      <td>6338</td>\n",
       "      <td>1</td>\n",
       "      <td>16</td>\n",
       "      <td>0</td>\n",
       "      <td>0</td>\n",
       "      <td>0</td>\n",
       "      <td>0</td>\n",
       "      <td>0</td>\n",
       "      <td>0</td>\n",
       "      <td>0</td>\n",
       "      <td>0</td>\n",
       "      <td>0</td>\n",
       "      <td>0</td>\n",
       "      <td>0</td>\n",
       "      <td>3</td>\n",
       "      <td>7.0</td>\n",
       "      <td>14.0</td>\n",
       "      <td>48.0</td>\n",
       "      <td>6.9</td>\n",
       "      <td>0</td>\n",
       "      <td>21822</td>\n",
       "      <td>5.5</td>\n",
       "      <td>2020-11-21</td>\n",
       "      <td>('Andy', 'Carroll')</td>\n",
       "      <td>Chelsea</td>\n",
       "    </tr>\n",
       "  </tbody>\n",
       "</table>\n",
       "</div>"
      ],
      "text/plain": [
       "      Unnamed: 0  points  minsPlayed  goalsScored  assists  cleanSheets  \\\n",
       "3883        7532       9          90            0        0            1   \n",
       "6150        7382       1          21            0        0            0   \n",
       "4706        3125       0           0            0        0            0   \n",
       "1127        8591       2          73            0        0            0   \n",
       "4639        6338       1          16            0        0            0   \n",
       "\n",
       "      goalsConceded  ownGoals  penSaved  penMissed  yelCards  redCards  saves  \\\n",
       "3883              0         0         0          0         0         0      0   \n",
       "6150              0         0         0          0         0         0      0   \n",
       "4706              0         0         0          0         0         0      0   \n",
       "1127              2         0         0          0         0         0      0   \n",
       "4639              0         0         0          0         0         0      0   \n",
       "\n",
       "      bonus  bonusPointSystem  influence  creativity  threat  ictIndex  \\\n",
       "3883      3                12       24.0        18.6     4.0       4.7   \n",
       "6150      0                 5        7.2         7.2    23.0       3.7   \n",
       "4706      0                 0        0.0         0.0     0.0       0.0   \n",
       "1127      0                 3        4.8        12.8     9.0       2.7   \n",
       "4639      0                 3        7.0        14.0    48.0       6.9   \n",
       "\n",
       "      netTransfers  selectedBy  costGBP    gameDate  \\\n",
       "3883             0      748080      4.5  2020-11-06   \n",
       "6150             0       54083      6.5  2020-12-07   \n",
       "4706             0         109      5.0  2020-11-22   \n",
       "1127             0       37744      5.5  2020-09-26   \n",
       "4639             0       21822      5.5  2020-11-21   \n",
       "\n",
       "                       playerName            oppositionTeam  \n",
       "3883    ('Kyle', 'Walker-Peters')          Newcastle United  \n",
       "6150        ('Nathan', 'Redmond')  Brighton and Hove Albion  \n",
       "4706  ('Jean-Philippe', 'Gbamin')                    Fulham  \n",
       "1127        ('Grady', 'Diangana')                   Chelsea  \n",
       "4639          ('Andy', 'Carroll')                   Chelsea  "
      ]
     },
     "execution_count": 8,
     "metadata": {},
     "output_type": "execute_result"
    }
   ],
   "source": [
    "X_train.head()"
   ]
  },
  {
   "cell_type": "markdown",
   "metadata": {},
   "source": [
    "### Encoding Categorical Variables"
   ]
  },
  {
   "cell_type": "code",
   "execution_count": 9,
   "metadata": {
    "scrolled": true
   },
   "outputs": [
    {
     "name": "stdout",
     "output_type": "stream",
     "text": [
      "playerName\n",
      "{\"('Mohammed', 'Salisu')\": 0, \"('Teden', 'Mengi')\": 1, \"('Phil', 'Jagielka')\": 2, \"('Chris', 'Smalling')\": 3, \"('Phil', 'Jones')\": 4, \"('Christian', 'Atsu')\": 5, \"('Tahith', 'Chong')\": 6, \"('James', 'Trafford')\": 7, \"('Reiss', 'Nelson')\": 8, \"('Christian', 'Walton')\": 9, \"('James', 'Garner')\": 10, \"('Claudio', 'Bravo')\": 11, \"('Cole', 'Palmer')\": 12, \"('Connor', 'Wickham')\": 13, \"('James', 'Bree')\": 14, \"('Jake', 'Vokins')\": 15, \"('Terence', 'Kongolo')\": 16, \"('Jack', 'Wilshere')\": 17, \"('Paulo', 'Gazzaniga')\": 18, \"('Jarrad', 'Branthwaite')\": 19, \"('Brandon', 'Pierrick')\": 20, \"('Jonas', 'Lössl')\": 21, \"('John', 'Ruddy')\": 22, \"('Bruno André', 'Cavaco Jordao')\": 23, \"('Joe', 'Hart')\": 24, \"('Timothy', 'Fosu-Mensah')\": 25, \"('Jesse', 'Lingard')\": 26, \"('Jed', 'Steer')\": 27, \"('Jean-Philippe', 'Gbamin')\": 28, \"('Calum', 'Chambers')\": 29, \"('Cameron', 'Carter-Vickers')\": 30, \"('Jean Michaël', 'Seri')\": 31, \"('Jay-Roy', 'Grot')\": 32, \"('Cedric', 'Kipre')\": 33, \"('Jason', 'Steele')\": 34, \"('Japhet', 'Tanganga')\": 35, \"('Jack', 'Jenkins')\": 36, \"('Ricardo Domingos', 'Barbosa Pereira')\": 37, \"('Jack', 'Cork')\": 38, \"('Sofiane', 'Boufal')\": 39, \"('Simon', 'Moore')\": 40, \"('Florin', 'Andone')\": 41, \"('Florian', 'Lejeune')\": 42, \"('Filip', 'Benkovic')\": 43, \"('Fikayo', 'Tomori')\": 44, \"('Ryan', 'Inniss')\": 45, \"('Ryan', 'Sessegnon')\": 46, \"('Facundo', 'Pellistri')\": 47, \"('Fabricio', 'Agosto Ramírez')\": 48, \"('Diego', 'Llorente')\": 49, \"('Shane', 'Duffy')\": 50, \"('Rúnar Alex', 'Rúnarsson')\": 51, \"('Sergio', 'Romero')\": 52, \"('Sam', 'Woods')\": 53, \"('David', 'Martin')\": 54, \"('Francisco', 'Casilla Cortés')\": 55, \"('David', 'Button')\": 56, \"('Frédéric', 'Guilbert')\": 57, \"('Cyrus', 'Christie')\": 58, \"('Jack', 'Butland')\": 59, \"('Indiana', 'Vassilev')\": 60, \"('Roberto', 'Jimenez Gago')\": 61, \"('Henri', 'Lansbury')\": 62, \"('Harvey', 'Elliott')\": 63, \"('Harry', 'Wilson')\": 64, \"('Bobby', 'Thomas')\": 65, \"('Rolando', 'Aarons')\": 66, \"('Glenn', 'Murray')\": 67, \"('Stephen', 'Henderson')\": 68, \"('Danny', 'Rose')\": 69, \"('Danny', 'Ward')\": 70, \"('Stefan', 'Johansen')\": 71, \"('Gedson', 'Carvalho Fernandes')\": 72, \"('Sokratis', 'Papastathopoulos')\": 73, \"('Ryan', 'Bennett')\": 74, \"('Jonathan', 'Castro Otto')\": 75, \"('Bjorn', 'Engels')\": 76, \"('Jonathan', 'Leko')\": 77, \"('Matt', 'Macey')\": 78, \"('Nathan', 'Ferguson')\": 79, \"('Matija', 'Sarkic')\": 80, \"('Mateusz', 'Bogusz')\": 81, \"('Martín', 'Montoya')\": 82, \"('Martin', 'Kelly')\": 83, \"('Alfie', 'Mawson')\": 84, \"('Martin', 'Dubravka')\": 85, \"('Mark', 'Gillespie')\": 86, \"('Marek', 'Rodák')\": 87, \"('Marcus', 'Bettinelli')\": 88, \"('Marcos', 'Rojo')\": 89, \"('Mace', 'Goodridge')\": 90, \"('Léo', 'Bonatini')\": 91, \"('Andreas', 'Pereira')\": 92, \"('Matteo', 'Guendouzi')\": 93, \"('Albian', 'Ajeti')\": 94, \"('Matthew', 'Clarke')\": 95, \"('Matty', 'James')\": 96, \"('Michael', 'Verrips')\": 97, \"('Michael', 'Obafemi')\": 98, \"('Aaron', 'Mooy')\": 99, \"('Zeze Steven', 'Sessegnon')\": 100, \"('Morgan', 'Gibbs-White')\": 101, \"('Michael', 'Hector')\": 102, \"('Mesut', 'Özil')\": 103, \"('William', 'Saliba')\": 104, \"('Adam', 'Forshaw')\": 105, \"('Yoshinori', 'Muto')\": 106, \"('Mbwana', 'Samatta')\": 107, \"('Max', 'Thompson')\": 108, \"('Adrien', 'Silva')\": 109, \"('Adrián', 'Bernabé')\": 110, \"('Max', 'Meyer')\": 111, \"('Ahmed El-Sayed', 'Hegazy')\": 112, \"('Meritan', 'Shabani')\": 113, \"('Ellis', 'Simms')\": 114, \"('Luke', 'Freeman')\": 115, \"('Lucas', 'Torreira')\": 116, \"('Kamil', 'Miazek')\": 117, \"('Ben', 'Gibson')\": 118, \"('Oliver', 'Casey')\": 119, \"('Juan', 'Foyth')\": 120, \"('João', 'Virgínia')\": 121, \"('José', 'Izquierdo')\": 122, \"('José Ignacio', 'Peleteiro Romallo')\": 123, \"('José Diogo', 'Dalot Teixeira')\": 124, \"('Josh', 'Sims')\": 125, \"('Oliver', 'Skipp')\": 126, \"('Jordan', 'Stevens')\": 127, \"('Jordan', 'Hugill')\": 128, \"('Tommy', 'Doyle')\": 129, \"('Tom', 'Heaton')\": 130, \"('Ørjan', 'Nyland')\": 131, \"('Barry', 'Douglas')\": 132, \"('Karlo', 'Ziger')\": 133, \"('Bailey', 'Peacock-Farrell')\": 134, \"('Kayne', 'Ramsay')\": 135, \"('Lewis', 'Richardson')\": 136, \"('Leonardo', 'Campana')\": 137, \"('Wesley', 'Moraes')\": 138, \"('Angus', 'Gunn')\": 139, \"('Anthony', 'Driscoll-Glennon')\": 140, \"('Lee', 'Peltier')\": 141, \"('Anthony', 'Knockaert')\": 142, \"('Will', 'Norris')\": 143, \"('Neil', 'Taylor')\": 144, \"('Nicolás', 'Otamendi')\": 145, \"('Wayne', 'Hennessey')\": 146, \"('Konstantinos', 'Tsimikas')\": 147, \"('Kieran', 'Gibbs')\": 148, \"('Kevin', 'McDonald')\": 149, \"('Kenneth', 'Zohore')\": 150, \"('Kelland', 'Watts')\": 151, \"('Wes', 'Foderingham')\": 152, \"('Elia', 'Caprile')\": 153, 'Rare': 154, \"('Willy', 'Caballero')\": 155, \"('Cédric', 'Soares')\": 156, \"('Rúben Gonçalo', 'Silva Nascimento Vinagre')\": 157, \"('Demarai', 'Gray')\": 158, \"('Denis', 'Odoi')\": 159, \"('Oskar', 'Buur')\": 160, \"('Brandon', 'Williams')\": 161, \"('Andreas', 'Christensen')\": 162, \"('Kamil', 'Grosicki')\": 163, \"('Mamadou', 'Sakho')\": 164, \"('Maxime', 'Le Marchand')\": 165, \"('Billy', 'Gilmour')\": 166, \"('Jayson', 'Molumby')\": 167, \"('Emerson', 'Palmieri dos Santos')\": 168, \"('Marcos', 'Alonso')\": 169, \"('Phil', 'Bardsley')\": 170, \"('Odion', 'Ighalo')\": 171, \"('Andi', 'Zeqiri')\": 172, \"('Niels', 'Nkounkou')\": 173, \"('Islam', 'Slimani')\": 174, \"('Yan', 'Valery')\": 175, \"('Axel', 'Tuanzebe')\": 176, \"('Liam', 'Delap')\": 177, \"('Sam', 'Field')\": 178, \"('Paul', 'Dummett')\": 179, \"('Felipe Anderson', 'Pereira Gomes')\": 180, \"('Adrián', 'San Miguel del Castillo')\": 181, \"('Wes', 'Morgan')\": 182, \"('Rekeem', 'Harper')\": 183, \"('Marvelous', 'Nakamba')\": 184, \"('Sead', 'Kolasinac')\": 185, \"('Moise', 'Kean')\": 186, \"('Leif', 'Davis')\": 187, \"('Antonio', 'Rüdiger')\": 188, \"('Kenny', 'Tete')\": 189, \"('Zack', 'Steffen')\": 190, \"('Hamza', 'Choudhury')\": 191, \"('Alex', 'Oxlade-Chamberlain')\": 192, \"('Divock', 'Origi')\": 193, \"('Robert', 'Snodgrass')\": 194, \"('Daniel', 'Amartey')\": 195, \"('Josh', 'Onomah')\": 196, \"('Shkodran', 'Mustafi')\": 197, \"('Eric', 'Garcia')\": 198, '(\\'Jack\\', \"O\\'Connell\")': 199, \"('Joseph', 'Willock')\": 200, \"('Carlos Vinicius', 'Alves Morais')\": 201, \"('Keinan', 'Davis')\": 202, \"('Bernardo', 'Fernandes da Silva Junior')\": 203, \"('William', 'Smallbone')\": 204, \"('Charlie', 'Austin')\": 205, \"('Oleksandr', 'Zinchenko')\": 206, \"('Bamidele', 'Alli')\": 207, \"('Anthony', 'Gordon')\": 208, \"('Fabian', 'Delph')\": 209, \"('Xherdan', 'Shaqiri')\": 210, \"('Luke', 'Thomas')\": 211, \"('Aboubakar', 'Kamara')\": 212, \"('Davy', 'Pröpper')\": 213, \"('Ki-Jana', 'Hoever')\": 214, \"('Davinson', 'Sánchez')\": 215, \"('Gabriel Teodoro', 'Martinelli Silva')\": 216, \"('Issa', 'Diop')\": 217, \"('Kyle', 'Edwards')\": 218, \"('Rhys', 'Williams')\": 219, \"('Dean', 'Henderson')\": 220, \"('Nathan', 'Tella')\": 221, \"('Thiago', 'Alcántara do Nascimento')\": 222, \"('Jonjoe', 'Kenny')\": 223, \"('Max', 'Lowe')\": 224, \"('Hal', 'Robson-Kanu')\": 225, \"('Matthew', 'Longstaff')\": 226, \"('Cenk', 'Tosun')\": 227, \"('Johann Berg', 'Gudmundsson')\": 228, \"('Gary', 'Cahill')\": 229, \"('Kevin', 'Long')\": 230, \"('Kepa', 'Arrizabalaga')\": 231, \"('Ryan', 'Fredericks')\": 232, \"('Conor', 'Hourihane')\": 233, \"('Darren', 'Randolph')\": 234, \"('Emil', 'Krafth')\": 235, \"('Lys', 'Mousset')\": 236, \"('Mark', 'Noble')\": 237, \"('Tim', 'Ream')\": 238, \"('Sergio', 'Agüero')\": 239, \"('Neeskens', 'Kebano')\": 240, \"('Jamie', 'Shackleton')\": 241, \"('Fraser', 'Forster')\": 242, \"('David', 'Luiz Moreira Marinho')\": 243, '(\\'Daniel\\', \"N\\'Lundulu\")': 244, \"('Pablo', 'Hernández Domínguez')\": 245, \"('Tyler', 'Roberts')\": 246, \"('Josh', 'Benson')\": 247, \"('Harry', 'Winks')\": 248, \"('Neco', 'Williams')\": 249, \"('Owen', 'Otasowie')\": 250, \"('Shane', 'Long')\": 251, \"('Vitor', 'Ferreira')\": 252, \"('Kelechi', 'Iheanacho')\": 253, '(\\'Dara\\', \"O\\'Shea\")': 254, \"('Erik', 'Lamela')\": 255, \"('Caoimhin', 'Kelleher')\": 256, \"('Jayden', 'Bogle')\": 257, \"('Jake', 'Livermore')\": 258, \"('Joseph', 'Gomez')\": 259, \"('Joe', 'Bryan')\": 260, \"('Matej', 'Vydra')\": 261, \"('Fernando', 'Luiz Rosa')\": 262, \"('Andriy', 'Yarmolenko')\": 263, \"('Dale', 'Stephens')\": 264, \"('Javier', 'Manquillo')\": 265, \"('Çaglar', 'Söyüncü')\": 266, \"('Eric', 'Bailly')\": 267, \"('John', 'Egan')\": 268, \"('Jacob', 'Ramsey')\": 269, \"('Dwight', 'Gayle')\": 270, \"('James', 'Tomkins')\": 271, \"('Fernando', 'Marçal')\": 272, \"('Steven', 'Alzate')\": 273, \"('Ian Carlo', 'Poveda-Ocampo')\": 274, \"('Robin', 'Olsen')\": 275, \"('Tom', 'Davies')\": 276, \"('Naby', 'Keita')\": 277, \"('Pascal', 'Struijk')\": 278, \"('James', 'McCarthy')\": 279, \"('Thomas', 'Partey')\": 280, \"('Oliver', 'Norwood')\": 281, \"('Jimmy', 'Dunne')\": 282, \"('Ben', 'Johnson')\": 283, \"('Rayan', 'Ait Nouri')\": 284, \"('Billy', 'Sharp')\": 285, \"('Alireza', 'Jahanbakhsh')\": 286, \"('Nemanja', 'Matic')\": 287, \"('Matt', 'Ritchie')\": 288, \"('Alex Nicolao', 'Telles')\": 289, \"('Daniel', 'James')\": 290, \"('Ibrahima', 'Diallo')\": 291, \"('DeAndre', 'Yedlin')\": 292, \"('Bernard', 'Anício Caldeira Duarte')\": 293, \"('Jorge Luiz', 'Frello Filho')\": 294, \"('Aymeric', 'Laporte')\": 295, \"('Mario', 'Lemina')\": 296, \"('Luka', 'Milivojevic')\": 297, \"('Dan', 'Burn')\": 298, \"('Jack', 'Robinson')\": 299, \"('Pablo', 'Marí')\": 300, \"('Branislav', 'Ivanovic')\": 301, \"('Christian', 'Fuchs')\": 302, \"('Ciaran', 'Clark')\": 303, \"('Ahmed', 'El Mohamady')\": 304, \"('Enda', 'Stevens')\": 305, \"('Craig', 'Dawson')\": 306, \"('André Filipe', 'Tavares Gomes')\": 307, \"('Ethan', 'Ampadu')\": 308, \"('Isaac', 'Hayden')\": 309, \"('Michy', 'Batshuayi')\": 310, \"('Gareth', 'Bale')\": 311, \"('Alexis', 'Mac Allister')\": 312, \"('Ben', 'Osborn')\": 313, \"('Wilfred', 'Ndidi')\": 314, \"('Jamaal', 'Lascelles')\": 315, \"('Manuel', 'Lanzini')\": 316, \"('Nathaniel', 'Phillips')\": 317, \"('Oliver', 'Burke')\": 318, \"('Rhian', 'Brewster')\": 319, \"('Fabian', 'Schär')\": 320, \"('John', 'Lundstram')\": 321, \"('Jay', 'Rodriguez')\": 322, \"('Marc', 'Albrighton')\": 323, \"('Ilkay', 'Gündogan')\": 324, \"('Nathaniel', 'Clyne')\": 325, \"('Jonjo', 'Shelvey')\": 326, \"('Joe', 'Rodon')\": 327, \"('Emile', 'Smith Rowe')\": 328, \"('Patrick', 'van Aanholt')\": 329, \"('Nathan', 'Aké')\": 330, \"('Conor', 'Townsend')\": 331, \"('Ryan', 'Fraser')\": 332, \"('Virgil', 'van Dijk')\": 333, \"('Sean', 'Longstaff')\": 334, \"('Ainsley', 'Maitland-Niles')\": 335, \"('Allan', 'Marques Loureiro')\": 336, \"('Bernardo Mota', 'Veiga de Carvalho e Silva')\": 337, \"('Nathan', 'Redmond')\": 338, \"('John', 'Fleck')\": 339, \"('Fabio', 'Silva')\": 340, \"('Kyle', 'Bartley')\": 341, \"('Giovani', 'Lo Celso')\": 342, \"('Joël', 'Veltman')\": 343, \"('Cengiz', 'Ünder')\": 344, \"('Romaine', 'Sawyers')\": 345, \"('César', 'Azpilicueta')\": 346, \"('Mathew', 'Ryan')\": 347, \"('Oliver', 'McBurnie')\": 348, \"('Nicolas', 'Pépé')\": 349, \"('Erik', 'Pieters')\": 350, \"('Curtis', 'Jones')\": 351, \"('Mason', 'Greenwood')\": 352, \"('Seamus', 'Coleman')\": 353, \"('Ben', 'Davies')\": 354, \"('Mohamed Naser', 'El Sayed Elneny')\": 355, \"('Juan', 'Mata')\": 356, \"('Takumi', 'Minamino')\": 357, \"('Donny', 'van de Beek')\": 358, \"('Frederico', 'Rodrigues de Paula Santos')\": 359, \"('Mahmoud Ahmed', 'Ibrahim Hassan')\": 360, \"('Ben', 'White')\": 361, \"('Tyrick', 'Mitchell')\": 362, \"('Andy', 'Carroll')\": 363, \"('Ivan Ricardo', 'Neves Abreu Cavaleiro')\": 364, \"('George', 'Baldock')\": 365, \"('Matt', 'Phillips')\": 366, \"('Willian', 'Borges Da Silva')\": 367, \"('Mateo', 'Kovacic')\": 368, \"('Filip', 'Krovinovic')\": 369, \"('Willy', 'Boly')\": 370, \"('Edward', 'Nketiah')\": 371, \"('Scott', 'Dann')\": 372, \"('Karlan', 'Grant')\": 373, \"('Chris', 'Basham')\": 374, \"('Harrison', 'Reed')\": 375, \"('Joel', 'Ward')\": 376, \"('Daniel', 'Ceballos Fernández')\": 377, \"('Steven', 'Bergwijn')\": 378, \"('Lucas', 'Rodrigues Moura da Silva')\": 379, \"('Sander', 'Berge')\": 380, \"('Ayoze', 'Pérez')\": 381, \"('Adam', 'Lallana')\": 382, \"('Hakim', 'Ziyech')\": 383, \"('Jacob', 'Murphy')\": 384, \"('João Filipe Iria', 'Santos Moutinho')\": 385, \"('Oluwasemilogo Adesewo Ibidapo', 'Ajayi')\": 386, \"('James', 'Milner')\": 387, \"('Callum', 'Hudson-Odoi')\": 388, \"('Rúben Diogo', 'da Silva Neves')\": 389, \"('Jack', 'Stephens')\": 390, \"('Adama', 'Traoré')\": 391, \"('James', 'McArthur')\": 392, \"('Olivier', 'Giroud')\": 393, \"('Conor', 'Coady')\": 394, \"('Michail', 'Antonio')\": 395, \"('Jairo', 'Riedewald')\": 396, \"('Ashley', 'Barnes')\": 397, \"('Arthur', 'Masuaku')\": 398, \"('Robert', 'Sánchez')\": 399, \"('Liam', 'Cooper')\": 400, \"('Moussa', 'Sissoko')\": 401, \"('Luke', 'Shaw')\": 402, \"('Saïd', 'Benrahma')\": 403, \"('Leander', 'Dendoncker')\": 404, \"('Joelinton Cássio', 'Apolinário de Lira')\": 405, \"('Tom', 'Cairney')\": 406, \"('Gabriel Fernando', 'de Jesus')\": 407, \"('Jamal', 'Lewis')\": 408, \"('Christian', 'Pulisic')\": 409, \"('Benjamin', 'Mendy')\": 410, \"('Aaron', 'Connolly')\": 411, \"('Lewis', 'Dunk')\": 412, \"('Pascal', 'Groß')\": 413, \"('Moussa', 'Djenepo')\": 414, \"('Lucas', 'Digne')\": 415, \"('Ross', 'Barkley')\": 416, \"('Robin', 'Koch')\": 417, \"('Granit', 'Xhaka')\": 418, \"('Yves', 'Bissouma')\": 419, \"('Alex', 'Iwobi')\": 420, \"('Kortney', 'Hause')\": 421, \"('Allan', 'Saint-Maximin')\": 422, \"('Rodrigo', 'Hernandez')\": 423, \"('Mason', 'Holgate')\": 424, \"('Jonny', 'Evans')\": 425, \"('Miguel', 'Almirón')\": 426, \"('Anthony', 'Martial')\": 427, \"('Kalvin', 'Phillips')\": 428, \"('Jordan', 'Ayew')\": 429, \"('Nampalys', 'Mendy')\": 430, \"('Grady', 'Diangana')\": 431, \"('Hélder Wander', 'Sousa de Azevedo e Costa')\": 432, \"('Matheus', 'Pereira')\": 433, \"('Aaron', 'Ramsdale')\": 434, \"('Ezgjan', 'Alioski')\": 435, \"('Gabriel', 'Magalhães')\": 436, '(\"N\\'Golo\", \\'Kanté\\')': 437, \"('Christian', 'Benteke')\": 438, \"('Sébastien', 'Haller')\": 439, \"('Federico', 'Fernández')\": 440, \"('Toby', 'Alderweireld')\": 441, \"('Ruben', 'Loftus-Cheek')\": 442, \"('Matt', 'Doherty')\": 443, \"('Josh', 'Brownhill')\": 444, \"('Tariq', 'Lamptey')\": 445, \"('Adam', 'Webster')\": 446, \"('Antonee', 'Robinson')\": 447, \"('Ben', 'Godfrey')\": 448, \"('Darnell', 'Furlong')\": 449, \"('Ferran', 'Torres')\": 450, \"('André-Frank', 'Zambo Anguissa')\": 451, \"('Aleksandar', 'Mitrović')\": 452, \"('Serge', 'Aurier')\": 453, \"('Callum', 'Robinson')\": 454, \"('Diogo', 'Jota')\": 455, \"('Douglas Luiz', 'Soares de Paulo')\": 456, \"('Pierre-Emile', 'Højbjerg')\": 457, \"('James', 'Tarkowski')\": 458, \"('Fabio Henrique', 'Tavares')\": 459, \"('Dwight', 'McNeil')\": 460, \"('Dennis', 'Praet')\": 461, \"('Bertrand', 'Traoré')\": 462, \"('Paul', 'Pogba')\": 463, \"('Jeff', 'Hendrick')\": 464, \"('Declan', 'Rice')\": 465, \"('John', 'Stones')\": 466, \"('Max', 'Kilman')\": 467, \"('Matthew', 'Lowton')\": 468, \"('Fabián', 'Balbuena')\": 469, \"('Nélson', 'Cabral Semedo')\": 470, \"('Edinson', 'Cavani')\": 471, \"('Robbie', 'Brady')\": 472, \"('Cheikhou', 'Kouyaté')\": 473, \"('Joel', 'Matip')\": 474, \"('Kai', 'Havertz')\": 475, \"('Sam', 'Johnstone')\": 476, \"('Bobby', 'Decordova-Reid')\": 477, \"('Oriol', 'Romeu Vidal')\": 478, \"('Rob', 'Holding')\": 479, \"('Héctor', 'Bellerín')\": 480, \"('Jordan', 'Henderson')\": 481, \"('Timothy', 'Castagne')\": 482, \"('Conor', 'Gallagher')\": 483, \"('Jeffrey', 'Schlupp')\": 484, \"('Tanguy', 'Ndombele')\": 485, \"('Richarlison', 'de Andrade')\": 486, \"('Jordan', 'Pickford')\": 487, \"('Eberechi', 'Eze')\": 488, \"('Scott', 'McTominay')\": 489, \"('Rodrigo', 'Moreno')\": 490, \"('Wesley', 'Fofana')\": 491, \"('Vicente', 'Guaita')\": 492, \"('Raúl', 'Jiménez')\": 493, \"('Ryan', 'Bertrand')\": 494, \"('David', 'de Gea')\": 495, \"('Chris', 'Wood')\": 496, \"('Riyad', 'Mahrez')\": 497, \"('Trent', 'Alexander-Arnold')\": 498, \"('Joachim', 'Andersen')\": 499, \"('Daniel', 'Castelo Podence')\": 500, \"('Abdoulaye', 'Doucouré')\": 501, \"('Kieran', 'Tierney')\": 502, \"('Victor', 'Lindelöf')\": 503, \"('Thiago', 'Thiago')\": 504, \"('Ashley', 'Westwood')\": 505, \"('Raphael', 'Dias Belloli')\": 506, \"('Harry', 'Maguire')\": 507, \"('Georginio', 'Wijnaldum')\": 508, \"('Alexandre', 'Lacazette')\": 509, \"('Stuart', 'Armstrong')\": 510, \"('Alisson', 'Ramses Becker')\": 511, \"('Leandro', 'Trossard')\": 512, \"('Kyle', 'Walker')\": 513, \"('Vladimir', 'Coufal')\": 514, \"('Rúben Santos', 'Gato Alves Dias')\": 515, \"('David', 'McGoldrick')\": 516, \"('Edouard', 'Mendy')\": 517, \"('Andros', 'Townsend')\": 518, \"('Danny', 'Welbeck')\": 519, \"('Tosin', 'Adarabioyo')\": 520, \"('Mateusz', 'Klich')\": 521, \"('Luke', 'Ayling')\": 522, \"('Bukayo', 'Saka')\": 523, \"('Harvey', 'Barnes')\": 524, \"('Pierre-Emerick', 'Aubameyang')\": 525, \"('Theo', 'Walcott')\": 526, \"('Romain', 'Saïss')\": 527, \"('Ben', 'Mee')\": 528, \"('Mason', 'Mount')\": 529, \"('Solomon', 'March')\": 530, \"('Michael', 'Keane')\": 531, \"('Reece', 'James')\": 532, \"('Matthew', 'Cash')\": 533, \"('Tammy', 'Abraham')\": 534, \"('Kasper', 'Schmeichel')\": 535, \"('Alphonse', 'Areola')\": 536, \"('Anwar', 'El Ghazi')\": 537, \"('James', 'Rodríguez')\": 538, \"('Aaron', 'Wan-Bissaka')\": 539, \"('Ollie', 'Watkins')\": 540, \"('Youri', 'Tielemans')\": 541, \"('Ademola', 'Lookman')\": 542, \"('Gylfi', 'Sigurdsson')\": 543, \"('Neal', 'Maupay')\": 544, \"('Eric', 'Dier')\": 545, \"('Yerry', 'Mina')\": 546, \"('Ezri', 'Konsa Ngoyo')\": 547, \"('Rui Pedro', 'dos Santos Patrício')\": 548, \"('João Pedro Cavaco', 'Cancelo')\": 549, \"('Sergio', 'Reguilón')\": 550, \"('James', 'Justin')\": 551, \"('Jarrod', 'Bowen')\": 552, \"('Ola', 'Aina')\": 553, \"('Tyrone', 'Mings')\": 554, \"('Matt', 'Targett')\": 555, \"('John', 'McGinn')\": 556, \"('Ederson', 'Santana de Moraes')\": 557, \"('Karl', 'Darlow')\": 558, \"('James', 'Maddison')\": 559, \"('Angelo', 'Ogbonna')\": 560, \"('Phil', 'Foden')\": 561, \"('Pablo', 'Fornals')\": 562, \"('Bernd', 'Leno')\": 563, \"('Alex', 'McCarthy')\": 564, \"('Jannik', 'Vestergaard')\": 565, \"('Charlie', 'Taylor')\": 566, \"('Roberto', 'Firmino')\": 567, \"('Jan', 'Bednarek')\": 568, \"('Tomas', 'Soucek')\": 569, \"('Timo', 'Werner')\": 570, \"('Illan', 'Meslier')\": 571, \"('Che', 'Adams')\": 572, \"('Lukasz', 'Fabianski')\": 573, \"('Stuart', 'Dallas')\": 574, \"('Benjamin', 'Chilwell')\": 575, \"('Kyle', 'Walker-Peters')\": 576, \"('Nick', 'Pope')\": 577, \"('Hugo', 'Lloris')\": 578, \"('Danny', 'Ings')\": 579, \"('Jack', 'Harrison')\": 580, \"('Wilfried', 'Zaha')\": 581, \"('Pedro', 'Lomba Neto')\": 582, \"('Aaron', 'Cresswell')\": 583, \"('Andrew', 'Robertson')\": 584, \"('Kevin', 'De Bruyne')\": 585, \"('Marcus', 'Rashford')\": 586, \"('Sadio', 'Mané')\": 587, \"('Jack', 'Grealish')\": 588, \"('James', 'Ward-Prowse')\": 589, \"('Raheem', 'Sterling')\": 590, \"('Callum', 'Wilson')\": 591, \"('Dominic', 'Calvert-Lewin')\": 592, \"('Kurt', 'Zouma')\": 593, \"('Emiliano', 'Martínez')\": 594, \"('Patrick', 'Bamford')\": 595, \"('Bruno Miguel', 'Borges Fernandes')\": 596, \"('Mohamed', 'Salah')\": 597, \"('Jamie', 'Vardy')\": 598, \"('Harry', 'Kane')\": 599, \"('Heung-Min', 'Son')\": 600}\n",
      "\n",
      "oppositionTeam\n",
      "{'Liverpool': 0, 'Tottenham Hotspur': 1, 'West Ham United': 2, 'Manchester City': 3, 'Aston Villa': 4, 'Leicester City': 5, 'Southampton': 6, 'Arsenal': 7, 'Everton': 8, 'Chelsea': 9, 'Wolverhampton Wanderers': 10, 'Manchester United': 11, 'Brighton and Hove Albion': 12, 'Newcastle United': 13, 'Leeds': 14, 'Crystal Palace': 15, 'Burnley': 16, 'Fulham': 17, 'West Bromwich Albion': 18, 'Sheffield United': 19}\n",
      "\n"
     ]
    },
    {
     "name": "stderr",
     "output_type": "stream",
     "text": [
      "<ipython-input-9-d2912f90c9c8>:11: SettingWithCopyWarning: \n",
      "A value is trying to be set on a copy of a slice from a DataFrame.\n",
      "Try using .loc[row_indexer,col_indexer] = value instead\n",
      "\n",
      "See the caveats in the documentation: https://pandas.pydata.org/pandas-docs/stable/user_guide/indexing.html#returning-a-view-versus-a-copy\n",
      "  train[var] = train[var].map(ordinal_label)\n",
      "<ipython-input-9-d2912f90c9c8>:12: SettingWithCopyWarning: \n",
      "A value is trying to be set on a copy of a slice from a DataFrame.\n",
      "Try using .loc[row_indexer,col_indexer] = value instead\n",
      "\n",
      "See the caveats in the documentation: https://pandas.pydata.org/pandas-docs/stable/user_guide/indexing.html#returning-a-view-versus-a-copy\n",
      "  test[var] = test[var].map(ordinal_label)\n"
     ]
    }
   ],
   "source": [
    "# code was brought forward from notebook 3_FeatureEngineering\n",
    "# Encoding Categorical Variables\n",
    "def ReplaceCategories(train, test, var, target):\n",
    "    # order labels in a var from low to high\n",
    "    ordered_labels = train.groupby(var)[target].mean().sort_values().index\n",
    "    \n",
    "    # create a dictionary of ordered labels to integer values\n",
    "    ordinal_label = {k: i for i, k in enumerate(ordered_labels, 0)}\n",
    "    \n",
    "    # use the dict to replace cat strings with integers\n",
    "    train[var] = train[var].map(ordinal_label)\n",
    "    test[var] = test[var].map(ordinal_label)\n",
    "    print(var)\n",
    "    print(ordinal_label)\n",
    "    print()\n",
    "\n",
    "for var in cat_vars:\n",
    "    ReplaceCategories(X_train, X_test, var, 'points')"
   ]
  },
  {
   "cell_type": "markdown",
   "metadata": {},
   "source": [
    "##### Check for na in test and train\n",
    "\n",
    "use features rather than X_train.columns or X_test.columns"
   ]
  },
  {
   "cell_type": "code",
   "execution_count": 10,
   "metadata": {},
   "outputs": [
    {
     "data": {
      "text/plain": [
       "[]"
      ]
     },
     "execution_count": 10,
     "metadata": {},
     "output_type": "execute_result"
    }
   ],
   "source": [
    "[\n",
    "    var for var in features\n",
    "    if X_train[var].isnull().sum() > 0\n",
    "]"
   ]
  },
  {
   "cell_type": "code",
   "execution_count": 11,
   "metadata": {},
   "outputs": [
    {
     "data": {
      "text/plain": [
       "[]"
      ]
     },
     "execution_count": 11,
     "metadata": {},
     "output_type": "execute_result"
    }
   ],
   "source": [
    "[\n",
    "    var for var in features\n",
    "    if X_test[var].isnull().sum() > 0\n",
    "]"
   ]
  },
  {
   "cell_type": "markdown",
   "metadata": {},
   "source": [
    "### Feature Scaling"
   ]
  },
  {
   "cell_type": "code",
   "execution_count": 12,
   "metadata": {},
   "outputs": [],
   "source": [
    "# capture the targets\n",
    "y_train = X_train['points']\n",
    "y_test = X_test['points']"
   ]
  },
  {
   "cell_type": "code",
   "execution_count": 13,
   "metadata": {},
   "outputs": [
    {
     "data": {
      "text/plain": [
       "MinMaxScaler()"
      ]
     },
     "execution_count": 13,
     "metadata": {},
     "output_type": "execute_result"
    }
   ],
   "source": [
    "# setup scaler\n",
    "scaler = MinMaxScaler()\n",
    "\n",
    "# fit the scaler\n",
    "scaler.fit(X_train[features])"
   ]
  },
  {
   "cell_type": "code",
   "execution_count": 14,
   "metadata": {},
   "outputs": [
    {
     "data": {
      "text/plain": [
       "array([ 90. ,   4. ,   4. ,   1. ,   7. ,   1. ,   1. ,   1. ,   1. ,\n",
       "        11. ,   3. ,  69. , 117.2,  78.4, 161. ,  12. , 600. ,  19. ])"
      ]
     },
     "execution_count": 14,
     "metadata": {},
     "output_type": "execute_result"
    }
   ],
   "source": [
    "scaler.data_max_"
   ]
  },
  {
   "cell_type": "code",
   "execution_count": 15,
   "metadata": {},
   "outputs": [
    {
     "data": {
      "text/plain": [
       "array([ 0.,  0.,  0.,  0.,  0.,  0.,  0.,  0.,  0.,  0.,  0., -7.,  0.,\n",
       "        0.,  0.,  4.,  0.,  0.])"
      ]
     },
     "execution_count": 15,
     "metadata": {},
     "output_type": "execute_result"
    }
   ],
   "source": [
    "scaler.data_min_"
   ]
  },
  {
   "cell_type": "code",
   "execution_count": 16,
   "metadata": {},
   "outputs": [],
   "source": [
    "# transform the train and test set\n",
    "X_train = scaler.transform(X_train[features])\n",
    "X_test = scaler.transform(X_test[features])"
   ]
  },
  {
   "cell_type": "markdown",
   "metadata": {},
   "source": [
    "### Train the Linear Regression: Lasso"
   ]
  },
  {
   "cell_type": "code",
   "execution_count": 17,
   "metadata": {},
   "outputs": [
    {
     "data": {
      "text/plain": [
       "['lasso_regression.pkl']"
      ]
     },
     "execution_count": 17,
     "metadata": {},
     "output_type": "execute_result"
    }
   ],
   "source": [
    "# setup the model\n",
    "# remember to set the random_state/seed\n",
    "lin_model = Lasso(alpha=0.005, random_state=0)\n",
    "# train the model\n",
    "lin_model.fit(X_train, y_train)\n",
    "\n",
    "# persist the model for future use\n",
    "joblib.dump(lin_model, 'lasso_regression.pkl')"
   ]
  },
  {
   "cell_type": "code",
   "execution_count": 18,
   "metadata": {},
   "outputs": [
    {
     "name": "stdout",
     "output_type": "stream",
     "text": [
      "train mse: 0\n",
      "train rmse: 0\n",
      "train r2: 0.9281609379705237\n",
      "\n",
      "test mse: 0\n",
      "test rmse: 0\n",
      "test r2: 0.9328015241205657\n"
     ]
    }
   ],
   "source": [
    "# predict train using the model\n",
    "pred = lin_model.predict(X_train)\n",
    "# determine the mse, rmse and r2\n",
    "print('train mse: {}'.format(int(mean_squared_error(y_train, pred))))\n",
    "print('train rmse: {}'.format(int(sqrt(mean_squared_error(y_train, pred)))))\n",
    "print('train r2: {}'.format(r2_score(y_train, pred)))\n",
    "print()\n",
    "# predict test using the model\n",
    "pred = lin_model.predict(X_test)\n",
    "# determine the mse, rmse and r2\n",
    "print('test mse: {}'.format(int(mean_squared_error(y_test, pred))))\n",
    "print('test rmse: {}'.format(int(sqrt(mean_squared_error(y_test, pred)))))\n",
    "print('test r2: {}'.format(r2_score(y_test, pred)))"
   ]
  }
 ],
 "metadata": {
  "kernelspec": {
   "display_name": "Python 3",
   "language": "python",
   "name": "python3"
  },
  "language_info": {
   "codemirror_mode": {
    "name": "ipython",
    "version": 3
   },
   "file_extension": ".py",
   "mimetype": "text/x-python",
   "name": "python",
   "nbconvert_exporter": "python",
   "pygments_lexer": "ipython3",
   "version": "3.8.5"
  }
 },
 "nbformat": 4,
 "nbformat_minor": 4
}
