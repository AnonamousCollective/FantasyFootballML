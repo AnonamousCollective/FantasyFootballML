{
 "cells": [
  {
   "cell_type": "code",
   "execution_count": 1,
   "metadata": {},
   "outputs": [],
   "source": [
    "# to handle datasets\n",
    "import pandas as pd\n",
    "from pandas import DataFrame\n",
    "pd.pandas.set_option('display.max_columns',None)\n",
    "import numpy as np\n",
    "\n",
    "# divide test and train\n",
    "from sklearn.model_selection import train_test_split\n",
    "\n",
    "# feature scaling\n",
    "from sklearn.preprocessing import MinMaxScaler\n",
    "\n",
    "# to build models\n",
    "from sklearn.linear_model import Lasso\n",
    "from sklearn.feature_selection import SelectFromModel\n",
    "\n",
    "# to evaluate models\n",
    "from sklearn.metrics import mean_squared_error, r2_score\n",
    "from math import sqrt\n",
    "\n",
    "# to persist the model and scaler\n",
    "import joblib"
   ]
  },
  {
   "cell_type": "markdown",
   "metadata": {},
   "source": [
    "### Load Original Data"
   ]
  },
  {
   "cell_type": "code",
   "execution_count": 2,
   "metadata": {},
   "outputs": [
    {
     "name": "stdout",
     "output_type": "stream",
     "text": [
      "(11679, 26)\n"
     ]
    },
    {
     "data": {
      "text/html": [
       "<div>\n",
       "<style scoped>\n",
       "    .dataframe tbody tr th:only-of-type {\n",
       "        vertical-align: middle;\n",
       "    }\n",
       "\n",
       "    .dataframe tbody tr th {\n",
       "        vertical-align: top;\n",
       "    }\n",
       "\n",
       "    .dataframe thead th {\n",
       "        text-align: right;\n",
       "    }\n",
       "</style>\n",
       "<table border=\"1\" class=\"dataframe\">\n",
       "  <thead>\n",
       "    <tr style=\"text-align: right;\">\n",
       "      <th></th>\n",
       "      <th>Unnamed: 0</th>\n",
       "      <th>Unnamed: 0.1</th>\n",
       "      <th>points</th>\n",
       "      <th>minsPlayed</th>\n",
       "      <th>goalsScored</th>\n",
       "      <th>assists</th>\n",
       "      <th>cleanSheets</th>\n",
       "      <th>goalsConceded</th>\n",
       "      <th>ownGoals</th>\n",
       "      <th>penSaved</th>\n",
       "      <th>penMissed</th>\n",
       "      <th>yelCards</th>\n",
       "      <th>redCards</th>\n",
       "      <th>saves</th>\n",
       "      <th>bonus</th>\n",
       "      <th>bonusPointSystem</th>\n",
       "      <th>influence</th>\n",
       "      <th>creativity</th>\n",
       "      <th>threat</th>\n",
       "      <th>ictIndex</th>\n",
       "      <th>netTransfers</th>\n",
       "      <th>selectedBy</th>\n",
       "      <th>costGBP</th>\n",
       "      <th>gameDate</th>\n",
       "      <th>playerName</th>\n",
       "      <th>oppositionTeam</th>\n",
       "    </tr>\n",
       "  </thead>\n",
       "  <tbody>\n",
       "    <tr>\n",
       "      <th>0</th>\n",
       "      <td>0</td>\n",
       "      <td>0</td>\n",
       "      <td>0</td>\n",
       "      <td>0</td>\n",
       "      <td>0</td>\n",
       "      <td>0</td>\n",
       "      <td>0</td>\n",
       "      <td>0</td>\n",
       "      <td>0</td>\n",
       "      <td>0</td>\n",
       "      <td>0</td>\n",
       "      <td>0</td>\n",
       "      <td>0</td>\n",
       "      <td>0</td>\n",
       "      <td>0</td>\n",
       "      <td>0</td>\n",
       "      <td>0.0</td>\n",
       "      <td>0.0</td>\n",
       "      <td>0.0</td>\n",
       "      <td>0.0</td>\n",
       "      <td>0</td>\n",
       "      <td>76656</td>\n",
       "      <td>7.0</td>\n",
       "      <td>2020-09-12</td>\n",
       "      <td>('Mesut', 'Özil')</td>\n",
       "      <td>Fulham</td>\n",
       "    </tr>\n",
       "    <tr>\n",
       "      <th>1</th>\n",
       "      <td>1</td>\n",
       "      <td>8170</td>\n",
       "      <td>0</td>\n",
       "      <td>0</td>\n",
       "      <td>0</td>\n",
       "      <td>0</td>\n",
       "      <td>0</td>\n",
       "      <td>0</td>\n",
       "      <td>0</td>\n",
       "      <td>0</td>\n",
       "      <td>0</td>\n",
       "      <td>0</td>\n",
       "      <td>0</td>\n",
       "      <td>0</td>\n",
       "      <td>0</td>\n",
       "      <td>0</td>\n",
       "      <td>0.0</td>\n",
       "      <td>0.0</td>\n",
       "      <td>0.0</td>\n",
       "      <td>0.0</td>\n",
       "      <td>0</td>\n",
       "      <td>5313</td>\n",
       "      <td>4.5</td>\n",
       "      <td>2020-09-12</td>\n",
       "      <td>('Mark', 'Gillespie')</td>\n",
       "      <td>West Ham United</td>\n",
       "    </tr>\n",
       "    <tr>\n",
       "      <th>2</th>\n",
       "      <td>2</td>\n",
       "      <td>8190</td>\n",
       "      <td>0</td>\n",
       "      <td>0</td>\n",
       "      <td>0</td>\n",
       "      <td>0</td>\n",
       "      <td>0</td>\n",
       "      <td>0</td>\n",
       "      <td>0</td>\n",
       "      <td>0</td>\n",
       "      <td>0</td>\n",
       "      <td>0</td>\n",
       "      <td>0</td>\n",
       "      <td>0</td>\n",
       "      <td>0</td>\n",
       "      <td>0</td>\n",
       "      <td>0.0</td>\n",
       "      <td>0.0</td>\n",
       "      <td>0.0</td>\n",
       "      <td>0.0</td>\n",
       "      <td>0</td>\n",
       "      <td>2064</td>\n",
       "      <td>5.0</td>\n",
       "      <td>2020-09-12</td>\n",
       "      <td>('Jacob', 'Murphy')</td>\n",
       "      <td>West Ham United</td>\n",
       "    </tr>\n",
       "    <tr>\n",
       "      <th>3</th>\n",
       "      <td>3</td>\n",
       "      <td>8210</td>\n",
       "      <td>8</td>\n",
       "      <td>84</td>\n",
       "      <td>1</td>\n",
       "      <td>0</td>\n",
       "      <td>1</td>\n",
       "      <td>0</td>\n",
       "      <td>0</td>\n",
       "      <td>0</td>\n",
       "      <td>0</td>\n",
       "      <td>0</td>\n",
       "      <td>0</td>\n",
       "      <td>0</td>\n",
       "      <td>2</td>\n",
       "      <td>32</td>\n",
       "      <td>32.0</td>\n",
       "      <td>23.3</td>\n",
       "      <td>50.0</td>\n",
       "      <td>10.5</td>\n",
       "      <td>0</td>\n",
       "      <td>538610</td>\n",
       "      <td>6.5</td>\n",
       "      <td>2020-09-12</td>\n",
       "      <td>('Callum', 'Wilson')</td>\n",
       "      <td>West Ham United</td>\n",
       "    </tr>\n",
       "    <tr>\n",
       "      <th>4</th>\n",
       "      <td>4</td>\n",
       "      <td>8230</td>\n",
       "      <td>0</td>\n",
       "      <td>0</td>\n",
       "      <td>0</td>\n",
       "      <td>0</td>\n",
       "      <td>0</td>\n",
       "      <td>0</td>\n",
       "      <td>0</td>\n",
       "      <td>0</td>\n",
       "      <td>0</td>\n",
       "      <td>0</td>\n",
       "      <td>0</td>\n",
       "      <td>0</td>\n",
       "      <td>0</td>\n",
       "      <td>0</td>\n",
       "      <td>0.0</td>\n",
       "      <td>0.0</td>\n",
       "      <td>0.0</td>\n",
       "      <td>0.0</td>\n",
       "      <td>0</td>\n",
       "      <td>65008</td>\n",
       "      <td>6.0</td>\n",
       "      <td>2020-09-12</td>\n",
       "      <td>('Ryan', 'Fraser')</td>\n",
       "      <td>West Ham United</td>\n",
       "    </tr>\n",
       "  </tbody>\n",
       "</table>\n",
       "</div>"
      ],
      "text/plain": [
       "   Unnamed: 0  Unnamed: 0.1  points  minsPlayed  goalsScored  assists  \\\n",
       "0           0             0       0           0            0        0   \n",
       "1           1          8170       0           0            0        0   \n",
       "2           2          8190       0           0            0        0   \n",
       "3           3          8210       8          84            1        0   \n",
       "4           4          8230       0           0            0        0   \n",
       "\n",
       "   cleanSheets  goalsConceded  ownGoals  penSaved  penMissed  yelCards  \\\n",
       "0            0              0         0         0          0         0   \n",
       "1            0              0         0         0          0         0   \n",
       "2            0              0         0         0          0         0   \n",
       "3            1              0         0         0          0         0   \n",
       "4            0              0         0         0          0         0   \n",
       "\n",
       "   redCards  saves  bonus  bonusPointSystem  influence  creativity  threat  \\\n",
       "0         0      0      0                 0        0.0         0.0     0.0   \n",
       "1         0      0      0                 0        0.0         0.0     0.0   \n",
       "2         0      0      0                 0        0.0         0.0     0.0   \n",
       "3         0      0      2                32       32.0        23.3    50.0   \n",
       "4         0      0      0                 0        0.0         0.0     0.0   \n",
       "\n",
       "   ictIndex  netTransfers  selectedBy  costGBP    gameDate  \\\n",
       "0       0.0             0       76656      7.0  2020-09-12   \n",
       "1       0.0             0        5313      4.5  2020-09-12   \n",
       "2       0.0             0        2064      5.0  2020-09-12   \n",
       "3      10.5             0      538610      6.5  2020-09-12   \n",
       "4       0.0             0       65008      6.0  2020-09-12   \n",
       "\n",
       "              playerName   oppositionTeam  \n",
       "0      ('Mesut', 'Özil')           Fulham  \n",
       "1  ('Mark', 'Gillespie')  West Ham United  \n",
       "2    ('Jacob', 'Murphy')  West Ham United  \n",
       "3   ('Callum', 'Wilson')  West Ham United  \n",
       "4     ('Ryan', 'Fraser')  West Ham United  "
      ]
     },
     "execution_count": 2,
     "metadata": {},
     "output_type": "execute_result"
    }
   ],
   "source": [
    "# been a while now but load the original dataset\n",
    "ffmlDf = pd.read_csv('ffmlDf_20-21')\n",
    "print(ffmlDf.shape)\n",
    "ffmlDf.head()"
   ]
  },
  {
   "cell_type": "markdown",
   "metadata": {},
   "source": [
    "### Split into train and test set"
   ]
  },
  {
   "cell_type": "code",
   "execution_count": 3,
   "metadata": {},
   "outputs": [
    {
     "data": {
      "text/plain": [
       "((9343, 26), (2336, 26))"
      ]
     },
     "execution_count": 3,
     "metadata": {},
     "output_type": "execute_result"
    }
   ],
   "source": [
    "# split into train and test\n",
    "# dont forget the split used in earlier notebooks\n",
    "# dont forget to set the seed\n",
    "X_train, X_test, y_train, y_test = train_test_split(\n",
    "    ffmlDf,\n",
    "    ffmlDf['points'],\n",
    "    test_size = 0.2, # 80:20 split\n",
    "    random_state = 0 # setting the seed\n",
    ")\n",
    "\n",
    "X_train.shape, X_test.shape"
   ]
  },
  {
   "cell_type": "code",
   "execution_count": 4,
   "metadata": {},
   "outputs": [
    {
     "data": {
      "text/html": [
       "<div>\n",
       "<style scoped>\n",
       "    .dataframe tbody tr th:only-of-type {\n",
       "        vertical-align: middle;\n",
       "    }\n",
       "\n",
       "    .dataframe tbody tr th {\n",
       "        vertical-align: top;\n",
       "    }\n",
       "\n",
       "    .dataframe thead th {\n",
       "        text-align: right;\n",
       "    }\n",
       "</style>\n",
       "<table border=\"1\" class=\"dataframe\">\n",
       "  <thead>\n",
       "    <tr style=\"text-align: right;\">\n",
       "      <th></th>\n",
       "      <th>Unnamed: 0</th>\n",
       "      <th>Unnamed: 0.1</th>\n",
       "      <th>points</th>\n",
       "      <th>minsPlayed</th>\n",
       "      <th>goalsScored</th>\n",
       "      <th>assists</th>\n",
       "      <th>cleanSheets</th>\n",
       "      <th>goalsConceded</th>\n",
       "      <th>ownGoals</th>\n",
       "      <th>penSaved</th>\n",
       "      <th>penMissed</th>\n",
       "      <th>yelCards</th>\n",
       "      <th>redCards</th>\n",
       "      <th>saves</th>\n",
       "      <th>bonus</th>\n",
       "      <th>bonusPointSystem</th>\n",
       "      <th>influence</th>\n",
       "      <th>creativity</th>\n",
       "      <th>threat</th>\n",
       "      <th>ictIndex</th>\n",
       "      <th>netTransfers</th>\n",
       "      <th>selectedBy</th>\n",
       "      <th>costGBP</th>\n",
       "      <th>gameDate</th>\n",
       "      <th>playerName</th>\n",
       "      <th>oppositionTeam</th>\n",
       "    </tr>\n",
       "  </thead>\n",
       "  <tbody>\n",
       "    <tr>\n",
       "      <th>9827</th>\n",
       "      <td>9827</td>\n",
       "      <td>11635</td>\n",
       "      <td>0</td>\n",
       "      <td>0</td>\n",
       "      <td>0</td>\n",
       "      <td>0</td>\n",
       "      <td>0</td>\n",
       "      <td>0</td>\n",
       "      <td>0</td>\n",
       "      <td>0</td>\n",
       "      <td>0</td>\n",
       "      <td>0</td>\n",
       "      <td>0</td>\n",
       "      <td>0</td>\n",
       "      <td>0</td>\n",
       "      <td>0</td>\n",
       "      <td>0.0</td>\n",
       "      <td>0.0</td>\n",
       "      <td>0.0</td>\n",
       "      <td>0.0</td>\n",
       "      <td>0</td>\n",
       "      <td>0</td>\n",
       "      <td>4.5</td>\n",
       "      <td>2021-01-12</td>\n",
       "      <td>('Owen', 'Otasowie')</td>\n",
       "      <td>Everton</td>\n",
       "    </tr>\n",
       "    <tr>\n",
       "      <th>10422</th>\n",
       "      <td>10422</td>\n",
       "      <td>3512</td>\n",
       "      <td>0</td>\n",
       "      <td>0</td>\n",
       "      <td>0</td>\n",
       "      <td>0</td>\n",
       "      <td>0</td>\n",
       "      <td>0</td>\n",
       "      <td>0</td>\n",
       "      <td>0</td>\n",
       "      <td>0</td>\n",
       "      <td>0</td>\n",
       "      <td>0</td>\n",
       "      <td>0</td>\n",
       "      <td>0</td>\n",
       "      <td>0</td>\n",
       "      <td>0.0</td>\n",
       "      <td>0.0</td>\n",
       "      <td>0.0</td>\n",
       "      <td>0.0</td>\n",
       "      <td>0</td>\n",
       "      <td>0</td>\n",
       "      <td>4.0</td>\n",
       "      <td>2021-01-17</td>\n",
       "      <td>('Stephen', 'Henderson')</td>\n",
       "      <td>Manchester City</td>\n",
       "    </tr>\n",
       "    <tr>\n",
       "      <th>3986</th>\n",
       "      <td>3986</td>\n",
       "      <td>4156</td>\n",
       "      <td>0</td>\n",
       "      <td>0</td>\n",
       "      <td>0</td>\n",
       "      <td>0</td>\n",
       "      <td>0</td>\n",
       "      <td>0</td>\n",
       "      <td>0</td>\n",
       "      <td>0</td>\n",
       "      <td>0</td>\n",
       "      <td>0</td>\n",
       "      <td>0</td>\n",
       "      <td>0</td>\n",
       "      <td>0</td>\n",
       "      <td>16</td>\n",
       "      <td>16.4</td>\n",
       "      <td>0.8</td>\n",
       "      <td>0.0</td>\n",
       "      <td>1.7</td>\n",
       "      <td>0</td>\n",
       "      <td>10082</td>\n",
       "      <td>4.5</td>\n",
       "      <td>2020-11-07</td>\n",
       "      <td>('Tim', 'Ream')</td>\n",
       "      <td>West Ham United</td>\n",
       "    </tr>\n",
       "    <tr>\n",
       "      <th>2531</th>\n",
       "      <td>2531</td>\n",
       "      <td>4686</td>\n",
       "      <td>3</td>\n",
       "      <td>90</td>\n",
       "      <td>0</td>\n",
       "      <td>0</td>\n",
       "      <td>0</td>\n",
       "      <td>1</td>\n",
       "      <td>0</td>\n",
       "      <td>0</td>\n",
       "      <td>0</td>\n",
       "      <td>0</td>\n",
       "      <td>0</td>\n",
       "      <td>3</td>\n",
       "      <td>0</td>\n",
       "      <td>21</td>\n",
       "      <td>12.2</td>\n",
       "      <td>0.0</td>\n",
       "      <td>0.0</td>\n",
       "      <td>1.2</td>\n",
       "      <td>0</td>\n",
       "      <td>828679</td>\n",
       "      <td>5.5</td>\n",
       "      <td>2020-10-18</td>\n",
       "      <td>('Kasper', 'Schmeichel')</td>\n",
       "      <td>Aston Villa</td>\n",
       "    </tr>\n",
       "    <tr>\n",
       "      <th>1315</th>\n",
       "      <td>1315</td>\n",
       "      <td>9734</td>\n",
       "      <td>3</td>\n",
       "      <td>76</td>\n",
       "      <td>0</td>\n",
       "      <td>0</td>\n",
       "      <td>1</td>\n",
       "      <td>0</td>\n",
       "      <td>0</td>\n",
       "      <td>0</td>\n",
       "      <td>0</td>\n",
       "      <td>0</td>\n",
       "      <td>0</td>\n",
       "      <td>0</td>\n",
       "      <td>0</td>\n",
       "      <td>0</td>\n",
       "      <td>0.0</td>\n",
       "      <td>0.0</td>\n",
       "      <td>0.0</td>\n",
       "      <td>0.0</td>\n",
       "      <td>0</td>\n",
       "      <td>55175</td>\n",
       "      <td>7.0</td>\n",
       "      <td>2020-09-27</td>\n",
       "      <td>('Giovani', 'Lo Celso')</td>\n",
       "      <td>Newcastle United</td>\n",
       "    </tr>\n",
       "  </tbody>\n",
       "</table>\n",
       "</div>"
      ],
      "text/plain": [
       "       Unnamed: 0  Unnamed: 0.1  points  minsPlayed  goalsScored  assists  \\\n",
       "9827         9827         11635       0           0            0        0   \n",
       "10422       10422          3512       0           0            0        0   \n",
       "3986         3986          4156       0           0            0        0   \n",
       "2531         2531          4686       3          90            0        0   \n",
       "1315         1315          9734       3          76            0        0   \n",
       "\n",
       "       cleanSheets  goalsConceded  ownGoals  penSaved  penMissed  yelCards  \\\n",
       "9827             0              0         0         0          0         0   \n",
       "10422            0              0         0         0          0         0   \n",
       "3986             0              0         0         0          0         0   \n",
       "2531             0              1         0         0          0         0   \n",
       "1315             1              0         0         0          0         0   \n",
       "\n",
       "       redCards  saves  bonus  bonusPointSystem  influence  creativity  \\\n",
       "9827          0      0      0                 0        0.0         0.0   \n",
       "10422         0      0      0                 0        0.0         0.0   \n",
       "3986          0      0      0                16       16.4         0.8   \n",
       "2531          0      3      0                21       12.2         0.0   \n",
       "1315          0      0      0                 0        0.0         0.0   \n",
       "\n",
       "       threat  ictIndex  netTransfers  selectedBy  costGBP    gameDate  \\\n",
       "9827      0.0       0.0             0           0      4.5  2021-01-12   \n",
       "10422     0.0       0.0             0           0      4.0  2021-01-17   \n",
       "3986      0.0       1.7             0       10082      4.5  2020-11-07   \n",
       "2531      0.0       1.2             0      828679      5.5  2020-10-18   \n",
       "1315      0.0       0.0             0       55175      7.0  2020-09-27   \n",
       "\n",
       "                     playerName    oppositionTeam  \n",
       "9827       ('Owen', 'Otasowie')           Everton  \n",
       "10422  ('Stephen', 'Henderson')   Manchester City  \n",
       "3986            ('Tim', 'Ream')   West Ham United  \n",
       "2531   ('Kasper', 'Schmeichel')       Aston Villa  \n",
       "1315    ('Giovani', 'Lo Celso')  Newcastle United  "
      ]
     },
     "execution_count": 4,
     "metadata": {},
     "output_type": "execute_result"
    }
   ],
   "source": [
    "X_train.head()"
   ]
  },
  {
   "cell_type": "markdown",
   "metadata": {},
   "source": [
    "### Load the selected Features"
   ]
  },
  {
   "cell_type": "code",
   "execution_count": 5,
   "metadata": {},
   "outputs": [
    {
     "name": "stdout",
     "output_type": "stream",
     "text": [
      "Number of feature selected: 17\n"
     ]
    }
   ],
   "source": [
    "features = pd.read_csv('selected_features.csv')\n",
    "# convert to list\n",
    "features = features['0'].to_list()\n",
    "\n",
    "print('Number of feature selected:',len(features))"
   ]
  },
  {
   "cell_type": "markdown",
   "metadata": {},
   "source": [
    "### Engineer Missing Values"
   ]
  },
  {
   "cell_type": "code",
   "execution_count": 6,
   "metadata": {},
   "outputs": [
    {
     "data": {
      "text/plain": [
       "[]"
      ]
     },
     "execution_count": 6,
     "metadata": {},
     "output_type": "execute_result"
    }
   ],
   "source": [
    "[\n",
    "    var for var in features\n",
    "    if ffmlDf[var].isnull().sum() > 0\n",
    "]"
   ]
  },
  {
   "cell_type": "markdown",
   "metadata": {},
   "source": [
    "1. No missing values to engineer\n",
    "2. No need to transform variables\n",
    "3. Temporal variables dropped rather than engineered"
   ]
  },
  {
   "cell_type": "markdown",
   "metadata": {},
   "source": [
    "### Rare Labels"
   ]
  },
  {
   "cell_type": "code",
   "execution_count": 7,
   "metadata": {
    "scrolled": true
   },
   "outputs": [
    {
     "name": "stdout",
     "output_type": "stream",
     "text": [
      "['playerName', 'oppositionTeam']\n",
      "playerName\n",
      "Index(['(\"N'Golo\", 'Kanté')', '('Aaron', 'Connolly')',\n",
      "       '('Aaron', 'Cresswell')', '('Aaron', 'Mooy')', '('Aaron', 'Ramsdale')',\n",
      "       '('Aaron', 'Wan-Bissaka')', '('Abdoulaye', 'Doucouré')',\n",
      "       '('Aboubakar', 'Kamara')', '('Adam', 'Forshaw')', '('Adam', 'Lallana')',\n",
      "       ...\n",
      "       '('Xherdan', 'Shaqiri')', '('Yan', 'Valery')', '('Yerry', 'Mina')',\n",
      "       '('Yoshinori', 'Muto')', '('Youri', 'Tielemans')',\n",
      "       '('Yves', 'Bissouma')', '('Zack', 'Steffen')',\n",
      "       '('Zeze Steven', 'Sessegnon')', '('Çaglar', 'Söyüncü')',\n",
      "       '('Ørjan', 'Nyland')'],\n",
      "      dtype='object', name='playerName', length=601)\n",
      "\n",
      "oppositionTeam\n",
      "Index(['Arsenal', 'Aston Villa', 'Brighton and Hove Albion', 'Burnley',\n",
      "       'Chelsea', 'Crystal Palace', 'Everton', 'Fulham', 'Leeds',\n",
      "       'Leicester City', 'Liverpool', 'Manchester City', 'Manchester United',\n",
      "       'Newcastle United', 'Sheffield United', 'Southampton',\n",
      "       'Tottenham Hotspur', 'West Bromwich Albion', 'West Ham United',\n",
      "       'Wolverhampton Wanderers'],\n",
      "      dtype='object', name='oppositionTeam')\n",
      "\n"
     ]
    },
    {
     "name": "stderr",
     "output_type": "stream",
     "text": [
      "<ipython-input-7-c47aba2d3765>:22: SettingWithCopyWarning: \n",
      "A value is trying to be set on a copy of a slice from a DataFrame.\n",
      "Try using .loc[row_indexer,col_indexer] = value instead\n",
      "\n",
      "See the caveats in the documentation: https://pandas.pydata.org/pandas-docs/stable/user_guide/indexing.html#returning-a-view-versus-a-copy\n",
      "  X_train[var] = np.where(X_train[var].isin(frequent_list), X_train[var], 'Rare')\n",
      "<ipython-input-7-c47aba2d3765>:23: SettingWithCopyWarning: \n",
      "A value is trying to be set on a copy of a slice from a DataFrame.\n",
      "Try using .loc[row_indexer,col_indexer] = value instead\n",
      "\n",
      "See the caveats in the documentation: https://pandas.pydata.org/pandas-docs/stable/user_guide/indexing.html#returning-a-view-versus-a-copy\n",
      "  X_test[var] = np.where(X_test[var].isin(frequent_list), X_test[var], 'Rare')\n",
      "<ipython-input-7-c47aba2d3765>:22: SettingWithCopyWarning: \n",
      "A value is trying to be set on a copy of a slice from a DataFrame.\n",
      "Try using .loc[row_indexer,col_indexer] = value instead\n",
      "\n",
      "See the caveats in the documentation: https://pandas.pydata.org/pandas-docs/stable/user_guide/indexing.html#returning-a-view-versus-a-copy\n",
      "  X_train[var] = np.where(X_train[var].isin(frequent_list), X_train[var], 'Rare')\n",
      "<ipython-input-7-c47aba2d3765>:23: SettingWithCopyWarning: \n",
      "A value is trying to be set on a copy of a slice from a DataFrame.\n",
      "Try using .loc[row_indexer,col_indexer] = value instead\n",
      "\n",
      "See the caveats in the documentation: https://pandas.pydata.org/pandas-docs/stable/user_guide/indexing.html#returning-a-view-versus-a-copy\n",
      "  X_test[var] = np.where(X_test[var].isin(frequent_list), X_test[var], 'Rare')\n"
     ]
    }
   ],
   "source": [
    "# brought forward from notebook 3\n",
    "cat_vars = [\n",
    "    var for var in features\n",
    "    if ffmlDf[var].dtype == 'O'\n",
    "]\n",
    "print(cat_vars)\n",
    "\n",
    "def FindFrequentLabels(df, var, rare_perc):\n",
    "    df = df.copy()\n",
    "    tmp = df.groupby(var)['points'].count() / len(df)\n",
    "    return tmp[tmp > rare_perc].index\n",
    "\n",
    "# Rare Labels Romoved and Replaced!!!\n",
    "\n",
    "for var in cat_vars:\n",
    "    frequent_list = FindFrequentLabels(ffmlDf, var, 0.001)\n",
    "    # i want values of 0.001 so im being a little lenient i feel\n",
    "    print(var)\n",
    "    print(frequent_list)\n",
    "    print()\n",
    "    \n",
    "    X_train[var] = np.where(X_train[var].isin(frequent_list), X_train[var], 'Rare')\n",
    "    X_test[var] = np.where(X_test[var].isin(frequent_list), X_test[var], 'Rare')"
   ]
  },
  {
   "cell_type": "code",
   "execution_count": 8,
   "metadata": {},
   "outputs": [
    {
     "data": {
      "text/html": [
       "<div>\n",
       "<style scoped>\n",
       "    .dataframe tbody tr th:only-of-type {\n",
       "        vertical-align: middle;\n",
       "    }\n",
       "\n",
       "    .dataframe tbody tr th {\n",
       "        vertical-align: top;\n",
       "    }\n",
       "\n",
       "    .dataframe thead th {\n",
       "        text-align: right;\n",
       "    }\n",
       "</style>\n",
       "<table border=\"1\" class=\"dataframe\">\n",
       "  <thead>\n",
       "    <tr style=\"text-align: right;\">\n",
       "      <th></th>\n",
       "      <th>minsPlayed</th>\n",
       "      <th>goalsScored</th>\n",
       "      <th>assists</th>\n",
       "      <th>cleanSheets</th>\n",
       "      <th>goalsConceded</th>\n",
       "      <th>ownGoals</th>\n",
       "      <th>penSaved</th>\n",
       "      <th>yelCards</th>\n",
       "      <th>redCards</th>\n",
       "      <th>saves</th>\n",
       "      <th>bonus</th>\n",
       "      <th>influence</th>\n",
       "      <th>creativity</th>\n",
       "      <th>threat</th>\n",
       "      <th>costGBP</th>\n",
       "      <th>playerName</th>\n",
       "      <th>oppositionTeam</th>\n",
       "    </tr>\n",
       "  </thead>\n",
       "  <tbody>\n",
       "    <tr>\n",
       "      <th>9827</th>\n",
       "      <td>0</td>\n",
       "      <td>0</td>\n",
       "      <td>0</td>\n",
       "      <td>0</td>\n",
       "      <td>0</td>\n",
       "      <td>0</td>\n",
       "      <td>0</td>\n",
       "      <td>0</td>\n",
       "      <td>0</td>\n",
       "      <td>0</td>\n",
       "      <td>0</td>\n",
       "      <td>0.0</td>\n",
       "      <td>0.0</td>\n",
       "      <td>0.0</td>\n",
       "      <td>4.5</td>\n",
       "      <td>('Owen', 'Otasowie')</td>\n",
       "      <td>Everton</td>\n",
       "    </tr>\n",
       "    <tr>\n",
       "      <th>10422</th>\n",
       "      <td>0</td>\n",
       "      <td>0</td>\n",
       "      <td>0</td>\n",
       "      <td>0</td>\n",
       "      <td>0</td>\n",
       "      <td>0</td>\n",
       "      <td>0</td>\n",
       "      <td>0</td>\n",
       "      <td>0</td>\n",
       "      <td>0</td>\n",
       "      <td>0</td>\n",
       "      <td>0.0</td>\n",
       "      <td>0.0</td>\n",
       "      <td>0.0</td>\n",
       "      <td>4.0</td>\n",
       "      <td>('Stephen', 'Henderson')</td>\n",
       "      <td>Manchester City</td>\n",
       "    </tr>\n",
       "    <tr>\n",
       "      <th>3986</th>\n",
       "      <td>0</td>\n",
       "      <td>0</td>\n",
       "      <td>0</td>\n",
       "      <td>0</td>\n",
       "      <td>0</td>\n",
       "      <td>0</td>\n",
       "      <td>0</td>\n",
       "      <td>0</td>\n",
       "      <td>0</td>\n",
       "      <td>0</td>\n",
       "      <td>0</td>\n",
       "      <td>16.4</td>\n",
       "      <td>0.8</td>\n",
       "      <td>0.0</td>\n",
       "      <td>4.5</td>\n",
       "      <td>('Tim', 'Ream')</td>\n",
       "      <td>West Ham United</td>\n",
       "    </tr>\n",
       "    <tr>\n",
       "      <th>2531</th>\n",
       "      <td>90</td>\n",
       "      <td>0</td>\n",
       "      <td>0</td>\n",
       "      <td>0</td>\n",
       "      <td>1</td>\n",
       "      <td>0</td>\n",
       "      <td>0</td>\n",
       "      <td>0</td>\n",
       "      <td>0</td>\n",
       "      <td>3</td>\n",
       "      <td>0</td>\n",
       "      <td>12.2</td>\n",
       "      <td>0.0</td>\n",
       "      <td>0.0</td>\n",
       "      <td>5.5</td>\n",
       "      <td>('Kasper', 'Schmeichel')</td>\n",
       "      <td>Aston Villa</td>\n",
       "    </tr>\n",
       "    <tr>\n",
       "      <th>1315</th>\n",
       "      <td>76</td>\n",
       "      <td>0</td>\n",
       "      <td>0</td>\n",
       "      <td>1</td>\n",
       "      <td>0</td>\n",
       "      <td>0</td>\n",
       "      <td>0</td>\n",
       "      <td>0</td>\n",
       "      <td>0</td>\n",
       "      <td>0</td>\n",
       "      <td>0</td>\n",
       "      <td>0.0</td>\n",
       "      <td>0.0</td>\n",
       "      <td>0.0</td>\n",
       "      <td>7.0</td>\n",
       "      <td>('Giovani', 'Lo Celso')</td>\n",
       "      <td>Newcastle United</td>\n",
       "    </tr>\n",
       "  </tbody>\n",
       "</table>\n",
       "</div>"
      ],
      "text/plain": [
       "       minsPlayed  goalsScored  assists  cleanSheets  goalsConceded  ownGoals  \\\n",
       "9827            0            0        0            0              0         0   \n",
       "10422           0            0        0            0              0         0   \n",
       "3986            0            0        0            0              0         0   \n",
       "2531           90            0        0            0              1         0   \n",
       "1315           76            0        0            1              0         0   \n",
       "\n",
       "       penSaved  yelCards  redCards  saves  bonus  influence  creativity  \\\n",
       "9827          0         0         0      0      0        0.0         0.0   \n",
       "10422         0         0         0      0      0        0.0         0.0   \n",
       "3986          0         0         0      0      0       16.4         0.8   \n",
       "2531          0         0         0      3      0       12.2         0.0   \n",
       "1315          0         0         0      0      0        0.0         0.0   \n",
       "\n",
       "       threat  costGBP                playerName    oppositionTeam  \n",
       "9827      0.0      4.5      ('Owen', 'Otasowie')           Everton  \n",
       "10422     0.0      4.0  ('Stephen', 'Henderson')   Manchester City  \n",
       "3986      0.0      4.5           ('Tim', 'Ream')   West Ham United  \n",
       "2531      0.0      5.5  ('Kasper', 'Schmeichel')       Aston Villa  \n",
       "1315      0.0      7.0   ('Giovani', 'Lo Celso')  Newcastle United  "
      ]
     },
     "execution_count": 8,
     "metadata": {},
     "output_type": "execute_result"
    }
   ],
   "source": [
    "X_train[features].head()"
   ]
  },
  {
   "cell_type": "markdown",
   "metadata": {},
   "source": [
    "### Encoding Categorical Variables"
   ]
  },
  {
   "cell_type": "code",
   "execution_count": 9,
   "metadata": {
    "scrolled": true
   },
   "outputs": [
    {
     "name": "stdout",
     "output_type": "stream",
     "text": [
      "playerName\n",
      "{\"('Neil', 'Taylor')\": 0, \"('Rúnar Alex', 'Rúnarsson')\": 1, \"('Jed', 'Steer')\": 2, \"('Chris', 'Smalling')\": 3, \"('Jean-Philippe', 'Gbamin')\": 4, \"('Christian', 'Atsu')\": 5, \"('Jean Michaël', 'Seri')\": 6, \"('Jay-Roy', 'Grot')\": 7, \"('Christian', 'Walton')\": 8, \"('Jason', 'Steele')\": 9, \"('Claudio', 'Bravo')\": 10, \"('Cole', 'Palmer')\": 11, \"('Connor', 'Wickham')\": 12, \"('Terence', 'Kongolo')\": 13, \"('Teden', 'Mengi')\": 14, \"('Jarrad', 'Branthwaite')\": 15, \"('Japhet', 'Tanganga')\": 16, \"('Jesse', 'Lingard')\": 17, \"('Joe', 'Hart')\": 18, \"('Rekeem', 'Harper')\": 19, \"('John', 'Ruddy')\": 20, \"('Brandon', 'Pierrick')\": 21, \"('Ellis', 'Simms')\": 22, \"('Jordan', 'Stevens')\": 23, \"('Bruno André', 'Cavaco Jordao')\": 24, \"('Tom', 'Heaton')\": 25, \"('Phil', 'Jones')\": 26, \"('Jordan', 'Hugill')\": 27, \"('Ørjan', 'Nyland')\": 28, \"('Timothy', 'Fosu-Mensah')\": 29, \"('Calum', 'Chambers')\": 30, \"('Cameron', 'Carter-Vickers')\": 31, \"('Jonathan', 'Leko')\": 32, \"('Jonathan', 'Castro Otto')\": 33, \"('Cedric', 'Kipre')\": 34, \"('Jonas', 'Lössl')\": 35, \"('Roberto', 'Jimenez Gago')\": 36, \"('James', 'Trafford')\": 37, \"('Cyrus', 'Christie')\": 38, \"('Rolando', 'Aarons')\": 39, \"('Stefan', 'Johansen')\": 40, \"('Glenn', 'Murray')\": 41, \"('Gedson', 'Carvalho Fernandes')\": 42, \"('Frédéric', 'Guilbert')\": 43, \"('Florin', 'Andone')\": 44, \"('Florian', 'Lejeune')\": 45, \"('Sokratis', 'Papastathopoulos')\": 46, \"('Filip', 'Benkovic')\": 47, \"('Sofiane', 'Boufal')\": 48, \"('Fikayo', 'Tomori')\": 49, \"('Facundo', 'Pellistri')\": 50, \"('Simon', 'Moore')\": 51, \"('Fabricio', 'Agosto Ramírez')\": 52, \"('Sergio', 'Romero')\": 53, \"('Shane', 'Duffy')\": 54, \"('Sam', 'Woods')\": 55, \"('Bobby', 'Thomas')\": 56, \"('Harry', 'Wilson')\": 57, \"('Stephen', 'Henderson')\": 58, \"('James', 'Garner')\": 59, \"('James', 'Bree')\": 60, \"('Jack', 'Wilshere')\": 61, \"('Jack', 'Jenkins')\": 62, \"('Ryan', 'Bennett')\": 63, \"('Jack', 'Cork')\": 64, \"('Tahith', 'Chong')\": 65, \"('Danny', 'Rose')\": 66, \"('Danny', 'Ward')\": 67, \"('Jack', 'Butland')\": 68, \"('Indiana', 'Vassilev')\": 69, \"('Ryan', 'Inniss')\": 70, \"('Ryan', 'Sessegnon')\": 71, \"('David', 'Martin')\": 72, \"('Henri', 'Lansbury')\": 73, \"('Harvey', 'Elliott')\": 74, \"('Tommy', 'Doyle')\": 75, \"('Elia', 'Caprile')\": 76, \"('Josh', 'Sims')\": 77, \"('Matteo', 'Guendouzi')\": 78, \"('Matt', 'Macey')\": 79, \"('Matija', 'Sarkic')\": 80, \"('Alfie', 'Mawson')\": 81, \"('Mateusz', 'Bogusz')\": 82, \"('Martín', 'Montoya')\": 83, \"('Matthew', 'Clarke')\": 84, \"('Martin', 'Kelly')\": 85, \"('Mark', 'Gillespie')\": 86, \"('Andreas', 'Pereira')\": 87, \"('Bjorn', 'Engels')\": 88, \"('Oliver', 'Casey')\": 89, \"('Will', 'Norris')\": 90, \"('Marcus', 'Bettinelli')\": 91, \"('Martin', 'Dubravka')\": 92, \"('Matty', 'James')\": 93, \"('Max', 'Meyer')\": 94, \"('Albian', 'Ajeti')\": 95, \"('Nathan', 'Ferguson')\": 96, \"('Aaron', 'Mooy')\": 97, \"('Zeze Steven', 'Sessegnon')\": 98, \"('Mohammed', 'Salisu')\": 99, \"('Michael', 'Verrips')\": 100, \"('Adam', 'Forshaw')\": 101, \"('Nicolás', 'Otamendi')\": 102, \"('Michael', 'Hector')\": 103, \"('Mesut', 'Özil')\": 104, \"('Yoshinori', 'Muto')\": 105, \"('Adrien', 'Silva')\": 106, \"('Adrián', 'Bernabé')\": 107, \"('Meritan', 'Shabani')\": 108, \"('Mbwana', 'Samatta')\": 109, \"('Max', 'Thompson')\": 110, \"('Marcos', 'Rojo')\": 111, \"('Mace', 'Goodridge')\": 112, \"('William', 'Saliba')\": 113, \"('Angus', 'Gunn')\": 114, \"('Konstantinos', 'Tsimikas')\": 115, \"('Barry', 'Douglas')\": 116, \"('Kevin', 'McDonald')\": 117, \"('Ben', 'Gibson')\": 118, \"('Kenneth', 'Zohore')\": 119, \"('Kelland', 'Watts')\": 120, \"('Wayne', 'Hennessey')\": 121, \"('Wesley', 'Moraes')\": 122, \"('Kayne', 'Ramsay')\": 123, \"('Kamil', 'Miazek')\": 124, \"('Paulo', 'Gazzaniga')\": 125, \"('Juan', 'Foyth')\": 126, \"('João', 'Virgínia')\": 127, \"('José', 'Izquierdo')\": 128, \"('José Ignacio', 'Peleteiro Romallo')\": 129, \"('José Diogo', 'Dalot Teixeira')\": 130, \"('Karlo', 'Ziger')\": 131, \"('Lee', 'Peltier')\": 132, \"('Bailey', 'Peacock-Farrell')\": 133, \"('Lucas', 'Torreira')\": 134, \"('Anthony', 'Driscoll-Glennon')\": 135, \"('Luke', 'Freeman')\": 136, \"('Léo', 'Bonatini')\": 137, \"('Leighton', 'Clarkson')\": 138, \"('Wes', 'Foderingham')\": 139, \"('Anthony', 'Knockaert')\": 140, \"('Oliver', 'Skipp')\": 141, \"('Lewis', 'Richardson')\": 142, \"('Leonardo', 'Campana')\": 143, \"('Demarai', 'Gray')\": 144, \"('Dean', 'Henderson')\": 145, \"('Ricardo Domingos', 'Barbosa Pereira')\": 146, \"('Daniel', 'Amartey')\": 147, \"('Oskar', 'Buur')\": 148, \"('Liam', 'Delap')\": 149, \"('Maxime', 'Le Marchand')\": 150, \"('Jake', 'Vokins')\": 151, \"('Phil', 'Bardsley')\": 152, \"('Michael', 'Obafemi')\": 153, \"('Jayson', 'Molumby')\": 154, \"('Willy', 'Caballero')\": 155, \"('Odion', 'Ighalo')\": 156, \"('Islam', 'Slimani')\": 157, \"('Rúben Gonçalo', 'Silva Nascimento Vinagre')\": 158, \"('Marek', 'Rodák')\": 159, \"('Brandon', 'Williams')\": 160, 'Rare': 161, \"('Denis', 'Odoi')\": 162, \"('Diego', 'Llorente')\": 163, \"('Ki-Jana', 'Hoever')\": 164, \"('Jayden', 'Bogle')\": 165, \"('Niels', 'Nkounkou')\": 166, \"('Sam', 'Field')\": 167, \"('Shkodran', 'Mustafi')\": 168, \"('Reiss', 'Nelson')\": 169, '(\\'Jack\\', \"O\\'Connell\")': 170, \"('Leif', 'Davis')\": 171, \"('Wes', 'Morgan')\": 172, \"('Felipe Anderson', 'Pereira Gomes')\": 173, \"('Marcos', 'Alonso')\": 174, \"('Billy', 'Gilmour')\": 175, \"('Kieran', 'Gibbs')\": 176, \"('Francisco', 'Casilla Cortés')\": 177, \"('Issa', 'Diop')\": 178, \"('Adrián', 'San Miguel del Castillo')\": 179, \"('Phil', 'Jagielka')\": 180, \"('Sead', 'Kolasinac')\": 181, \"('Hamza', 'Choudhury')\": 182, \"('Yan', 'Valery')\": 183, \"('Zack', 'Steffen')\": 184, \"('Andi', 'Zeqiri')\": 185, \"('Moise', 'Kean')\": 186, \"('Axel', 'Tuanzebe')\": 187, \"('Mamadou', 'Sakho')\": 188, \"('Anthony', 'Gordon')\": 189, \"('David', 'Button')\": 190, \"('Paul', 'Dummett')\": 191, \"('Charlie', 'Austin')\": 192, \"('Eric', 'Garcia')\": 193, \"('Morgan', 'Gibbs-White')\": 194, \"('Bernardo', 'Fernandes da Silva Junior')\": 195, \"('Andreas', 'Christensen')\": 196, \"('Divock', 'Origi')\": 197, \"('Jonjoe', 'Kenny')\": 198, \"('Rhys', 'Williams')\": 199, \"('Luke', 'Thomas')\": 200, \"('Conor', 'Hourihane')\": 201, \"('Gabriel Teodoro', 'Martinelli Silva')\": 202, \"('Bamidele', 'Alli')\": 203, \"('Robert', 'Snodgrass')\": 204, \"('Keinan', 'Davis')\": 205, \"('Kevin', 'Long')\": 206, \"('Aboubakar', 'Kamara')\": 207, \"('Jacob', 'Ramsey')\": 208, \"('Gary', 'Cahill')\": 209, \"('Davy', 'Pröpper')\": 210, \"('Cenk', 'Tosun')\": 211, \"('Tim', 'Ream')\": 212, \"('Kenny', 'Tete')\": 213, \"('Sergio', 'Agüero')\": 214, \"('Nathan', 'Tella')\": 215, \"('Joseph', 'Willock')\": 216, \"('Josh', 'Onomah')\": 217, \"('Kyle', 'Edwards')\": 218, \"('William', 'Smallbone')\": 219, \"('Darren', 'Randolph')\": 220, \"('Neeskens', 'Kebano')\": 221, \"('Max', 'Lowe')\": 222, \"('Carlos Vinicius', 'Alves Morais')\": 223, \"('Hal', 'Robson-Kanu')\": 224, \"('Jack', 'Robinson')\": 225, \"('Emil', 'Krafth')\": 226, \"('Fabian', 'Delph')\": 227, \"('Fraser', 'Forster')\": 228, \"('Dale', 'Stephens')\": 229, \"('Kepa', 'Arrizabalaga')\": 230, \"('Alex', 'Oxlade-Chamberlain')\": 231, \"('Emerson', 'Palmieri dos Santos')\": 232, \"('Neco', 'Williams')\": 233, \"('Ahmed El-Sayed', 'Hegazy')\": 234, \"('Kamil', 'Grosicki')\": 235, \"('James', 'McCarthy')\": 236, \"('Harry', 'Winks')\": 237, \"('Caoimhin', 'Kelleher')\": 238, \"('Joseph', 'Gomez')\": 239, \"('Marvelous', 'Nakamba')\": 240, \"('Robin', 'Olsen')\": 241, \"('Tyler', 'Roberts')\": 242, \"('Virgil', 'van Dijk')\": 243, \"('Pablo', 'Marí')\": 244, \"('Lys', 'Mousset')\": 245, \"('Erik', 'Lamela')\": 246, \"('Naby', 'Keita')\": 247, \"('Owen', 'Otasowie')\": 248, \"('Ben', 'Johnson')\": 249, \"('Josh', 'Benson')\": 250, \"('Shane', 'Long')\": 251, \"('Matthew', 'Longstaff')\": 252, \"('Çaglar', 'Söyüncü')\": 253, \"('Kelechi', 'Iheanacho')\": 254, \"('Jimmy', 'Dunne')\": 255, \"('Thiago', 'Alcántara do Nascimento')\": 256, \"('Matej', 'Vydra')\": 257, \"('Xherdan', 'Shaqiri')\": 258, \"('Steven', 'Alzate')\": 259, '(\\'Dara\\', \"O\\'Shea\")': 260, \"('Ian Carlo', 'Poveda-Ocampo')\": 261, \"('Matt', 'Ritchie')\": 262, \"('Joe', 'Bryan')\": 263, \"('Mark', 'Noble')\": 264, \"('Alireza', 'Jahanbakhsh')\": 265, '(\\'Daniel\\', \"N\\'Lundulu\")': 266, \"('Jamie', 'Shackleton')\": 267, \"('Davinson', 'Sánchez')\": 268, \"('Daniel', 'James')\": 269, \"('Mario', 'Lemina')\": 270, \"('Aymeric', 'Laporte')\": 271, \"('Eric', 'Bailly')\": 272, \"('Nathaniel', 'Phillips')\": 273, \"('Dwight', 'Gayle')\": 274, \"('Vitor', 'Ferreira')\": 275, \"('Ryan', 'Fredericks')\": 276, \"('Ryan', 'Fraser')\": 277, \"('John', 'Lundstram')\": 278, \"('Christian', 'Fuchs')\": 279, \"('John', 'Egan')\": 280, \"('Cengiz', 'Ünder')\": 281, \"('Fabian', 'Schär')\": 282, \"('Johann Berg', 'Gudmundsson')\": 283, \"('Bernard', 'Anício Caldeira Duarte')\": 284, \"('Ibrahima', 'Diallo')\": 285, \"('Ahmed', 'El Mohamady')\": 286, \"('Andriy', 'Yarmolenko')\": 287, \"('Rhian', 'Brewster')\": 288, \"('Thomas', 'Partey')\": 289, \"('Donny', 'van de Beek')\": 290, \"('Conor', 'Townsend')\": 291, \"('Cédric', 'Soares')\": 292, \"('DeAndre', 'Yedlin')\": 293, \"('James', 'Tomkins')\": 294, \"('Enda', 'Stevens')\": 295, \"('Gareth', 'Bale')\": 296, \"('Oliver', 'Norwood')\": 297, \"('Manuel', 'Lanzini')\": 298, \"('Javier', 'Manquillo')\": 299, \"('Fernando', 'Marçal')\": 300, \"('Joe', 'Rodon')\": 301, \"('Sander', 'Berge')\": 302, \"('Luka', 'Milivojevic')\": 303, \"('Fernando', 'Luiz Rosa')\": 304, \"('Mason', 'Holgate')\": 305, \"('Jake', 'Livermore')\": 306, \"('Nemanja', 'Matic')\": 307, \"('Billy', 'Sharp')\": 308, \"('Oliver', 'Burke')\": 309, \"('Aleksandar', 'Mitrović')\": 310, \"('Branislav', 'Ivanovic')\": 311, \"('Callum', 'Hudson-Odoi')\": 312, \"('Takumi', 'Minamino')\": 313, \"('Antonio', 'Rüdiger')\": 314, \"('Pablo', 'Hernández Domínguez')\": 315, \"('Sean', 'Longstaff')\": 316, \"('Ben', 'Osborn')\": 317, \"('Mohamed Naser', 'El Sayed Elneny')\": 318, \"('Juan', 'Mata')\": 319, \"('Nathan', 'Redmond')\": 320, \"('Mateo', 'Kovacic')\": 321, \"('Filip', 'Krovinovic')\": 322, \"('Jamaal', 'Lascelles')\": 323, \"('Scott', 'Dann')\": 324, \"('Patrick', 'van Aanholt')\": 325, \"('Tariq', 'Lamptey')\": 326, \"('Allan', 'Marques Loureiro')\": 327, \"('Tom', 'Davies')\": 328, \"('Alex Nicolao', 'Telles')\": 329, \"('Alexis', 'Mac Allister')\": 330, \"('Giovani', 'Lo Celso')\": 331, \"('Dan', 'Burn')\": 332, \"('Jonjo', 'Shelvey')\": 333, \"('Kyle', 'Bartley')\": 334, \"('André Filipe', 'Tavares Gomes')\": 335, \"('Nathan', 'Aké')\": 336, \"('Curtis', 'Jones')\": 337, \"('Jamal', 'Lewis')\": 338, \"('David', 'Luiz Moreira Marinho')\": 339, \"('Isaac', 'Hayden')\": 340, \"('Joel', 'Ward')\": 341, \"('Jay', 'Rodriguez')\": 342, \"('Antonee', 'Robinson')\": 343, \"('George', 'Baldock')\": 344, \"('Benjamin', 'Mendy')\": 345, \"('Michy', 'Batshuayi')\": 346, \"('Nathaniel', 'Clyne')\": 347, \"('Matt', 'Phillips')\": 348, \"('Nélson', 'Cabral Semedo')\": 349, \"('Frederico', 'Rodrigues de Paula Santos')\": 350, \"('João Filipe Iria', 'Santos Moutinho')\": 351, \"('Fabio', 'Silva')\": 352, \"('Seamus', 'Coleman')\": 353, \"('Ayoze', 'Pérez')\": 354, \"('James', 'Milner')\": 355, \"('Lucas', 'Rodrigues Moura da Silva')\": 356, \"('Olivier', 'Giroud')\": 357, \"('Ciaran', 'Clark')\": 358, \"('Chris', 'Basham')\": 359, \"('Ethan', 'Ampadu')\": 360, \"('Adam', 'Lallana')\": 361, \"('Ainsley', 'Maitland-Niles')\": 362, \"('John', 'Fleck')\": 363, \"('Pascal', 'Struijk')\": 364, \"('Mathew', 'Ryan')\": 365, \"('Edward', 'Nketiah')\": 366, \"('Federico', 'Fernández')\": 367, \"('Romaine', 'Sawyers')\": 368, \"('Luke', 'Shaw')\": 369, \"('César', 'Azpilicueta')\": 370, \"('Marc', 'Albrighton')\": 371, \"('Mason', 'Greenwood')\": 372, \"('Adama', 'Traoré')\": 373, \"('Andy', 'Carroll')\": 374, \"('Harrison', 'Reed')\": 375, \"('Erik', 'Pieters')\": 376, \"('Joël', 'Veltman')\": 377, \"('Jairo', 'Riedewald')\": 378, \"('Leander', 'Dendoncker')\": 379, \"('Diogo', 'Jota')\": 380, \"('Ross', 'Barkley')\": 381, \"('Fabián', 'Balbuena')\": 382, \"('Mahmoud Ahmed', 'Ibrahim Hassan')\": 383, \"('Jacob', 'Murphy')\": 384, \"('Nicolas', 'Pépé')\": 385, \"('Tom', 'Cairney')\": 386, \"('Liam', 'Cooper')\": 387, \"('Nampalys', 'Mendy')\": 388, \"('Ashley', 'Barnes')\": 389, \"('Gabriel Fernando', 'de Jesus')\": 390, \"('Emile', 'Smith Rowe')\": 391, \"('Kortney', 'Hause')\": 392, \"('Aaron', 'Connolly')\": 393, \"('Christian', 'Pulisic')\": 394, \"('Moussa', 'Sissoko')\": 395, \"('Wilfred', 'Ndidi')\": 396, \"('Yves', 'Bissouma')\": 397, \"('Oleksandr', 'Zinchenko')\": 398, \"('Oliver', 'McBurnie')\": 399, \"('Saïd', 'Benrahma')\": 400, \"('Granit', 'Xhaka')\": 401, \"('Rayan', 'Ait Nouri')\": 402, \"('Robbie', 'Brady')\": 403, \"('Moussa', 'Djenepo')\": 404, \"('Ben', 'Davies')\": 405, \"('Darnell', 'Furlong')\": 406, \"('Tyrick', 'Mitchell')\": 407, \"('Adam', 'Webster')\": 408, \"('Matt', 'Doherty')\": 409, \"('Grady', 'Diangana')\": 410, \"('Steven', 'Bergwijn')\": 411, \"('Ruben', 'Loftus-Cheek')\": 412, \"('Jorge Luiz', 'Frello Filho')\": 413, \"('Anwar', 'El Ghazi')\": 414, \"('Willy', 'Boly')\": 415, \"('Miguel', 'Almirón')\": 416, \"('Leandro', 'Trossard')\": 417, \"('Matthew', 'Lowton')\": 418, \"('Hélder Wander', 'Sousa de Azevedo e Costa')\": 419, \"('Cheikhou', 'Kouyaté')\": 420, \"('Joelinton Cássio', 'Apolinário de Lira')\": 421, \"('Raúl', 'Jiménez')\": 422, \"('Ben', 'Godfrey')\": 423, \"('Allan', 'Saint-Maximin')\": 424, \"('Fabio Henrique', 'Tavares')\": 425, \"('Dwight', 'McNeil')\": 426, \"('Ben', 'White')\": 427, \"('Josh', 'Brownhill')\": 428, \"('Jack', 'Stephens')\": 429, \"('Jordan', 'Ayew')\": 430, \"('Dennis', 'Praet')\": 431, \"('Oluwasemilogo Adesewo Ibidapo', 'Ajayi')\": 432, \"('Christian', 'Benteke')\": 433, \"('Max', 'Kilman')\": 434, \"('Ferran', 'Torres')\": 435, \"('James', 'Rodríguez')\": 436, \"('Daniel', 'Ceballos Fernández')\": 437, \"('Robert', 'Sánchez')\": 438, \"('Ivan Ricardo', 'Neves Abreu Cavaleiro')\": 439, \"('Hakim', 'Ziyech')\": 440, \"('Arthur', 'Masuaku')\": 441, '(\"N\\'Golo\", \\'Kanté\\')': 442, \"('Bernardo Mota', 'Veiga de Carvalho e Silva')\": 443, \"('Kai', 'Havertz')\": 444, \"('Joel', 'Matip')\": 445, \"('Tammy', 'Abraham')\": 446, \"('Tosin', 'Adarabioyo')\": 447, \"('Edinson', 'Cavani')\": 448, \"('Willian', 'Borges Da Silva')\": 449, \"('Jordan', 'Pickford')\": 450, \"('Jeffrey', 'Schlupp')\": 451, \"('Oriol', 'Romeu Vidal')\": 452, \"('Conor', 'Coady')\": 453, \"('Craig', 'Dawson')\": 454, \"('James', 'McArthur')\": 455, \"('Karlan', 'Grant')\": 456, \"('Bobby', 'Decordova-Reid')\": 457, \"('Abdoulaye', 'Doucouré')\": 458, \"('Jordan', 'Henderson')\": 459, \"('Sébastien', 'Haller')\": 460, \"('Pascal', 'Groß')\": 461, \"('Pierre-Emile', 'Højbjerg')\": 462, \"('Jonny', 'Evans')\": 463, \"('Lucas', 'Digne')\": 464, \"('Lewis', 'Dunk')\": 465, \"('Kalvin', 'Phillips')\": 466, \"('Rúben Diogo', 'da Silva Neves')\": 467, \"('Douglas Luiz', 'Soares de Paulo')\": 468, \"('Robin', 'Koch')\": 469, \"('Joachim', 'Andersen')\": 470, \"('Rodrigo', 'Hernandez')\": 471, \"('Andros', 'Townsend')\": 472, \"('Luke', 'Ayling')\": 473, \"('Charlie', 'Taylor')\": 474, \"('Jeff', 'Hendrick')\": 475, \"('Aaron', 'Ramsdale')\": 476, \"('Declan', 'Rice')\": 477, \"('Georginio', 'Wijnaldum')\": 478, \"('Wesley', 'Fofana')\": 479, \"('Conor', 'Gallagher')\": 480, \"('Wilfried', 'Zaha')\": 481, \"('Callum', 'Robinson')\": 482, \"('Pierre-Emerick', 'Aubameyang')\": 483, \"('Serge', 'Aurier')\": 484, \"('Chris', 'Wood')\": 485, \"('Daniel', 'Castelo Podence')\": 486, \"('Danny', 'Welbeck')\": 487, \"('Ryan', 'Bertrand')\": 488, \"('André-Frank', 'Zambo Anguissa')\": 489, \"('Scott', 'McTominay')\": 490, \"('Raphael', 'Dias Belloli')\": 491, \"('Alex', 'Iwobi')\": 492, \"('Thiago', 'Thiago')\": 493, \"('Mason', 'Mount')\": 494, \"('Victor', 'Lindelöf')\": 495, \"('Michail', 'Antonio')\": 496, \"('Gylfi', 'Sigurdsson')\": 497, \"('Ezri', 'Konsa Ngoyo')\": 498, \"('Ben', 'Mee')\": 499, \"('Solomon', 'March')\": 500, \"('Sam', 'Johnstone')\": 501, \"('Ashley', 'Westwood')\": 502, \"('Héctor', 'Bellerín')\": 503, \"('Gabriel', 'Magalhães')\": 504, \"('Anthony', 'Martial')\": 505, \"('Paul', 'Pogba')\": 506, \"('Toby', 'Alderweireld')\": 507, \"('Eric', 'Dier')\": 508, \"('Eberechi', 'Eze')\": 509, \"('Tanguy', 'Ndombele')\": 510, \"('David', 'McGoldrick')\": 511, \"('Ollie', 'Watkins')\": 512, \"('Rui Pedro', 'dos Santos Patrício')\": 513, \"('Ezgjan', 'Alioski')\": 514, \"('Jannik', 'Vestergaard')\": 515, \"('Harry', 'Maguire')\": 516, \"('Timothy', 'Castagne')\": 517, \"('Sergio', 'Reguilón')\": 518, \"('Trent', 'Alexander-Arnold')\": 519, \"('Alphonse', 'Areola')\": 520, \"('James', 'Tarkowski')\": 521, \"('Theo', 'Walcott')\": 522, \"('Richarlison', 'de Andrade')\": 523, \"('Ola', 'Aina')\": 524, \"('Roberto', 'Firmino')\": 525, \"('Rodrigo', 'Moreno')\": 526, \"('Yerry', 'Mina')\": 527, \"('John', 'McGinn')\": 528, \"('Matthew', 'Cash')\": 529, \"('Kyle', 'Walker-Peters')\": 530, \"('Youri', 'Tielemans')\": 531, \"('Matheus', 'Pereira')\": 532, \"('Mateusz', 'Klich')\": 533, \"('Ademola', 'Lookman')\": 534, \"('Neal', 'Maupay')\": 535, \"('Phil', 'Foden')\": 536, \"('David', 'de Gea')\": 537, \"('Kasper', 'Schmeichel')\": 538, \"('Kyle', 'Walker')\": 539, \"('Vladimir', 'Coufal')\": 540, \"('Reece', 'James')\": 541, \"('Romain', 'Saïss')\": 542, \"('Jan', 'Bednarek')\": 543, \"('Vicente', 'Guaita')\": 544, \"('Karl', 'Darlow')\": 545, \"('Rob', 'Holding')\": 546, \"('Aaron', 'Wan-Bissaka')\": 547, \"('Alisson', 'Ramses Becker')\": 548, \"('Alexandre', 'Lacazette')\": 549, \"('Edouard', 'Mendy')\": 550, \"('Timo', 'Werner')\": 551, \"('Bertrand', 'Traoré')\": 552, \"('Pablo', 'Fornals')\": 553, \"('Hugo', 'Lloris')\": 554, \"('Harvey', 'Barnes')\": 555, \"('Angelo', 'Ogbonna')\": 556, \"('Stuart', 'Armstrong')\": 557, \"('Benjamin', 'Chilwell')\": 558, \"('Ederson', 'Santana de Moraes')\": 559, \"('Stuart', 'Dallas')\": 560, \"('Bernd', 'Leno')\": 561, \"('John', 'Stones')\": 562, \"('Kurt', 'Zouma')\": 563, \"('Michael', 'Keane')\": 564, \"('Jack', 'Grealish')\": 565, \"('Danny', 'Ings')\": 566, \"('Lukasz', 'Fabianski')\": 567, \"('Jarrod', 'Bowen')\": 568, \"('Alex', 'McCarthy')\": 569, \"('James', 'Justin')\": 570, \"('Bukayo', 'Saka')\": 571, \"('Pedro', 'Lomba Neto')\": 572, \"('James', 'Maddison')\": 573, \"('Kieran', 'Tierney')\": 574, \"('Sadio', 'Mané')\": 575, \"('Riyad', 'Mahrez')\": 576, \"('Rúben Santos', 'Gato Alves Dias')\": 577, \"('João Pedro Cavaco', 'Cancelo')\": 578, \"('Jack', 'Harrison')\": 579, \"('Ilkay', 'Gündogan')\": 580, \"('Che', 'Adams')\": 581, \"('Matt', 'Targett')\": 582, \"('Illan', 'Meslier')\": 583, \"('Jamie', 'Vardy')\": 584, \"('Dominic', 'Calvert-Lewin')\": 585, \"('Tomas', 'Soucek')\": 586, \"('Nick', 'Pope')\": 587, \"('Tyrone', 'Mings')\": 588, \"('James', 'Ward-Prowse')\": 589, \"('Raheem', 'Sterling')\": 590, \"('Kevin', 'De Bruyne')\": 591, \"('Callum', 'Wilson')\": 592, \"('Andrew', 'Robertson')\": 593, \"('Marcus', 'Rashford')\": 594, \"('Aaron', 'Cresswell')\": 595, \"('Patrick', 'Bamford')\": 596, \"('Emiliano', 'Martínez')\": 597, \"('Mohamed', 'Salah')\": 598, \"('Heung-Min', 'Son')\": 599, \"('Bruno Miguel', 'Borges Fernandes')\": 600, \"('Harry', 'Kane')\": 601}\n",
      "\n",
      "oppositionTeam\n",
      "{'Manchester City': 0, 'Tottenham Hotspur': 1, 'Liverpool': 2, 'Aston Villa': 3, 'Manchester United': 4, 'Leicester City': 5, 'Everton': 6, 'West Ham United': 7, 'Arsenal': 8, 'Southampton': 9, 'Brighton and Hove Albion': 10, 'Chelsea': 11, 'Wolverhampton Wanderers': 12, 'Leeds': 13, 'Fulham': 14, 'Burnley': 15, 'Newcastle United': 16, 'Crystal Palace': 17, 'Sheffield United': 18, 'West Bromwich Albion': 19}\n",
      "\n"
     ]
    },
    {
     "name": "stderr",
     "output_type": "stream",
     "text": [
      "<ipython-input-9-d2912f90c9c8>:11: SettingWithCopyWarning: \n",
      "A value is trying to be set on a copy of a slice from a DataFrame.\n",
      "Try using .loc[row_indexer,col_indexer] = value instead\n",
      "\n",
      "See the caveats in the documentation: https://pandas.pydata.org/pandas-docs/stable/user_guide/indexing.html#returning-a-view-versus-a-copy\n",
      "  train[var] = train[var].map(ordinal_label)\n",
      "<ipython-input-9-d2912f90c9c8>:12: SettingWithCopyWarning: \n",
      "A value is trying to be set on a copy of a slice from a DataFrame.\n",
      "Try using .loc[row_indexer,col_indexer] = value instead\n",
      "\n",
      "See the caveats in the documentation: https://pandas.pydata.org/pandas-docs/stable/user_guide/indexing.html#returning-a-view-versus-a-copy\n",
      "  test[var] = test[var].map(ordinal_label)\n"
     ]
    }
   ],
   "source": [
    "# code was brought forward from notebook 3_FeatureEngineering\n",
    "# Encoding Categorical Variables\n",
    "def ReplaceCategories(train, test, var, target):\n",
    "    # order labels in a var from low to high\n",
    "    ordered_labels = train.groupby(var)[target].mean().sort_values().index\n",
    "    \n",
    "    # create a dictionary of ordered labels to integer values\n",
    "    ordinal_label = {k: i for i, k in enumerate(ordered_labels, 0)}\n",
    "    \n",
    "    # use the dict to replace cat strings with integers\n",
    "    train[var] = train[var].map(ordinal_label)\n",
    "    test[var] = test[var].map(ordinal_label)\n",
    "    print(var)\n",
    "    print(ordinal_label)\n",
    "    print()\n",
    "\n",
    "for var in cat_vars:\n",
    "    ReplaceCategories(X_train, X_test, var, 'points')"
   ]
  },
  {
   "cell_type": "markdown",
   "metadata": {},
   "source": [
    "##### Check for na in test and train\n",
    "\n",
    "use features rather than X_train.columns or X_test.columns"
   ]
  },
  {
   "cell_type": "code",
   "execution_count": 10,
   "metadata": {},
   "outputs": [
    {
     "data": {
      "text/plain": [
       "[]"
      ]
     },
     "execution_count": 10,
     "metadata": {},
     "output_type": "execute_result"
    }
   ],
   "source": [
    "[\n",
    "    var for var in features\n",
    "    if X_train[var].isnull().sum() > 0\n",
    "]"
   ]
  },
  {
   "cell_type": "code",
   "execution_count": 11,
   "metadata": {},
   "outputs": [
    {
     "data": {
      "text/plain": [
       "[]"
      ]
     },
     "execution_count": 11,
     "metadata": {},
     "output_type": "execute_result"
    }
   ],
   "source": [
    "[\n",
    "    var for var in features\n",
    "    if X_test[var].isnull().sum() > 0\n",
    "]"
   ]
  },
  {
   "cell_type": "markdown",
   "metadata": {},
   "source": [
    "### Feature Scaling"
   ]
  },
  {
   "cell_type": "code",
   "execution_count": 12,
   "metadata": {},
   "outputs": [],
   "source": [
    "# capture the targets\n",
    "y_train = X_train['points']\n",
    "y_test = X_test['points']"
   ]
  },
  {
   "cell_type": "code",
   "execution_count": 13,
   "metadata": {},
   "outputs": [
    {
     "data": {
      "text/plain": [
       "MinMaxScaler()"
      ]
     },
     "execution_count": 13,
     "metadata": {},
     "output_type": "execute_result"
    }
   ],
   "source": [
    "# setup scaler\n",
    "scaler = MinMaxScaler()\n",
    "\n",
    "# fit the scaler\n",
    "scaler.fit(X_train[features])"
   ]
  },
  {
   "cell_type": "code",
   "execution_count": 14,
   "metadata": {},
   "outputs": [
    {
     "data": {
      "text/plain": [
       "array([ 90. ,   4. ,   4. ,   1. ,   7. ,   1. ,   1. ,   1. ,   1. ,\n",
       "        11. ,   3. , 117.2,  78.4, 161. ,  12. , 601. ,  19. ])"
      ]
     },
     "execution_count": 14,
     "metadata": {},
     "output_type": "execute_result"
    }
   ],
   "source": [
    "scaler.data_max_"
   ]
  },
  {
   "cell_type": "code",
   "execution_count": 15,
   "metadata": {},
   "outputs": [
    {
     "data": {
      "text/plain": [
       "array([0., 0., 0., 0., 0., 0., 0., 0., 0., 0., 0., 0., 0., 0., 4., 0., 0.])"
      ]
     },
     "execution_count": 15,
     "metadata": {},
     "output_type": "execute_result"
    }
   ],
   "source": [
    "scaler.data_min_"
   ]
  },
  {
   "cell_type": "code",
   "execution_count": 16,
   "metadata": {},
   "outputs": [],
   "source": [
    "# transform the train and test set\n",
    "X_train = scaler.transform(X_train[features])\n",
    "X_test = scaler.transform(X_test[features])"
   ]
  },
  {
   "cell_type": "markdown",
   "metadata": {},
   "source": [
    "### Train the Linear Regression: Lasso"
   ]
  },
  {
   "cell_type": "code",
   "execution_count": 17,
   "metadata": {},
   "outputs": [
    {
     "data": {
      "text/plain": [
       "['lasso_regression.pkl']"
      ]
     },
     "execution_count": 17,
     "metadata": {},
     "output_type": "execute_result"
    }
   ],
   "source": [
    "# setup the model\n",
    "# remember to set the random_state/seed\n",
    "lin_model = Lasso(alpha=0.005, random_state=0)\n",
    "# train the model\n",
    "lin_model.fit(X_train, y_train)\n",
    "\n",
    "# persist the model for future use\n",
    "joblib.dump(lin_model, 'lasso_regression.pkl')"
   ]
  },
  {
   "cell_type": "code",
   "execution_count": 18,
   "metadata": {},
   "outputs": [
    {
     "name": "stdout",
     "output_type": "stream",
     "text": [
      "train mse: 0\n",
      "train rmse: 0\n",
      "train r2: 0.92766149276739\n",
      "\n",
      "test mse: 0\n",
      "test rmse: 0\n",
      "test r2: 0.930811520170473\n"
     ]
    }
   ],
   "source": [
    "# predict train using the model\n",
    "pred = lin_model.predict(X_train)\n",
    "# determine the mse, rmse and r2\n",
    "print('train mse: {}'.format(int(mean_squared_error(y_train, pred))))\n",
    "print('train rmse: {}'.format(int(sqrt(mean_squared_error(y_train, pred)))))\n",
    "print('train r2: {}'.format(r2_score(y_train, pred)))\n",
    "print()\n",
    "# predict test using the model\n",
    "pred = lin_model.predict(X_test)\n",
    "# determine the mse, rmse and r2\n",
    "print('test mse: {}'.format(int(mean_squared_error(y_test, pred))))\n",
    "print('test rmse: {}'.format(int(sqrt(mean_squared_error(y_test, pred)))))\n",
    "print('test r2: {}'.format(r2_score(y_test, pred)))"
   ]
  }
 ],
 "metadata": {
  "kernelspec": {
   "display_name": "Python 3",
   "language": "python",
   "name": "python3"
  },
  "language_info": {
   "codemirror_mode": {
    "name": "ipython",
    "version": 3
   },
   "file_extension": ".py",
   "mimetype": "text/x-python",
   "name": "python",
   "nbconvert_exporter": "python",
   "pygments_lexer": "ipython3",
   "version": "3.8.5"
  }
 },
 "nbformat": 4,
 "nbformat_minor": 4
}
